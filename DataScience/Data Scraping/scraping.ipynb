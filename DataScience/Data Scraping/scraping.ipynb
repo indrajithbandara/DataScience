{
 "metadata": {
  "name": "",
  "signature": "sha256:409cac2499894cae76f16a171dfc3b7d88df02b9a4c5776005cfdb19a6c890a2"
 },
 "nbformat": 3,
 "nbformat_minor": 0,
 "worksheets": [
  {
   "cells": [
    {
     "cell_type": "code",
     "collapsed": false,
     "input": [
      "## all imports\n",
      "from IPython.display import HTML\n",
      "import numpy as np\n",
      "import urllib2\n",
      "import bs4 #this is beautiful soup\n",
      "\n",
      "from pandas import Series\n",
      "import pandas as pd\n",
      "from pandas import DataFrame\n",
      "\n",
      "import matplotlib\n",
      "import matplotlib.pyplot as plt\n",
      "%matplotlib inline\n",
      "\n",
      "import seaborn as sns\n",
      "sns.set_context(\"talk\")\n",
      "sns.set_style(\"white\")"
     ],
     "language": "python",
     "metadata": {},
     "outputs": [],
     "prompt_number": 1
    },
    {
     "cell_type": "code",
     "collapsed": false,
     "input": [
      "url = 'https://www.hasjob.co'\n",
      "source = urllib2.urlopen(url).read()"
     ],
     "language": "python",
     "metadata": {},
     "outputs": [],
     "prompt_number": 2
    },
    {
     "cell_type": "code",
     "collapsed": false,
     "input": [
      "jobs = bs4.BeautifulSoup(source)"
     ],
     "language": "python",
     "metadata": {},
     "outputs": [],
     "prompt_number": 4
    },
    {
     "cell_type": "code",
     "collapsed": false,
     "input": [
      "links = jobs.findAll('a', {'class': 'stickie'})"
     ],
     "language": "python",
     "metadata": {},
     "outputs": [],
     "prompt_number": 9
    },
    {
     "cell_type": "code",
     "collapsed": false,
     "input": [
      "# so see how many job postings we got\n",
      "print 'Number of new job postings found are {0}'.format(len(links))"
     ],
     "language": "python",
     "metadata": {},
     "outputs": [
      {
       "output_type": "stream",
       "stream": "stdout",
       "text": [
        "Number of new job postings found are 12\n"
       ]
      }
     ],
     "prompt_number": 16
    },
    {
     "cell_type": "code",
     "collapsed": false,
     "input": [
      "# lets see a sample job posting\n",
      "print links[0]"
     ],
     "language": "python",
     "metadata": {},
     "outputs": [
      {
       "output_type": "stream",
       "stream": "stdout",
       "text": [
        "<a class=\"stickie\" href=\"/view/0dtt3\" rel=\"bookmark\">\n",
        "<span class=\"annotation top-left\">Bangalore</span>\n",
        "<span class=\"annotation top-right\">Dec 22</span>\n",
        "<span class=\"headline\">Senior iOS developer for a High Growth, funded Healthcare Startup. Industry best salary + ESOP</span>\n",
        "<span class=\"annotation bottom-right\">DailyRounds</span><span class=\"new annotation bottom-left\">New!</span>\n",
        "</a>\n"
       ]
      }
     ],
     "prompt_number": 17
    },
    {
     "cell_type": "code",
     "collapsed": false,
     "input": [
      "print links[0].contents"
     ],
     "language": "python",
     "metadata": {},
     "outputs": [
      {
       "output_type": "stream",
       "stream": "stdout",
       "text": [
        "[u'\\n', <span class=\"annotation top-left\">Bangalore</span>, u'\\n', <span class=\"annotation top-right\">Dec 22</span>, u'\\n', <span class=\"headline\">Senior iOS developer for a High Growth, funded Healthcare Startup. Industry best salary + ESOP</span>, u'\\n', <span class=\"annotation bottom-right\">DailyRounds</span>, <span class=\"new annotation bottom-left\">New!</span>, u'\\n']\n"
       ]
      }
     ],
     "prompt_number": 18
    },
    {
     "cell_type": "code",
     "collapsed": false,
     "input": [
      "for listing in links[0].contents:\n",
      "    if listing != '\\n':\n",
      "        if listing.get('class')[0] == 'headline':\n",
      "            print listing.contents"
     ],
     "language": "python",
     "metadata": {},
     "outputs": [
      {
       "output_type": "stream",
       "stream": "stdout",
       "text": [
        "[u'Senior iOS developer for a High Growth, funded Healthcare Startup. Industry best salary + ESOP']\n"
       ]
      }
     ],
     "prompt_number": 23
    },
    {
     "cell_type": "code",
     "collapsed": false,
     "input": [
      "# we get newline character for each inner noder\n",
      "# so we have to loop in an alternative manner so as to only capture useful content\n",
      "# span with class top-left represents City Name\n",
      "# span with class top-right represents date on which this job was posted\n",
      "# span with class headline is the Job description\n",
      "# span with class bottom-right is the name of the company that posted this job\n",
      "# span with class bottom-left just states whether this posting is new or not\n",
      "\n",
      "# We will look for only for those job postings which have 'Data' in their job description\n",
      "# as I am only interested in jobs related to data science and analytics\n",
      "\n",
      "def find_jobs(jobs, keyword):\n",
      "    desired_jobs = []\n",
      "    for job in jobs:\n",
      "        for listing in job.contents:\n",
      "            if listing != '\\n':\n",
      "                if listing.get('class')[0] == 'headline':\n",
      "                    headline = listing.contents[0].lower()\n",
      "                    if keyword in headline:\n",
      "                        desired_jobs.append(headline)\n",
      "    return desired_jobs"
     ],
     "language": "python",
     "metadata": {},
     "outputs": [],
     "prompt_number": 47
    },
    {
     "cell_type": "code",
     "collapsed": false,
     "input": [
      "desired_jobs = find_jobs(links, 'data')"
     ],
     "language": "python",
     "metadata": {},
     "outputs": [],
     "prompt_number": 40
    },
    {
     "cell_type": "code",
     "collapsed": false,
     "input": [
      "print desired_jobs"
     ],
     "language": "python",
     "metadata": {},
     "outputs": [
      {
       "output_type": "stream",
       "stream": "stdout",
       "text": [
        "[]\n"
       ]
      }
     ],
     "prompt_number": 41
    },
    {
     "cell_type": "code",
     "collapsed": false,
     "input": [
      "desired_jobs = find_jobs(links, 'ios')"
     ],
     "language": "python",
     "metadata": {},
     "outputs": [],
     "prompt_number": 42
    },
    {
     "cell_type": "code",
     "collapsed": false,
     "input": [
      "print desired_jobs"
     ],
     "language": "python",
     "metadata": {},
     "outputs": [
      {
       "output_type": "stream",
       "stream": "stdout",
       "text": [
        "[u'senior ios developer for a high growth, funded healthcare startup. industry best salary + esop']\n"
       ]
      }
     ],
     "prompt_number": 43
    },
    {
     "cell_type": "code",
     "collapsed": false,
     "input": [
      "desired_jobs = find_jobs(links, 'android')"
     ],
     "language": "python",
     "metadata": {},
     "outputs": [],
     "prompt_number": 44
    },
    {
     "cell_type": "code",
     "collapsed": false,
     "input": [
      "print desired_jobs"
     ],
     "language": "python",
     "metadata": {},
     "outputs": [
      {
       "output_type": "stream",
       "stream": "stdout",
       "text": [
        "[u'programmers : android, java script, html & css ', u'senior software engineer - android']\n"
       ]
      }
     ],
     "prompt_number": 45
    },
    {
     "cell_type": "code",
     "collapsed": false,
     "input": [
      "# so far we have only found job listings not very meaningful information\n",
      "# lets now return name of the company along with the job listing"
     ],
     "language": "python",
     "metadata": {},
     "outputs": [],
     "prompt_number": 46
    },
    {
     "cell_type": "code",
     "collapsed": false,
     "input": [
      "def find_jobs_with_company(jobs, keyword):\n",
      "    desired_jobs = {}\n",
      "    for job in jobs:\n",
      "        for listing in job.contents:\n",
      "            if listing != '\\n':\n",
      "                if listing.get('class')[0] == 'headline':\n",
      "                    headline = listing.contents[0].lower()\n",
      "                    if keyword in headline:\n",
      "                        # 8th column is the name of the company\n",
      "                        company_name = job.contents[7].contents[0]\n",
      "                        desired_jobs[company_name] = headline\n",
      "    return desired_jobs"
     ],
     "language": "python",
     "metadata": {},
     "outputs": [],
     "prompt_number": 48
    },
    {
     "cell_type": "code",
     "collapsed": false,
     "input": [
      "desired_jobs = find_jobs_with_company(links, 'ios')"
     ],
     "language": "python",
     "metadata": {},
     "outputs": [],
     "prompt_number": 49
    },
    {
     "cell_type": "code",
     "collapsed": false,
     "input": [
      "print desired_jobs"
     ],
     "language": "python",
     "metadata": {},
     "outputs": [
      {
       "output_type": "stream",
       "stream": "stdout",
       "text": [
        "{u'DailyRounds': u'senior ios developer for a high growth, funded healthcare startup. industry best salary + esop'}\n"
       ]
      }
     ],
     "prompt_number": 50
    },
    {
     "cell_type": "code",
     "collapsed": false,
     "input": [
      "desired_jobs = find_jobs_with_company(links, 'android')"
     ],
     "language": "python",
     "metadata": {},
     "outputs": [],
     "prompt_number": 51
    },
    {
     "cell_type": "code",
     "collapsed": false,
     "input": [
      "print desired_jobs"
     ],
     "language": "python",
     "metadata": {},
     "outputs": [
      {
       "output_type": "stream",
       "stream": "stdout",
       "text": [
        "{u'Perk.com': u'senior software engineer - android', u'Debug Your Mind Labs ': u'programmers : android, java script, html & css '}\n"
       ]
      }
     ],
     "prompt_number": 52
    },
    {
     "cell_type": "code",
     "collapsed": false,
     "input": [
      "# next gather all the data for various categories"
     ],
     "language": "python",
     "metadata": {},
     "outputs": []
    }
   ],
   "metadata": {}
  }
 ]
}