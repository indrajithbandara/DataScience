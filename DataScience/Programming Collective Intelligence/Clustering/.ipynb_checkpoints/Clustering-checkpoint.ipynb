{
 "metadata": {
  "name": "",
  "signature": "sha256:a4eb86eb657d3676025d86f9de7af37b6710c81839d07aec8535ea4715001a8f"
 },
 "nbformat": 3,
 "nbformat_minor": 0,
 "worksheets": [
  {
   "cells": [
    {
     "cell_type": "code",
     "collapsed": false,
     "input": [
      "# import libraries\n",
      "import feedparser\n",
      "import re\n",
      "import requests\n",
      "from bs4 import BeautifulSoup"
     ],
     "language": "python",
     "metadata": {},
     "outputs": [],
     "prompt_number": 5
    },
    {
     "cell_type": "code",
     "collapsed": false,
     "input": [
      "# Returns title and dictionary of word counts for an RSS feed\n",
      "def getwordcounts(url):\n",
      "    # Parse the feed\n",
      "    d = feedparser.parse(url)\n",
      "    wc = {}\n",
      "    \n",
      "    #Loop over all the entries\n",
      "    for e in d.entries:\n",
      "        if 'summary' in e: summary = e.summary\n",
      "        else: summary = e.description\n",
      "        \n",
      "        # Extracts a list of words\n",
      "        words = getwords(e.title + ' ' + summary)\n",
      "        for word in words:\n",
      "            wc.setdefault(word, 0)\n",
      "            wc[word] += 1\n",
      "        \n",
      "    return d.feed.title, wc\n",
      "\n",
      "def getwordcountsHTML(url):\n",
      "    # Get the content\n",
      "    try:\n",
      "        content = requests.get(url).text\n",
      "        wc = {}\n",
      "    \n",
      "        # Extract a list of words\n",
      "        words = getwords(content)\n",
      "        for word in words:\n",
      "            wc.setdefault(word, 0)\n",
      "            wc[word] += 1\n",
      "\n",
      "        return url, wc\n",
      "    except Exception:\n",
      "        return url, {}"
     ],
     "language": "python",
     "metadata": {},
     "outputs": [],
     "prompt_number": 27
    },
    {
     "cell_type": "code",
     "collapsed": false,
     "input": [
      "def getwords(html):\n",
      "    # Remove all the HTML tags\n",
      "    txt = re.compile(r'<[^>]+>').sub('', html)\n",
      "    \n",
      "    # Split words by all non-alpha characters\n",
      "    words = re.compile(r'[^A-Z^a-z]').split(txt)\n",
      "    \n",
      "    # Convert to lowercase\n",
      "    return [word.lower() for word in words if word != '']"
     ],
     "language": "python",
     "metadata": {},
     "outputs": [],
     "prompt_number": 20
    },
    {
     "cell_type": "code",
     "collapsed": false,
     "input": [
      "# fetch top 50 blogs in India\n",
      "def getBlogs():\n",
      "    \n",
      "    blog_data = requests.get('http://www.blogmetrics.org/india').text\n",
      "    blog_parsed = BeautifulSoup(blog_data)\n",
      "    blog_links = blog_parsed.find_all(class_='topblogs_bg-content_title')\n",
      "    \n",
      "    return [link.find('a')['href'] for link in blog_links]\n"
     ],
     "language": "python",
     "metadata": {},
     "outputs": [],
     "prompt_number": 21
    },
    {
     "cell_type": "code",
     "collapsed": false,
     "input": [
      "blog_links = getBlogs()"
     ],
     "language": "python",
     "metadata": {},
     "outputs": [],
     "prompt_number": 22
    },
    {
     "cell_type": "code",
     "collapsed": false,
     "input": [
      "def generateMatrix(blog_links):\n",
      "    apcount = {}\n",
      "    wordcounts = {}\n",
      "    \n",
      "    for feedurl in blog_links:\n",
      "        title, wc = getwordcountsHTML(feedurl)\n",
      "        wordcounts[title] = wc\n",
      "        for word, count in wc.items():\n",
      "            apcount.setdefault(word, 0)\n",
      "            if count > 1:\n",
      "                apcount[word] += 1\n",
      "    \n",
      "    wordlist = []\n",
      "    for w, bc in apcount.items():\n",
      "        frac = float(bc) / len(feedlist)\n",
      "        if frac > 0.1 and frac < 0.5: wordlist.append(w)\n",
      "    \n",
      "    out = file('./data/blogdata.txt', 'w')\n",
      "    out.write('Blog')\n",
      "    for word in wordlist: out.write('\\t%s' %word)\n",
      "    out.write('\\n')\n",
      "    \n",
      "    for blog, wc in wordcounts.items():\n",
      "        out.write(blog)\n",
      "        for word in wordlist:\n",
      "            if word in wc: out.write('\\t%d' %wc[word])\n",
      "            else: out.write('\\t0')\n",
      "        out.write('\\n')\n"
     ],
     "language": "python",
     "metadata": {},
     "outputs": [],
     "prompt_number": 23
    },
    {
     "cell_type": "code",
     "collapsed": false,
     "input": [
      "generateMatrix(blog_links)"
     ],
     "language": "python",
     "metadata": {},
     "outputs": []
    },
    {
     "cell_type": "code",
     "collapsed": false,
     "input": [],
     "language": "python",
     "metadata": {},
     "outputs": []
    }
   ],
   "metadata": {}
  }
 ]
}