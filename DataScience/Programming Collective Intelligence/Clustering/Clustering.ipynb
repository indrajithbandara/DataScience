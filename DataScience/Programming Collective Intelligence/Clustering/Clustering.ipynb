{
 "metadata": {
  "name": "",
  "signature": "sha256:7336e074677d4072830372b0270618b942d36be3acb5b369c00d9f06e533fa12"
 },
 "nbformat": 3,
 "nbformat_minor": 0,
 "worksheets": [
  {
   "cells": [
    {
     "cell_type": "code",
     "collapsed": false,
     "input": [
      "# import libraries\n",
      "import feedparser\n",
      "import re\n",
      "import requests\n",
      "from bs4 import BeautifulSoup"
     ],
     "language": "python",
     "metadata": {},
     "outputs": [],
     "prompt_number": 26
    },
    {
     "cell_type": "code",
     "collapsed": false,
     "input": [
      "def findRSSUrls(url):\n",
      "    webpage = requests.get(url).text\n",
      "    parsedWebPage = BeautifulSoup(webpage)\n",
      "    divContainingRssUrls = parsedWebPage.find_all(class_='col-2')\n",
      "    return [div.find('a')['href'] for div in divContainingRssUrls \n",
      "            if 'xml' in div.find('a')['href'] and 'http' not in div.find('a')['href']]"
     ],
     "language": "python",
     "metadata": {},
     "outputs": [],
     "prompt_number": 23
    },
    {
     "cell_type": "code",
     "collapsed": false,
     "input": [
      "print findRSSUrls('http://www.zdnet.com/rssfeeds/')"
     ],
     "language": "python",
     "metadata": {},
     "outputs": [
      {
       "output_type": "stream",
       "stream": "stdout",
       "text": [
        "['/blog/rss.xml', '/news/rss.xml', '/topic/reviews/rss.xml', '/rss.xml', '/au/rss.xml', '/uk/rss.xml', '/us/rss.xml', '/as/rss.xml', '/blog/transforming-datacenter/rss.xml', '/blog/smb-india/rss.xml', '/blog/indonesia-biztech/rss.xml', '/blog/hong-kong-techie/rss.xml', '/blog/tech-taiwan/rss.xml', '/blog/startup-india/rss.xml', '/blog/starting-up-asia/rss.xml', '/blog/partner/rss.xml', '/blog/post-pc/rss.xml', '/blog/benelux/rss.xml', '/blog/heat-sink/rss.xml', '/blog/italy/rss.xml', '/blog/african-enterprise/rss.xml', '/blog/new-india/rss.xml', '/blog/estonia/rss.xml', '/blog/iberia/rss.xml', '/blog/brazil/rss.xml', '/blog/500-words-into-the-future/rss.xml', '/blog/sap/rss.xml', '/blog/microsoft/rss.xml', '/blog/back-office/rss.xml', '/blog/barker-bites-back/rss.xml', '/blog/btl/rss.xml', '/blog/big-data/rss.xml', '/blog/bootstrappr/rss.xml', '/blog/by-the-way/rss.xml', '/blog/central-europe/rss.xml', '/blog/cloud-builders/rss.xml', '/blog/communication-breakdown/rss.xml', '/blog/collaboration/rss.xml', '/blog/constellation/rss.xml', '/blog/consumerization/rss.xml', '/blog/diy-it/rss.xml', '/blog/hinchcliffe/rss.xml', '/blog/datacenter/rss.xml', '/blog/forrester/rss.xml', '/blog/full-duplex/rss.xml', '/blog/gen-why/rss.xml', '/blog/hardware/rss.xml', '/blog/identity/rss.xml', '/blog/igeneration/rss.xml', '/blog/cisco/rss.xml', '/blog/projectfailures/rss.xml', '/blog/jamies-mostly-linux-stuff/rss.xml', '/blog/jacks-blog/rss.xml', '/blog/computers/rss.xml', '/blog/open-source/rss.xml', '/blog/london/rss.xml', '/blog/mapping-babel/rss.xml', '/blog/mixed-signals/rss.xml', '/blog/mobile-india/rss.xml', '/blog/mobile-news/rss.xml', '/blog/networking/rss.xml', '/blog/norse-code/rss.xml', '/blog/null-pointer/rss.xml', '/blog/the-full-tilt/rss.xml', '/blog/pinoy-post/rss.xml', '/blog/practically-tech/rss.xml', '/blog/product-central/rss.xml', '/blog/violetblue/rss.xml', '/blog/qubits-and-pieces/rss.xml', '/blog/securify-this/rss.xml', '/blog/service-oriented/rss.xml', '/blog/small-talk/rss.xml', '/blog/small-business-matters/rss.xml', '/blog/cell-phones/rss.xml', '/blog/feeds/rss.xml', '/blog/crm/rss.xml', '/blog/sommer/rss.xml', '/blog/storage/rss.xml', '/blog/apac-redhat/rss.xml', '/blog/techie-isles/rss.xml', '/blog/technolatte/rss.xml', '/blog/tech-podium/rss.xml', '/blog/tel-aviv/rss.xml', '/blog/perlow/rss.xml', '/blog/the-sanman/rss.xml', '/blog/the-open-source-revolution/rss.xml', '/blog/german/rss.xml', '/blog/bott/rss.xml', '/blog/mobile-gadgeteer/rss.xml', '/blog/apple/rss.xml', '/blog/foremski/rss.xml', '/blog/twisted-wire/rss.xml', '/blog/france/rss.xml', '/blog/virtualization/rss.xml', '/blog/china/rss.xml', '/blog/web-design-and-free-software/rss.xml', '/blog/government/rss.xml', '/blog/zdnet-uk-book-reviews/rss.xml', '/blog/zdnet-uk-first-take/rss.xml', '/blog/security/rss.xml', '/topic/android/rss.xml', '/topic/apple/rss.xml', '/topic/browser/rss.xml', '/topic/collaboration/rss.xml', '/topic/enterprise-software/rss.xml', '/topic/google/rss.xml', '/topic/great-debate/rss.xml', '/topic/hardware/rss.xml', '/topic/ibm/rss.xml', '/topic/ios/rss.xml', '/topic/iphone/rss.xml', '/topic/ipad/rss.xml', '/topic/it-priorities/rss.xml', '/topic/laptops/rss.xml', '/topic/legal/rss.xml', '/topic/linux/rss.xml', '/topic/microsoft/rss.xml', '/topic/mobile-os/rss.xml', '/topic/mobility/rss.xml', '/topic/networking/rss.xml', '/topic/operating-systems/rss.xml', '/topic/oracle/rss.xml', '/topic/processors/rss.xml', '/topic/samsung/rss.xml', '/topic/security/rss.xml', '/topic/small-business-going-big-on-mobility/rss.xml', '/blog/digitalcameras/rss.xml', '/blog/home-theater/rss.xml', '/blog/computers/rss.xml', '/blog/mobile-gadgeteer/rss.xml', '/blog/cell-phones/rss.xml', '/blog/gadgetreviews/rss.xml', '/blog/education/rss.xml', '/blog/healthcare/rss.xml', '/blog/government/rss.xml']\n"
       ]
      }
     ],
     "prompt_number": 24
    },
    {
     "cell_type": "code",
     "collapsed": false,
     "input": [
      "prefixUrl = 'http://www.zdnet.com'"
     ],
     "language": "python",
     "metadata": {},
     "outputs": [],
     "prompt_number": 41
    },
    {
     "cell_type": "code",
     "collapsed": false,
     "input": [
      "parsedRSS = feedparser.parse(prefixUrl + 'blog/rss.xml')"
     ],
     "language": "python",
     "metadata": {},
     "outputs": [],
     "prompt_number": 28
    },
    {
     "cell_type": "code",
     "collapsed": false,
     "input": [
      "def getwords(html):\n",
      "    \n",
      "    # Remove all the HTML tags\n",
      "    txt = re.compile(r'<[^>]+>').sub('', html)\n",
      "    \n",
      "    # Split words by all non-alpha characters\n",
      "    words = re.compile(r'[^A-Z^a-z]+').split(txt)\n",
      "    \n",
      "    # Convert to lowercase\n",
      "    return [word.lower() for word in words if word != '']\n",
      "    \n",
      "    \n",
      "def getwordcounts(url):\n",
      "    # Parse the feed\n",
      "    d = feedparser.parse(url)\n",
      "    wc = {}\n",
      "    \n",
      "    # Loop over all the entries\n",
      "    for e in d.entries:\n",
      "        if 'summary' in e: summary = e.summary\n",
      "        else: summary = e.description\n",
      "        \n",
      "        # Extract a list of words\n",
      "        words = getwords(e.title + ' ' + summary)\n",
      "        \n",
      "        for word in words:\n",
      "            wc.setdefault(word, 0)\n",
      "            wc[word] += 1\n",
      "    \n",
      "    return d.feed.title, wc"
     ],
     "language": "python",
     "metadata": {},
     "outputs": [],
     "prompt_number": 34
    },
    {
     "cell_type": "code",
     "collapsed": false,
     "input": [
      "title, wc = getwordcounts(prefixUrl + '/blog/smb-india/rss.xml')"
     ],
     "language": "python",
     "metadata": {},
     "outputs": [],
     "prompt_number": 42
    },
    {
     "cell_type": "code",
     "collapsed": false,
     "input": [
      "title"
     ],
     "language": "python",
     "metadata": {},
     "outputs": [
      {
       "metadata": {},
       "output_type": "pyout",
       "prompt_number": 43,
       "text": [
        "u'ZDNet | SMB India RSS'"
       ]
      }
     ],
     "prompt_number": 43
    },
    {
     "cell_type": "code",
     "collapsed": false,
     "input": [
      "def generateWordCountMatrix(urls):\n",
      "    apcount = {}\n",
      "    wordcounts = {}\n",
      "    \n",
      "    for feedurl in urls:\n",
      "        title, wc = getwordcounts(prefixUrl + feedurl)\n",
      "        wordcounts[title] = wc\n",
      "        for word, count in wc.items():\n",
      "            apcount.setdefault(word, 0)\n",
      "            if count > 1:\n",
      "                apcount[word] += 1\n",
      "    \n",
      "    wordlist = []\n",
      "    for w, blogCount in apcount.items():\n",
      "        frac=float(blogCount) / len(urls)\n",
      "        if frac > 0.1 and frac < 0.8: wordlist.append(w)\n",
      "    \n",
      "    \n",
      "    out = file('./data/blogdata.txt', 'w')\n",
      "    out.write('Blog')\n",
      "    \n",
      "    for word in wordlist: out.write('\\t%s' %word)\n",
      "    out.write('\\n')\n",
      "    \n",
      "    for blog, wc in wordcounts.items():\n",
      "        out.write(blog)\n",
      "        for word in wordlist:\n",
      "            if word in wc: out.write('\\t%d' %wc[word])\n",
      "            else: out.write('\\t0')\n",
      "        out.write('\\n')\n",
      "    "
     ],
     "language": "python",
     "metadata": {},
     "outputs": [],
     "prompt_number": 52
    },
    {
     "cell_type": "code",
     "collapsed": false,
     "input": [
      "feedUrls = findRSSUrls('http://www.zdnet.com/rssfeeds/')"
     ],
     "language": "python",
     "metadata": {},
     "outputs": [],
     "prompt_number": 53
    },
    {
     "cell_type": "code",
     "collapsed": false,
     "input": [
      "generateWordCountMatrix(feedUrls)"
     ],
     "language": "python",
     "metadata": {},
     "outputs": [],
     "prompt_number": 54
    },
    {
     "cell_type": "code",
     "collapsed": false,
     "input": [
      "def readfile(filename):\n",
      "    lines = [line for line in file(filename)]\n",
      "    \n",
      "    # First line is the column titles\n",
      "    colnames = lines[0].strip().split('\\t')[1:]\n",
      "    rownames = []\n",
      "    data = []\n",
      "    for line in lines[1:]:\n",
      "        p = line.strip().split('\\t')\n",
      "        \n",
      "        # First column in each row is the rowname\n",
      "        rownames.append(p[0])\n",
      "        \n",
      "        # The data for this row is the remainder of the row\n",
      "        data.append([float(x) for x in p[1:]])\n",
      "    return rownames, colnames, data"
     ],
     "language": "python",
     "metadata": {},
     "outputs": [],
     "prompt_number": 55
    },
    {
     "cell_type": "code",
     "collapsed": false,
     "input": [
      "from math import sqrt\n",
      "\n",
      "def sim_pearson(v1, v2):\n",
      "    # Simple sums\n",
      "    sum1 = sum(v1)\n",
      "    sum2 = sum(v2)\n",
      "    \n",
      "    # Sum of the squares\n",
      "    sum1Sq = sum([pow(v, 2) for v in v1])\n",
      "    sum2Sq = sum([pow(v, 2) for v in v2])\n",
      "    \n",
      "    # Sum of the products\n",
      "    pSum = sum([v1[i] * v2[i] for i in range(len(v1))])\n",
      "    \n",
      "    # Calculate r (Pearson Score)\n",
      "    \n",
      "    num = pSum - (sum1 * sum2 / len(v1))\n",
      "    den = sqrt((sum1Sq - pow(sum1, 2) / len(v1)) * (sum2Sq - pow(sum2, 2) / len(v1)))\n",
      "    \n",
      "    if den == 0: return 0\n",
      "    \n",
      "    return 1.0 - num / den"
     ],
     "language": "python",
     "metadata": {},
     "outputs": [],
     "prompt_number": 56
    },
    {
     "cell_type": "code",
     "collapsed": false,
     "input": [
      "# Hierarchical clustering\n",
      "class Bicluster:\n",
      "    def __init__(self, vec, left=None, right=None, distance=0.0, id=None):\n",
      "        self.left = left\n",
      "        self.right = right\n",
      "        self.vec = vec\n",
      "        self.id = id\n",
      "        self.distance = distance"
     ],
     "language": "python",
     "metadata": {},
     "outputs": [],
     "prompt_number": 58
    },
    {
     "cell_type": "code",
     "collapsed": false,
     "input": [
      "def hcluster(rows, distance=sim_pearson):\n",
      "    distances = {}\n",
      "    currentclustid = -1\n",
      "    \n",
      "    # Clusters are initially just the rows\n",
      "    clust = [Bicluster(rows[i],id=i) for i in range(len(rows))]\n",
      "    \n",
      "    while len(clust) > 1:\n",
      "        lowestpair = (0, 1)\n",
      "        closest = distance(clust[0].vec, clust[1].vec)\n",
      "        \n",
      "        # Loop through every pair looking for the smallest distance\n",
      "        for i in range(len(clust)):\n",
      "            for j in range(i+1, len(clust)):\n",
      "                # distances is the cache of distance calculations\n",
      "                if (clust[i].id, clust[j].id) not in distances:\n",
      "                    distances[(clust[i].id, clust[j].id)] = distance(clust[i].vec, clust[j].vec)\n",
      "                \n",
      "                d = distances[(clust[i].id, clust[j].id)]\n",
      "                \n",
      "                if d < closest:\n",
      "                    closest = d\n",
      "                    lowestpair = (i, j)\n",
      "        \n",
      "        # Calculate the average of the two clusters\n",
      "        mergevec = [(clust[lowestpair[0]].vec[i] + clust[lowestpair[1]].vec[i]) / 2.0\n",
      "                    for i in range(len(clust[0].vec))]\n",
      "        \n",
      "        # create the new cluster\n",
      "        newcluster = Bicluster(mergevec, left=clust[lowestpair[0]],\n",
      "                               right=clust[lowestpair[1]],\n",
      "                               distance= closest,id=currentclustid)\n",
      "        \n",
      "        # cluster ids that weren't in the original set are negative\n",
      "        currentclustid = -1\n",
      "        del clust[lowestpair[1]]\n",
      "        del clust[lowestpair[0]]\n",
      "        clust.append(newcluster)\n",
      "    \n",
      "    return clust[0]"
     ],
     "language": "python",
     "metadata": {},
     "outputs": [],
     "prompt_number": 64
    },
    {
     "cell_type": "code",
     "collapsed": false,
     "input": [
      "blognames, words, data = readfile('./data/blogdata.txt')"
     ],
     "language": "python",
     "metadata": {},
     "outputs": [],
     "prompt_number": 65
    },
    {
     "cell_type": "code",
     "collapsed": false,
     "input": [
      "clust = hcluster(data)"
     ],
     "language": "python",
     "metadata": {},
     "outputs": [],
     "prompt_number": 66
    },
    {
     "cell_type": "code",
     "collapsed": false,
     "input": [
      "from PIL import Image, ImageDraw"
     ],
     "language": "python",
     "metadata": {},
     "outputs": [],
     "prompt_number": 67
    },
    {
     "cell_type": "code",
     "collapsed": false,
     "input": [
      "def getHeight(clust):\n",
      "    # If endpoint then height is just 1\n",
      "    if clust.left == None and clust.right == None: return 1\n",
      "    \n",
      "    # Otherwise the height is the same of the heights of\n",
      "    # each branch\n",
      "    return getHeight(clust.left) + getHeight(clust.right)"
     ],
     "language": "python",
     "metadata": {},
     "outputs": [],
     "prompt_number": 68
    },
    {
     "cell_type": "code",
     "collapsed": false,
     "input": [
      "def getDepth(clust):\n",
      "    # The distance of the endpoint is 0.0\n",
      "    if clust.left == None and clust.right == None: return 0\n",
      "    \n",
      "    # The distance of the branch is the greater of its sides\n",
      "    # plus its own distance\n",
      "    return max(getDepth(clust.left), getDepth(clust.right)) + clust.distance"
     ],
     "language": "python",
     "metadata": {},
     "outputs": [],
     "prompt_number": 69
    },
    {
     "cell_type": "code",
     "collapsed": false,
     "input": [
      "def drawnode(draw, clust, x, y, scaling, labels):\n",
      "    if clust.id < 0:\n",
      "        h1 = getHeight(clust.left) * 20\n",
      "        h2 = getHeight(clust.right) * 20\n",
      "        top = y - (h1 + h2) / 2\n",
      "        bottom = y + (h1 + h2) / 2\n",
      "        \n",
      "        # Line length\n",
      "        ll = clust.distance * scaling\n",
      "        \n",
      "        # Vertical line from this cluster to children\n",
      "        draw.line((x, top + h1 / 2, x, bottom - h2 / 2), fill=(255,0,0))\n",
      "        \n",
      "        # Horizontal line to left item\n",
      "        draw.line((x,top+h1/2,x+ll,top+h1/2),fill=(255,0,0))\n",
      "        \n",
      "        # Horizontal line to right item\n",
      "        draw.line((x,bottom-h2/2,x+ll,bottom-h2/2),fill=(255,0,0))\n",
      "        \n",
      "        # Call the function to draw the left and right nodes\n",
      "        drawnode(draw,clust.left,x+ll,top+h1/2,scaling,labels)\n",
      "        drawnode(draw,clust.right,x+ll,bottom-h2/2,scaling,labels)\n",
      "    else:\n",
      "        # If this is an endpoint, draw the item label\n",
      "        draw.text((x+5,y-7),labels[clust.id],(0,0,0))\n",
      "        \n",
      "def drawDendogram(clust, labels, jpeg='./data/clusters.jpg'):\n",
      "    # height and width\n",
      "    \n",
      "    h = getHeight(clust) * 20\n",
      "    w = 1200\n",
      "    depth = getDepth(clust)\n",
      "    \n",
      "    # width is fixed, so scale distances accordingly\n",
      "    scaling = float(w - 150) / depth\n",
      "    \n",
      "    # Create a new image with a white background\n",
      "    img = Image.new('RGB', (w,h), (255,255,255))\n",
      "    draw = ImageDraw.Draw(img)\n",
      "    \n",
      "    draw.line((0, h / 2, 10, h / 2), fill=(255,0,0))\n",
      "    \n",
      "    # Draw the first node\n",
      "    drawnode(draw, clust, 10, (h / 2), scaling, labels)\n",
      "    img.save(jpeg, 'JPEG')"
     ],
     "language": "python",
     "metadata": {},
     "outputs": [],
     "prompt_number": 74
    },
    {
     "cell_type": "code",
     "collapsed": false,
     "input": [
      "drawDendogram(clust, blognames, jpeg='./data/blogclust.jpg')"
     ],
     "language": "python",
     "metadata": {},
     "outputs": [],
     "prompt_number": 75
    },
    {
     "cell_type": "code",
     "collapsed": false,
     "input": [],
     "language": "python",
     "metadata": {},
     "outputs": []
    }
   ],
   "metadata": {}
  }
 ]
}