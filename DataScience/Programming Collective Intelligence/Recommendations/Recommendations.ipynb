{
 "metadata": {
  "name": "",
  "signature": "sha256:2ac08ac9bc006d75dd3344f3f71a3ca7a17ec39d8bb2577a7d9ca6b29a9b70d7"
 },
 "nbformat": 3,
 "nbformat_minor": 0,
 "worksheets": [
  {
   "cells": [
    {
     "cell_type": "code",
     "collapsed": false,
     "input": [
      "# import libraries\n",
      "import numpy as np"
     ],
     "language": "python",
     "metadata": {},
     "outputs": [],
     "prompt_number": 1
    },
    {
     "cell_type": "code",
     "collapsed": false,
     "input": [
      "# A dictionary of movie critics and their ratings of a small\n",
      "# set of movies\n",
      "\n",
      "critics={'Lisa Rose': {'Lady in the Water': 2.5, 'Snakes on a Plane': 3.5,\n",
      "                       'Just My Luck': 3.0, 'Superman Returns': 3.5, 'You, Me and Dupree': 2.5,\n",
      "                       'The Night Listener': 3.0},\n",
      "        'Gene Seymour': {'Lady in the Water': 3.0, 'Snakes on a Plane': 3.5,\n",
      "                         'Just My Luck': 1.5, 'Superman Returns': 5.0, 'The Night Listener': 3.0,\n",
      "                         'You, Me and Dupree': 3.5},\n",
      "        'Michael Phillips': {'Lady in the Water': 2.5, 'Snakes on a Plane': 3.0,\n",
      "                             'Superman Returns': 3.5, 'The Night Listener': 4.0},\n",
      "        'Claudia Puig': {'Snakes on a Plane': 3.5, 'Just My Luck': 3.0,\n",
      "                         'The Night Listener': 4.5, 'Superman Returns': 4.0,'You, Me and Dupree': 2.5},\n",
      "        'Mick LaSalle': {'Lady in the Water': 3.0, 'Snakes on a Plane': 4.0,\n",
      "                         'Just My Luck': 2.0, 'Superman Returns': 3.0, 'The Night Listener': 3.0,\n",
      "                         'You, Me and Dupree': 2.0},\n",
      "        'Jack Matthews': {'Lady in the Water': 3.0, 'Snakes on a Plane': 4.0,\n",
      "                          'The Night Listener': 3.0, 'Superman Returns': 5.0, 'You, Me and Dupree': 3.5},\n",
      "        'Toby': {'Snakes on a Plane':4.5,'You, Me and Dupree':1.0,'Superman Returns':4.0}}"
     ],
     "language": "python",
     "metadata": {},
     "outputs": [],
     "prompt_number": 1
    },
    {
     "cell_type": "code",
     "collapsed": false,
     "input": [
      "# similarity function\n",
      "from math import sqrt\n",
      "\n",
      "def sim_distance(prefs, person1, person2):\n",
      "    # Get the list of common items\n",
      "    si = {}\n",
      "    for item in prefs[person1]:\n",
      "        if item in prefs[person2]:\n",
      "            si[item] = 1\n",
      "    \n",
      "    # if they have no ratings in common, return 0\n",
      "    if len(si) == 0: return 0\n",
      "    \n",
      "    # add up the squares of all the differences\n",
      "    sum_of_squares = sum([pow(prefs[person1][item] - prefs[person2][item], 2)\n",
      "                         for item in prefs[person1] if item in prefs[person2]])\n",
      "    \n",
      "    return 1 / (1 + sum_of_squares)"
     ],
     "language": "python",
     "metadata": {},
     "outputs": [],
     "prompt_number": 2
    },
    {
     "cell_type": "code",
     "collapsed": false,
     "input": [
      "similarity = sim_distance(critics, 'Lisa Rose', 'Gene Seymour')\n",
      "print 'how similar lisa and gene are ', similarity"
     ],
     "language": "python",
     "metadata": {},
     "outputs": [
      {
       "output_type": "stream",
       "stream": "stdout",
       "text": [
        "how similar lisa and gene are  0.148148148148\n"
       ]
      }
     ],
     "prompt_number": 3
    },
    {
     "cell_type": "code",
     "collapsed": false,
     "input": [
      "def sim_pearson(prefs, p1, p2):\n",
      "    # Get the list of mutually rated items\n",
      "    si = {}\n",
      "    \n",
      "    for item in prefs[p1]:\n",
      "        if item in prefs[p2]: si[item] = 1\n",
      "    \n",
      "    # Find the number of elements\n",
      "    n = len(si)\n",
      "    \n",
      "    # if there are no ratings in common, return 0\n",
      "    if n == 0: return 0\n",
      "    \n",
      "    # Add up all the preferences\n",
      "    sum1 = sum([prefs[p1][it] for it in si])\n",
      "    sum2 = sum([prefs[p2][it] for it in si])\n",
      "    \n",
      "    # Sum up all the squares\n",
      "    sum1Sq = sum([pow(prefs[p1][it], 2) for it in si])\n",
      "    sum2Sq = sum([pow(prefs[p2][it], 2) for it in si])\n",
      "        \n",
      "    # Sum up the products\n",
      "    pSum = sum([prefs[p1][it] * prefs[p2][it] for it in si])\n",
      "    \n",
      "    # Calculate pearson score\n",
      "    num = pSum - (sum1 * sum2 / n)\n",
      "    den = sqrt((sum1Sq - pow(sum1, 2) / n ) * (sum2Sq - pow(sum2, 2) / n))\n",
      "    \n",
      "    if den == 0: return 0\n",
      "    \n",
      "    r = num / den\n",
      "    \n",
      "    return r\n",
      "    "
     ],
     "language": "python",
     "metadata": {},
     "outputs": [],
     "prompt_number": 4
    },
    {
     "cell_type": "code",
     "collapsed": false,
     "input": [
      "score = sim_pearson(critics, 'Lisa Rose', 'Gene Seymour')\n",
      "print score"
     ],
     "language": "python",
     "metadata": {},
     "outputs": [
      {
       "output_type": "stream",
       "stream": "stdout",
       "text": [
        "0.396059017191\n"
       ]
      }
     ],
     "prompt_number": 5
    },
    {
     "cell_type": "code",
     "collapsed": false,
     "input": [
      "# lets implement another similarity function\n",
      "# called Jaccard Index\n",
      "\n",
      "def sim_tanimoto(prefs, p1, p2):\n",
      "    # Get the list of mutually rated items\n",
      "    si = {}\n",
      "    \n",
      "    for item in prefs[p1]:\n",
      "        if item in prefs[p2]: si[item] = 1\n",
      "    \n",
      "    # Find the number of elements\n",
      "    n = len(si)\n",
      "    \n",
      "    # if there are no ratings in common, return 0\n",
      "    if n == 0: return 0\n",
      "    \n",
      "    intersection = prefs[p1].viewkeys() & prefs[p2].viewkeys()\n",
      "    union = prefs[p1].viewkeys() | prefs[p1].viewkeys()\n",
      "        \n",
      "    len_intersection = len(intersection) * 1.0\n",
      "    len_union = len(union) * 1.0\n",
      "  \n",
      "    r = len_intersection / len_union\n",
      "    \n",
      "    return r"
     ],
     "language": "python",
     "metadata": {},
     "outputs": [],
     "prompt_number": 13
    },
    {
     "cell_type": "code",
     "collapsed": false,
     "input": [
      "# not a very useful metric for this kind of problem\n",
      "print sim_tanimoto(critics, 'Lisa Rose', 'Toby')"
     ],
     "language": "python",
     "metadata": {},
     "outputs": [
      {
       "output_type": "stream",
       "stream": "stdout",
       "text": [
        "0.5\n"
       ]
      }
     ],
     "prompt_number": 14
    },
    {
     "cell_type": "code",
     "collapsed": false,
     "input": [
      "# now lets write a function which returns\n",
      "# a list of scores for all the critics\n",
      "# after comparing them with the person\n",
      "# mentioned.\n",
      "\n",
      "# Returns the best matches for person from the prefs dictionary.\n",
      "# Number of results and similarity function are optional params.\n",
      "\n",
      "def topMatches(prefs, person, n=5, similarity=sim_pearson):\n",
      "    scores = [(similarity(prefs, person, other), other) for other in prefs if other != person]\n",
      "    \n",
      "    # scores the list so the highest scores appear at the top\n",
      "    scores.sort()\n",
      "    scores.reverse()\n",
      "    return scores[0:n]"
     ],
     "language": "python",
     "metadata": {},
     "outputs": [],
     "prompt_number": 16
    },
    {
     "cell_type": "code",
     "collapsed": false,
     "input": [
      "similar_users = topMatches(critics, 'Toby', n=3)"
     ],
     "language": "python",
     "metadata": {},
     "outputs": [],
     "prompt_number": 17
    },
    {
     "cell_type": "code",
     "collapsed": false,
     "input": [
      "print similar_users"
     ],
     "language": "python",
     "metadata": {},
     "outputs": [
      {
       "output_type": "stream",
       "stream": "stdout",
       "text": [
        "[(0.99124070716192991, 'Lisa Rose'), (0.92447345164190486, 'Mick LaSalle'), (0.89340514744156474, 'Claudia Puig')]\n"
       ]
      }
     ],
     "prompt_number": 18
    },
    {
     "cell_type": "code",
     "collapsed": false,
     "input": [
      "# now what we now want is to get the list of movie recommendations\n",
      "\n",
      "# Gets recommendations for a person by using a weighted average\n",
      "# of every other user's rankings\n",
      "\n",
      "def getRecommendations(prefs, person, similarity=sim_pearson):\n",
      "    totals = {}\n",
      "    simSums = {}\n",
      "    \n",
      "    for other in prefs:\n",
      "        # don't compare me to myself\n",
      "        if other == person: continue\n",
      "        sim = similarity(prefs, person, other)\n",
      "        \n",
      "        #ignore scores of zero or lower\n",
      "        if sim <= 0: continue\n",
      "            \n",
      "        for item in prefs[other]:\n",
      "            # only score movie I haven't seen yet\n",
      "            if item not in prefs[person] or prefs[person][item] == 0:\n",
      "                # Similarity * Score \n",
      "                totals.setdefault(item, 0)\n",
      "                totals[item] += prefs[other][item] * sim\n",
      "                # Sum of similarities\n",
      "                simSums.setdefault(item, 0)\n",
      "                simSums[item] += sim\n",
      "        \n",
      "    # Create a normalized list\n",
      "    rankings = [(total / simSums[item], item) for item, total in totals.items()]\n",
      "        \n",
      "    # Return the sorted list\n",
      "    rankings.sort()\n",
      "    rankings.reverse()\n",
      "    return rankings"
     ],
     "language": "python",
     "metadata": {},
     "outputs": [],
     "prompt_number": 24
    },
    {
     "cell_type": "code",
     "collapsed": false,
     "input": [
      "print getRecommendations(critics, 'Toby')"
     ],
     "language": "python",
     "metadata": {},
     "outputs": [
      {
       "output_type": "stream",
       "stream": "stdout",
       "text": [
        "[(3.3477895267131013, 'The Night Listener'), (2.8325499182641614, 'Lady in the Water'), (2.5309807037655645, 'Just My Luck')]\n"
       ]
      }
     ],
     "prompt_number": 25
    },
    {
     "cell_type": "code",
     "collapsed": false,
     "input": [
      "# Transformation function which transforms users -> movies structure to\n",
      "# movies -> users structures\n",
      "\n",
      "def transformPrefs(prefs):\n",
      "    result = {}\n",
      "    for person in prefs:\n",
      "        for item in prefs[person]:\n",
      "            result.setdefault(item, {})\n",
      "            \n",
      "            # Flip item and person\n",
      "            result[item][person] = prefs[person][item]\n",
      "    return result"
     ],
     "language": "python",
     "metadata": {},
     "outputs": [],
     "prompt_number": 26
    },
    {
     "cell_type": "code",
     "collapsed": false,
     "input": [
      "print transformPrefs(critics)"
     ],
     "language": "python",
     "metadata": {},
     "outputs": [
      {
       "output_type": "stream",
       "stream": "stdout",
       "text": [
        "{'Lady in the Water': {'Lisa Rose': 2.5, 'Jack Matthews': 3.0, 'Michael Phillips': 2.5, 'Gene Seymour': 3.0, 'Mick LaSalle': 3.0}, 'Snakes on a Plane': {'Jack Matthews': 4.0, 'Mick LaSalle': 4.0, 'Claudia Puig': 3.5, 'Lisa Rose': 3.5, 'Toby': 4.5, 'Gene Seymour': 3.5, 'Michael Phillips': 3.0}, 'Just My Luck': {'Claudia Puig': 3.0, 'Lisa Rose': 3.0, 'Gene Seymour': 1.5, 'Mick LaSalle': 2.0}, 'Superman Returns': {'Jack Matthews': 5.0, 'Mick LaSalle': 3.0, 'Claudia Puig': 4.0, 'Lisa Rose': 3.5, 'Toby': 4.0, 'Gene Seymour': 5.0, 'Michael Phillips': 3.5}, 'The Night Listener': {'Jack Matthews': 3.0, 'Mick LaSalle': 3.0, 'Claudia Puig': 4.5, 'Lisa Rose': 3.0, 'Gene Seymour': 3.0, 'Michael Phillips': 4.0}, 'You, Me and Dupree': {'Jack Matthews': 3.5, 'Mick LaSalle': 2.0, 'Claudia Puig': 2.5, 'Lisa Rose': 2.5, 'Toby': 1.0, 'Gene Seymour': 3.5}}\n"
       ]
      }
     ],
     "prompt_number": 27
    },
    {
     "cell_type": "code",
     "collapsed": false,
     "input": [
      "# now call the topMatches function to get similar items/ movies\n",
      "# based on the scores given by the critics to it\n",
      "# e.g. find out similar movies to Superman returns\n",
      "movies = transformPrefs(critics)\n",
      "print topMatches(movies, 'Superman Returns')"
     ],
     "language": "python",
     "metadata": {},
     "outputs": [
      {
       "output_type": "stream",
       "stream": "stdout",
       "text": [
        "[(0.65795169495976946, 'You, Me and Dupree'), (0.48795003647426888, 'Lady in the Water'), (0.11180339887498941, 'Snakes on a Plane'), (-0.17984719479905439, 'The Night Listener'), (-0.42289003161103106, 'Just My Luck')]\n"
       ]
      }
     ],
     "prompt_number": 28
    },
    {
     "cell_type": "code",
     "collapsed": false,
     "input": [
      "# Building the dataset\n",
      "# find users who post frequently and have some similar posts\n",
      "\n",
      "from pydelicious import get_popular, get_userposts, get_urlposts\n",
      "\n",
      "def initializeUserDict(tag, count=5):\n",
      "    user_dict = {}\n",
      "    # get the top count of popular posts\n",
      "    for p1 in get_popular(tag=tag)[0:count]:\n",
      "        # find all the users who posted this\n",
      "        for p2 in get_urlposts(p1['url']):\n",
      "            user=p2['user']\n",
      "            user_dict[user]={}\n",
      "    \n",
      "    return user_dict"
     ],
     "language": "python",
     "metadata": {},
     "outputs": [],
     "prompt_number": 33
    },
    {
     "cell_type": "code",
     "collapsed": false,
     "input": [
      "get_popular('programming')"
     ],
     "language": "python",
     "metadata": {},
     "outputs": [
      {
       "metadata": {},
       "output_type": "pyout",
       "prompt_number": 36,
       "text": [
        "[{'description': u'Amazon Mechanical Turk',\n",
        "  'dt': '',\n",
        "  'extended': u'',\n",
        "  'tags': u'aws',\n",
        "  'url': u'http://aws.amazon.com/mturk',\n",
        "  'user': u''},\n",
        " {'description': u'prog21.dadgum.com',\n",
        "  'dt': '',\n",
        "  'extended': u'',\n",
        "  'tags': u'javascript',\n",
        "  'url': u'http://prog21.dadgum.com/202.html',\n",
        "  'user': u'rafasashi'},\n",
        " {'description': u\"Matz's Ruby Developers Don't Use RubySpec and It's Hurting Ruby - Rubinius\",\n",
        "  'dt': '',\n",
        "  'extended': u'',\n",
        "  'tags': u'ruby',\n",
        "  'url': u'http://rubini.us/2014/12/31/matz-s-ruby-developers-don-t-use-rubyspec/',\n",
        "  'user': u''},\n",
        " {'description': u'My $2375 Amazon EC2 Mistake',\n",
        "  'dt': '',\n",
        "  'extended': u'',\n",
        "  'tags': u'github',\n",
        "  'url': u'http://www.devfactor.net/2014/12/30/2375-amazon-mistake/',\n",
        "  'user': u'marenzelleria'},\n",
        " {'description': u'Line drawing on a grid',\n",
        "  'dt': '',\n",
        "  'extended': u'',\n",
        "  'tags': u'programming',\n",
        "  'url': u'http://www.redblobgames.com/grids/line-drawing.html',\n",
        "  'user': u'xxvinod'},\n",
        " {'description': u'An Exhaustive Look at the Year in Web Design',\n",
        "  'dt': '',\n",
        "  'extended': u'',\n",
        "  'tags': u'trends',\n",
        "  'url': u'http://sideproject.io/an-exhaustive-look-at-the-year-in-web-design/?utm_content=buffer4f3f6&utm_medium=social&utm_source=twitter.com&utm_campaign=buffer',\n",
        "  'user': u'jvetrau'},\n",
        " {'description': u'Below All the Turtles \\xbb Golang is Trash',\n",
        "  'dt': '',\n",
        "  'extended': u'',\n",
        "  'tags': u'golang',\n",
        "  'url': u'http://dtrace.org/blogs/wesolows/2014/12/29/golang-is-trash/',\n",
        "  'user': u''},\n",
        " {'description': u'Byte Rot: Future of Programming - Rise of the Scientific Programmer (and fall of the craftsman)',\n",
        "  'dt': '',\n",
        "  'extended': u'',\n",
        "  'tags': u'programming',\n",
        "  'url': u'http://byterot.blogspot.com/2015/01/future-of-programming-rise-of-the-scientific-developer-bigdata-datascience-machine-learning-and-fall-of-the-craftsman.html',\n",
        "  'user': u''},\n",
        " {'description': u'The two cultures of mathematics and biology | Bits of DNA',\n",
        "  'dt': '',\n",
        "  'extended': u'',\n",
        "  'tags': u'biology',\n",
        "  'url': u'http://liorpachter.wordpress.com/2014/12/30/the-two-cultures-of-mathematics-and-biology/',\n",
        "  'user': u'xxvinod'},\n",
        " {'description': u'New Minecraft Modding Software Revolutionizes the Way We Teach Kids Coding',\n",
        "  'dt': '',\n",
        "  'extended': u'',\n",
        "  'tags': u'programming',\n",
        "  'url': u'http://www.jacobsschool.ucsd.edu/news/news_releases/release.sfe?id=1682',\n",
        "  'user': u''}]"
       ]
      }
     ],
     "prompt_number": 36
    },
    {
     "cell_type": "code",
     "collapsed": false,
     "input": [
      "# Building item based collaborative filtering\n",
      "\n",
      "def calculateSimilarItems(prefs, n=10):\n",
      "    # Create a dictionary of items showing which other items they\n",
      "    # are most similar to\n",
      "    result = {}\n",
      "    \n",
      "    # Invert the preference matrix to be item-centric\n",
      "    itemPrefs = transformPrefs(prefs)\n",
      "    c = 0\n",
      "    for item in itemPrefs:\n",
      "        # Status updates for large datasets\n",
      "        if c % 100 == 0: print \"%d / %d\" % (c, len(itemPrefs))\n",
      "        # Find the most similar items to this one\n",
      "        scores = topMatches(itemPrefs, item, n=n, similarity=sim_distance)\n",
      "        result[item] = scores\n",
      "    return result"
     ],
     "language": "python",
     "metadata": {},
     "outputs": [],
     "prompt_number": 40
    },
    {
     "cell_type": "code",
     "collapsed": false,
     "input": [
      "print calculateSimilarItems(critics)"
     ],
     "language": "python",
     "metadata": {},
     "outputs": [
      {
       "output_type": "stream",
       "stream": "stdout",
       "text": [
        "0 / 6\n",
        "0 / 6\n",
        "0 / 6\n",
        "0 / 6\n",
        "0 / 6\n",
        "0 / 6\n",
        "{'Lady in the Water': [(0.40000000000000002, 'You, Me and Dupree'), (0.2857142857142857, 'The Night Listener'), (0.22222222222222221, 'Snakes on a Plane'), (0.22222222222222221, 'Just My Luck'), (0.090909090909090912, 'Superman Returns')], 'Snakes on a Plane': [(0.22222222222222221, 'Lady in the Water'), (0.18181818181818182, 'The Night Listener'), (0.16666666666666666, 'Superman Returns'), (0.10526315789473684, 'Just My Luck'), (0.05128205128205128, 'You, Me and Dupree')], 'Just My Luck': [(0.22222222222222221, 'Lady in the Water'), (0.18181818181818182, 'You, Me and Dupree'), (0.15384615384615385, 'The Night Listener'), (0.10526315789473684, 'Snakes on a Plane'), (0.064516129032258063, 'Superman Returns')], 'Superman Returns': [(0.16666666666666666, 'Snakes on a Plane'), (0.10256410256410256, 'The Night Listener'), (0.090909090909090912, 'Lady in the Water'), (0.064516129032258063, 'Just My Luck'), (0.053333333333333337, 'You, Me and Dupree')], 'You, Me and Dupree': [(0.40000000000000002, 'Lady in the Water'), (0.18181818181818182, 'Just My Luck'), (0.14814814814814814, 'The Night Listener'), (0.053333333333333337, 'Superman Returns'), (0.05128205128205128, 'Snakes on a Plane')], 'The Night Listener': [(0.2857142857142857, 'Lady in the Water'), (0.18181818181818182, 'Snakes on a Plane'), (0.15384615384615385, 'Just My Luck'), (0.14814814814814814, 'You, Me and Dupree'), (0.10256410256410256, 'Superman Returns')]}\n"
       ]
      }
     ],
     "prompt_number": 41
    },
    {
     "cell_type": "code",
     "collapsed": false,
     "input": [],
     "language": "python",
     "metadata": {},
     "outputs": []
    }
   ],
   "metadata": {}
  }
 ]
}