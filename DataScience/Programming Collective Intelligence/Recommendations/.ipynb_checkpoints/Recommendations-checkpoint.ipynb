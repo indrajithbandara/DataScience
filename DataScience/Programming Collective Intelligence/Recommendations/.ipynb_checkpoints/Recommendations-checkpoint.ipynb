{
 "metadata": {
  "name": "",
  "signature": "sha256:ea1e781ef77fde1c8bf776e8667e5a4952da23620cf5de764313bd2bfe13e0a7"
 },
 "nbformat": 3,
 "nbformat_minor": 0,
 "worksheets": [
  {
   "cells": [
    {
     "cell_type": "code",
     "collapsed": false,
     "input": [],
     "language": "python",
     "metadata": {},
     "outputs": []
    }
   ],
   "metadata": {}
  }
 ]
}