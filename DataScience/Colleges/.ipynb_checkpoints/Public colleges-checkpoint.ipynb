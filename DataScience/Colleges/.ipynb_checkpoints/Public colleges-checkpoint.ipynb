{
 "metadata": {
  "name": "",
  "signature": "sha256:437c8d7432ac0fd3270a5285af86f56718c68a0b7e4fa1f79d0294d85bc276d6"
 },
 "nbformat": 3,
 "nbformat_minor": 0,
 "worksheets": [
  {
   "cells": [
    {
     "cell_type": "code",
     "collapsed": false,
     "input": [
      "# import libraries\n",
      "\n",
      "import warnings\n",
      "warnings.filterwarnings('ignore')\n",
      "\n",
      "import pandas as pd\n",
      "import matplotlib.pyplot as plt\n",
      "\n",
      "import requests\n",
      "from bs4 import BeautifulSoup"
     ],
     "language": "python",
     "metadata": {},
     "outputs": [],
     "prompt_number": 3
    },
    {
     "cell_type": "code",
     "collapsed": false,
     "input": [
      "url = 'http://www.kiplinger.com/tool/college/T014-S001-kiplinger-s-best-values-in-public-colleges/index.php'\n",
      "publicCollegeListPage = requests.get(url).text\n",
      "publicCollegeListSoup = BeautifulSoup(publicCollegeListPage)"
     ],
     "language": "python",
     "metadata": {},
     "outputs": [],
     "prompt_number": 4
    },
    {
     "cell_type": "code",
     "collapsed": false,
     "input": [
      "print publicCollegeListSoup.findAll('table')[0].findAll('tr')[1].findAll('td')[3].text"
     ],
     "language": "python",
     "metadata": {},
     "outputs": [
      {
       "output_type": "stream",
       "stream": "stdout",
       "text": [
        "NC\n"
       ]
      }
     ],
     "prompt_number": 23
    },
    {
     "cell_type": "code",
     "collapsed": false,
     "input": [
      "def getData(url):\n",
      "    pageText = requests.get(url).text\n",
      "    return BeautifulSoup(pageText)\n",
      "    \n",
      "def storeDataInCSVFile(url, filename='./data/public.csv'):\n",
      "    dataSoup = getData(url)\n",
      "    \n",
      "    out = file(filename, 'w')\n",
      "    \n",
      "    rows = data.findAll('table')[0].findAll('tr')[1:]\n",
      "    \n",
      "    for row in rows:\n",
      "        rowData = row.findAll('td')\n",
      "        \n",
      "        count = 0\n",
      "        for val in rowData:\n",
      "            if count > 0:\n",
      "                out.write(',')\n",
      "                \n",
      "            out.write(val.text)\n",
      "            count += 1\n",
      "        \n",
      "        out.write('/n')\n",
      "    out.close()"
     ],
     "language": "python",
     "metadata": {},
     "outputs": [],
     "prompt_number": 25
    },
    {
     "cell_type": "code",
     "collapsed": false,
     "input": [],
     "language": "python",
     "metadata": {},
     "outputs": []
    }
   ],
   "metadata": {}
  }
 ]
}