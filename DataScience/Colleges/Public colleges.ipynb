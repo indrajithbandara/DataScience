{
 "metadata": {
  "name": "",
  "signature": "sha256:15472d92d6d4f7fdf36144c99872309664060a974b8c0738c2ef1565df827c9d"
 },
 "nbformat": 3,
 "nbformat_minor": 0,
 "worksheets": [
  {
   "cells": [
    {
     "cell_type": "code",
     "collapsed": false,
     "input": [
      "# import libraries\n",
      "\n",
      "import warnings\n",
      "warnings.filterwarnings('ignore')\n",
      "\n",
      "import pandas as pd\n",
      "import matplotlib.pyplot as plt\n",
      "\n",
      "import requests\n",
      "from bs4 import BeautifulSoup"
     ],
     "language": "python",
     "metadata": {},
     "outputs": [],
     "prompt_number": 2
    },
    {
     "cell_type": "code",
     "collapsed": false,
     "input": [
      "url = 'http://www.kiplinger.com/tool/college/T014-S001-kiplinger-s-best-values-in-public-colleges/index.php'\n",
      "publicCollegeListPage = requests.get(url).text\n",
      "publicCollegeListSoup = BeautifulSoup(publicCollegeListPage)"
     ],
     "language": "python",
     "metadata": {},
     "outputs": [],
     "prompt_number": 3
    },
    {
     "cell_type": "code",
     "collapsed": false,
     "input": [
      "print publicCollegeListSoup.findAll('table')[0].findAll('tr')[1].findAll('td')[3].text"
     ],
     "language": "python",
     "metadata": {},
     "outputs": [
      {
       "output_type": "stream",
       "stream": "stdout",
       "text": [
        "NC\n"
       ]
      }
     ],
     "prompt_number": 4
    },
    {
     "cell_type": "code",
     "collapsed": false,
     "input": [
      "def getData(url):\n",
      "    pageText = requests.get(url).text\n",
      "    return BeautifulSoup(pageText)\n",
      "    \n",
      "def storeDataInCSVFile(url, filename='./data/public.csv'):\n",
      "    dataSoup = getData(url)\n",
      "    \n",
      "    out = file(filename, 'w')\n",
      "    \n",
      "    rows = dataSoup.findAll('table')[0].findAll('tr')[1:]\n",
      "    \n",
      "    for row in rows:\n",
      "        rowData = row.findAll('td')\n",
      "        \n",
      "        count = 0\n",
      "        for val in rowData:\n",
      "            if count > 0:\n",
      "                out.write(',')\n",
      "            \n",
      "            removeCommas = val.text.replace(',', '')\n",
      "            out.write(removeCommas.encode('utf-8'))\n",
      "            count += 1\n",
      "        \n",
      "        out.write('\\n')\n",
      "    out.close()"
     ],
     "language": "python",
     "metadata": {},
     "outputs": [],
     "prompt_number": 5
    },
    {
     "cell_type": "code",
     "collapsed": false,
     "input": [
      "storeDataInCSVFile('http://www.kiplinger.com/tool/college/T014-S001-kiplinger-s-best-values-in-public-colleges/index.php')"
     ],
     "language": "python",
     "metadata": {},
     "outputs": [],
     "prompt_number": 6
    },
    {
     "cell_type": "code",
     "collapsed": false,
     "input": [
      "cols = ['Rank_In_State', 'Rank_Out_Of_State', 'Name', 'State', 'Admit_Rate',\n",
      "        '4_Year_Grad_Rate', 'Total_Cost_Per_Year_In_State', 'Cost_After_Need_Based_Aid_In_State',\n",
      "        'Total_Cost_Per_Year_Out_Of_State', 'Cost_After_Need_Based_Aid_Out_Of_State',\n",
      "        'Avg_Debt_At_Graduation']\n",
      "\n",
      "publicColleges = pd.read_csv('./data/public.csv', names=cols, header=None)"
     ],
     "language": "python",
     "metadata": {},
     "outputs": [],
     "prompt_number": 54
    },
    {
     "cell_type": "code",
     "collapsed": false,
     "input": [
      "publicColleges['Admit_Rate'] = publicColleges.Admit_Rate.map(lambda x: int(x.replace('%', '')))\n",
      "publicColleges['4_Year_Grad_Rate'] = publicColleges['4_Year_Grad_Rate'].map(lambda x: int(x.replace('%', '')))"
     ],
     "language": "python",
     "metadata": {},
     "outputs": [],
     "prompt_number": 55
    },
    {
     "cell_type": "code",
     "collapsed": false,
     "input": [
      "publicColleges['Total_Cost_Per_Year_In_State'] = publicColleges['Total_Cost_Per_Year_In_State'].map(lambda x: int(x.replace('$', '')))\n",
      "publicColleges['Cost_After_Need_Based_Aid_In_State'] = publicColleges['Cost_After_Need_Based_Aid_In_State'].map(lambda x: int(x.replace('$', '')))\n",
      "publicColleges['Total_Cost_Per_Year_Out_Of_State'] = publicColleges['Total_Cost_Per_Year_Out_Of_State'].map(lambda x: int(x.replace('$', '')))\n",
      "publicColleges['Cost_After_Need_Based_Aid_Out_Of_State'] = publicColleges['Cost_After_Need_Based_Aid_Out_Of_State'].map(lambda x: int(x.replace('$', '')))"
     ],
     "language": "python",
     "metadata": {},
     "outputs": [],
     "prompt_number": 56
    },
    {
     "cell_type": "code",
     "collapsed": false,
     "input": [
      "publicColleges.head()"
     ],
     "language": "python",
     "metadata": {},
     "outputs": [
      {
       "html": [
        "<div style=\"max-height:1000px;max-width:1500px;overflow:auto;\">\n",
        "<table border=\"1\" class=\"dataframe\">\n",
        "  <thead>\n",
        "    <tr style=\"text-align: right;\">\n",
        "      <th></th>\n",
        "      <th>Rank_In_State</th>\n",
        "      <th>Rank_Out_Of_State</th>\n",
        "      <th>Name</th>\n",
        "      <th>State</th>\n",
        "      <th>Admit_Rate</th>\n",
        "      <th>4_Year_Grad_Rate</th>\n",
        "      <th>Total_Cost_Per_Year_In_State</th>\n",
        "      <th>Cost_After_Need_Based_Aid_In_State</th>\n",
        "      <th>Total_Cost_Per_Year_Out_Of_State</th>\n",
        "      <th>Cost_After_Need_Based_Aid_Out_Of_State</th>\n",
        "      <th>Avg_Debt_At_Graduation</th>\n",
        "    </tr>\n",
        "  </thead>\n",
        "  <tbody>\n",
        "    <tr>\n",
        "      <th>0</th>\n",
        "      <td> 1</td>\n",
        "      <td>  1</td>\n",
        "      <td> The University of North Carolina at Chapel Hill</td>\n",
        "      <td> NC</td>\n",
        "      <td> 27</td>\n",
        "      <td> 81</td>\n",
        "      <td> 20412</td>\n",
        "      <td>  6332</td>\n",
        "      <td> 45494</td>\n",
        "      <td> 31414</td>\n",
        "      <td> $17602</td>\n",
        "    </tr>\n",
        "    <tr>\n",
        "      <th>1</th>\n",
        "      <td> 2</td>\n",
        "      <td>  2</td>\n",
        "      <td>                          University of Virginia</td>\n",
        "      <td> VA</td>\n",
        "      <td> 30</td>\n",
        "      <td> 86</td>\n",
        "      <td> 24520</td>\n",
        "      <td>  5885</td>\n",
        "      <td> 53706</td>\n",
        "      <td> 35071</td>\n",
        "      <td>  21815</td>\n",
        "    </tr>\n",
        "    <tr>\n",
        "      <th>2</th>\n",
        "      <td> 3</td>\n",
        "      <td>  8</td>\n",
        "      <td>                           University of Florida</td>\n",
        "      <td> FL</td>\n",
        "      <td> 47</td>\n",
        "      <td> 64</td>\n",
        "      <td> 17233</td>\n",
        "      <td> 10359</td>\n",
        "      <td> 39511</td>\n",
        "      <td> 32637</td>\n",
        "      <td>  20708</td>\n",
        "    </tr>\n",
        "    <tr>\n",
        "      <th>3</th>\n",
        "      <td> 4</td>\n",
        "      <td>  6</td>\n",
        "      <td>               University of California Berkeley</td>\n",
        "      <td> CA</td>\n",
        "      <td> 18</td>\n",
        "      <td> 72</td>\n",
        "      <td> 29640</td>\n",
        "      <td>  6541</td>\n",
        "      <td> 54270</td>\n",
        "      <td> 31171</td>\n",
        "      <td>  17468</td>\n",
        "    </tr>\n",
        "    <tr>\n",
        "      <th>4</th>\n",
        "      <td> 5</td>\n",
        "      <td> 11</td>\n",
        "      <td>            University of California Los Angeles</td>\n",
        "      <td> CA</td>\n",
        "      <td> 20</td>\n",
        "      <td> 69</td>\n",
        "      <td> 27128</td>\n",
        "      <td>  8510</td>\n",
        "      <td> 50171</td>\n",
        "      <td> 31553</td>\n",
        "      <td>  20229</td>\n",
        "    </tr>\n",
        "  </tbody>\n",
        "</table>\n",
        "</div>"
       ],
       "metadata": {},
       "output_type": "pyout",
       "prompt_number": 39,
       "text": [
        "   Rank_In_State  Rank_Out_Of_State  \\\n",
        "0              1                  1   \n",
        "1              2                  2   \n",
        "2              3                  8   \n",
        "3              4                  6   \n",
        "4              5                 11   \n",
        "\n",
        "                                              Name State  Admit_Rate  \\\n",
        "0  The University of North Carolina at Chapel Hill    NC          27   \n",
        "1                           University of Virginia    VA          30   \n",
        "2                            University of Florida    FL          47   \n",
        "3                University of California Berkeley    CA          18   \n",
        "4             University of California Los Angeles    CA          20   \n",
        "\n",
        "   4_Year_Grad_Rate  Total_Cost_Per_Year_In_State  \\\n",
        "0                81                         20412   \n",
        "1                86                         24520   \n",
        "2                64                         17233   \n",
        "3                72                         29640   \n",
        "4                69                         27128   \n",
        "\n",
        "   Cost_After_Need_Based_Aid_In_State  Total_Cost_Per_Year_Out_Of_State  \\\n",
        "0                                6332                             45494   \n",
        "1                                5885                             53706   \n",
        "2                               10359                             39511   \n",
        "3                                6541                             54270   \n",
        "4                                8510                             50171   \n",
        "\n",
        "   Cost_After_Need_Based_Aid_Out_Of_State Avg_Debt_At_Graduation  \n",
        "0                                   31414                 $17602  \n",
        "1                                   35071                  21815  \n",
        "2                                   32637                  20708  \n",
        "3                                   31171                  17468  \n",
        "4                                   31553                  20229  "
       ]
      }
     ],
     "prompt_number": 39
    },
    {
     "cell_type": "code",
     "collapsed": false,
     "input": [
      "publicColleges.columns"
     ],
     "language": "python",
     "metadata": {},
     "outputs": [
      {
       "metadata": {},
       "output_type": "pyout",
       "prompt_number": 22,
       "text": [
        "Index([u'Rank_In_State', u'Rank_Out_Of_State', u'Name', u'State', u'Admit_Rate', u'4_Year_Grad_Rate', u'Total_Cost_Per_Year_In_State', u'Cost_After_Need_Based_Aid_In_State', u'Total_Cost_Per_Year_Out_Of_State', u'Cost_After_Need_Based_Aid_Out_Of_State', u'Avg_Debt_At_Graduation'], dtype='object')"
       ]
      }
     ],
     "prompt_number": 22
    },
    {
     "cell_type": "code",
     "collapsed": false,
     "input": [
      "# lets plot to see the distribution of total cost per year in state\n",
      "publicColleges.info()"
     ],
     "language": "python",
     "metadata": {},
     "outputs": [
      {
       "output_type": "stream",
       "stream": "stdout",
       "text": [
        "<class 'pandas.core.frame.DataFrame'>\n",
        "Int64Index: 100 entries, 0 to 99\n",
        "Data columns (total 11 columns):\n",
        "Rank_In_State                             100 non-null int64\n",
        "Rank_Out_Of_State                         100 non-null int64\n",
        "Name                                      100 non-null object\n",
        "State                                     100 non-null object\n",
        "Admit_Rate                                100 non-null object\n",
        "4_Year_Grad_Rate                          100 non-null object\n",
        "Total_Cost_Per_Year_In_State              100 non-null object\n",
        "Cost_After_Need_Based_Aid_In_State        100 non-null object\n",
        "Total_Cost_Per_Year_Out_Of_State          100 non-null object\n",
        "Cost_After_Need_Based_Aid_Out_Of_State    100 non-null object\n",
        "Avg_Debt_At_Graduation                    98 non-null object\n",
        "dtypes: int64(2), object(9)\n",
        "memory usage: 5.9+ KB\n"
       ]
      }
     ],
     "prompt_number": 24
    },
    {
     "cell_type": "code",
     "collapsed": false,
     "input": [
      "def convertToInt(x):\n",
      "    if type(x) == float:\n",
      "        return x\n",
      "    else:\n",
      "        return int(x)\n",
      "    \n",
      "publicColleges.Avg_Debt_At_Graduation[0] = publicColleges.Avg_Debt_At_Graduation[0].replace('$', '')\n",
      "publicColleges.Avg_Debt_At_Graduation = publicColleges.Avg_Debt_At_Graduation.map(convertToInt)"
     ],
     "language": "python",
     "metadata": {},
     "outputs": [],
     "prompt_number": 64
    },
    {
     "cell_type": "code",
     "collapsed": false,
     "input": [
      "publicColleges.Avg_Debt_At_Graduation.plot(kind='hist')"
     ],
     "language": "python",
     "metadata": {},
     "outputs": [
      {
       "metadata": {},
       "output_type": "pyout",
       "prompt_number": 72,
       "text": [
        "<matplotlib.axes._subplots.AxesSubplot at 0x9bdda10>"
       ]
      },
      {
       "metadata": {},
       "output_type": "display_data",
       "png": "[encoded data removed]",
       "text": [
        "<matplotlib.figure.Figure at 0x9f33d10>"
       ]
      }
     ],
     "prompt_number": 72
    },
    {
     "cell_type": "code",
     "collapsed": false,
     "input": [
      "publicColleges.Avg_Debt_At_Graduation.describe()"
     ],
     "language": "python",
     "metadata": {},
     "outputs": [
      {
       "metadata": {},
       "output_type": "pyout",
       "prompt_number": 74,
       "text": [
        "count       98.000000\n",
        "mean     23908.867347\n",
        "std       4829.322199\n",
        "min       9949.000000\n",
        "25%      20743.500000\n",
        "50%      23875.000000\n",
        "75%      26788.500000\n",
        "max      35430.000000\n",
        "Name: Avg_Debt_At_Graduation, dtype: float64"
       ]
      }
     ],
     "prompt_number": 74
    },
    {
     "cell_type": "code",
     "collapsed": false,
     "input": [
      "# Average admission rate\n",
      "publicColleges.Admit_Rate.plot(kind='hist')"
     ],
     "language": "python",
     "metadata": {},
     "outputs": [
      {
       "metadata": {},
       "output_type": "pyout",
       "prompt_number": 75,
       "text": [
        "<matplotlib.axes._subplots.AxesSubplot at 0x9fc0db0>"
       ]
      },
      {
       "metadata": {},
       "output_type": "display_data",
       "png": "[encoded data removed]",
       "text": [
        "<matplotlib.figure.Figure at 0x95f4210>"
       ]
      }
     ],
     "prompt_number": 75
    },
    {
     "cell_type": "code",
     "collapsed": false,
     "input": [
      "# Summary statistics for admission rate\n",
      "publicColleges.Admit_Rate.describe()"
     ],
     "language": "python",
     "metadata": {},
     "outputs": [
      {
       "metadata": {},
       "output_type": "pyout",
       "prompt_number": 76,
       "text": [
        "count    100.000000\n",
        "mean      55.770000\n",
        "std       15.508782\n",
        "min       18.000000\n",
        "25%       43.750000\n",
        "50%       57.000000\n",
        "75%       67.000000\n",
        "max       85.000000\n",
        "Name: Admit_Rate, dtype: float64"
       ]
      }
     ],
     "prompt_number": 76
    },
    {
     "cell_type": "code",
     "collapsed": false,
     "input": [
      "# lets see all the colleges with atleast mean admission rate\n",
      "publicColleges[publicColleges.Admit_Rate > publicColleges.Admit_Rate.mean(axis=0)].Name"
     ],
     "language": "python",
     "metadata": {},
     "outputs": [
      {
       "metadata": {},
       "output_type": "pyout",
       "prompt_number": 78,
       "text": [
        "12                               New College of Florida\n",
        "14                            The Ohio State University\n",
        "18                              Truman State University\n",
        "20                             James Madison University\n",
        "21                             Florida State University\n",
        "24                                 Texas A&M University\n",
        "25    Virginia Polytechnic Institute and State Unive...\n",
        "26                                    Purdue University\n",
        "28                                   Clemson University\n",
        "33                    The University of Texas at Dallas\n",
        "34          The University of North Carolina Wilmington\n",
        "35           University of Illinois at Urbana\u2013Champaign\n",
        "38                         Appalachian State University\n",
        "39                       Indiana University Bloomington\n",
        "40                               University of Delaware\n",
        "42    Rutgers The State University of New Jersey New...\n",
        "43                            The University of Alabama\n",
        "44    University at Buffalo the State University of ...\n",
        "47                         University of South Carolina\n",
        "48                       St. Mary's College of Maryland\n",
        "49                            Michigan State University\n",
        "50            University of North Carolina at Asheville\n",
        "53                       University of Minnesota Morris\n",
        "54                                     Miami University\n",
        "56                               University of Missouri\n",
        "57                               University of Arkansas\n",
        "58                            University of Mississippi\n",
        "61                               University of Oklahoma\n",
        "63                           Louisiana State University\n",
        "64                    University of Wisconsin\u2013La Crosse\n",
        "67                       University of Nebraska\u2013Lincoln\n",
        "68           University of Science and Arts of Oklahoma\n",
        "69      Iowa State University of Science and Technology\n",
        "70                  University of Massachusetts Amherst\n",
        "72                            Oklahoma State University\n",
        "75              University of Maryland Baltimore County\n",
        "76                             University of Louisville\n",
        "77                          The University of Tennessee\n",
        "78        Missouri University of Science and Technology\n",
        "84                                     Rowan University\n",
        "85                          University of Northern Iowa\n",
        "86         Arizona State University at the Tempe campus\n",
        "87                                    Auburn University\n",
        "88                       Christopher Newport University\n",
        "89                                Texas Tech University\n",
        "90                        Western Washington University\n",
        "91                        University of Mary Washington\n",
        "92                            Colorado State University\n",
        "94                                    Temple University\n",
        "95    University at Albany State University of New York\n",
        "96                Massachusetts College of Liberal Arts\n",
        "98                            Illinois State University\n",
        "99           The Richard Stockton College of New Jersey\n",
        "Name: Name, Length: 53, dtype: object"
       ]
      }
     ],
     "prompt_number": 78
    },
    {
     "cell_type": "code",
     "collapsed": false,
     "input": [
      "# public colleges with graduation debt less than average debt\n",
      "publicColleges[publicColleges.Avg_Debt_At_Graduation < publicColleges.Avg_Debt_At_Graduation.mean(axis=0)].Name"
     ],
     "language": "python",
     "metadata": {},
     "outputs": [
      {
       "metadata": {},
       "output_type": "pyout",
       "prompt_number": 80,
       "text": [
        "0       The University of North Carolina at Chapel Hill\n",
        "1                                University of Virginia\n",
        "2                                 University of Florida\n",
        "3                     University of California Berkeley\n",
        "4                  University of California Los Angeles\n",
        "9                                 University of Georgia\n",
        "10                             University of Washington\n",
        "11                      North Carolina State University\n",
        "12                               New College of Florida\n",
        "15               University of California Santa Barbara\n",
        "18                              Truman State University\n",
        "19        New Mexico Institute of Mining and Technology\n",
        "20                             James Madison University\n",
        "21                             Florida State University\n",
        "23      State University of New York College at Geneseo\n",
        "29                      University of California Irvine\n",
        "30                   University of California San Diego\n",
        "32    Stony Brook University State University of New...\n",
        "33                    The University of Texas at Dallas\n",
        "34          The University of North Carolina Wilmington\n",
        "36                       University of California Davis\n",
        "37    Baruch College of the City University of New York\n",
        "38                         Appalachian State University\n",
        "41                        University of Central Florida\n",
        "44    University at Buffalo the State University of ...\n",
        "45    Hunter College of the City University of New York\n",
        "50            University of North Carolina at Asheville\n",
        "51                          University of South Florida\n",
        "52    Queens College of the City University of New York\n",
        "60                     Florida International University\n",
        "61                               University of Oklahoma\n",
        "62                  University of California Santa Cruz\n",
        "63                           Louisiana State University\n",
        "65                          University of North Florida\n",
        "66                          Western Carolina University\n",
        "71      State University of New York College at Oneonta\n",
        "72                            Oklahoma State University\n",
        "75              University of Maryland Baltimore County\n",
        "76                             University of Louisville\n",
        "77                          The University of Tennessee\n",
        "78        Missouri University of Science and Technology\n",
        "80                           San Diego State University\n",
        "83                                 Salisbury University\n",
        "86         Arizona State University at the Tempe campus\n",
        "89                                Texas Tech University\n",
        "90                        Western Washington University\n",
        "91                        University of Mary Washington\n",
        "92                            Colorado State University\n",
        "93       California State Polytechnic University Pomona\n",
        "Name: Name, dtype: object"
       ]
      }
     ],
     "prompt_number": 80
    },
    {
     "cell_type": "code",
     "collapsed": false,
     "input": [
      "# lets find out those universities which have graduate debt less than mean average debt\n",
      "# and admission rate greater than mean admission rate, these are the colleges that one can\n",
      "# apply for :)\n",
      "\n",
      "mask = (publicColleges.Avg_Debt_At_Graduation < publicColleges.Avg_Debt_At_Graduation.mean()) & (publicColleges.Admit_Rate > publicColleges.Admit_Rate.mean())\n",
      "\n",
      "publicColleges[mask].Name"
     ],
     "language": "python",
     "metadata": {},
     "outputs": [
      {
       "metadata": {},
       "output_type": "pyout",
       "prompt_number": 82,
       "text": [
        "12                               New College of Florida\n",
        "18                              Truman State University\n",
        "20                             James Madison University\n",
        "21                             Florida State University\n",
        "33                    The University of Texas at Dallas\n",
        "34          The University of North Carolina Wilmington\n",
        "38                         Appalachian State University\n",
        "44    University at Buffalo the State University of ...\n",
        "50            University of North Carolina at Asheville\n",
        "61                               University of Oklahoma\n",
        "63                           Louisiana State University\n",
        "72                            Oklahoma State University\n",
        "75              University of Maryland Baltimore County\n",
        "76                             University of Louisville\n",
        "77                          The University of Tennessee\n",
        "78        Missouri University of Science and Technology\n",
        "86         Arizona State University at the Tempe campus\n",
        "89                                Texas Tech University\n",
        "90                        Western Washington University\n",
        "91                        University of Mary Washington\n",
        "92                            Colorado State University\n",
        "Name: Name, dtype: object"
       ]
      }
     ],
     "prompt_number": 82
    },
    {
     "cell_type": "code",
     "collapsed": false,
     "input": [
      "# Group colleges by the admission rate\n",
      "publicCollegesGroupedByAdmitRate = publicColleges.groupby(pd.qcut(publicColleges.Admit_Rate, 4))"
     ],
     "language": "python",
     "metadata": {},
     "outputs": [],
     "prompt_number": 83
    },
    {
     "cell_type": "code",
     "collapsed": false,
     "input": [
      "# lets find out the the college with minimum total cost of living\n",
      "publicCollegesGroupedByAdmitRate.Total_Cost_Per_Year_In_State.apply(lambda x: min(x))"
     ],
     "language": "python",
     "metadata": {},
     "outputs": [
      {
       "metadata": {},
       "output_type": "pyout",
       "prompt_number": 87,
       "text": [
        "Admit_Rate\n",
        "[18, 43.75]    14658\n",
        "(43.75, 57]    16629\n",
        "(57, 67]       12300\n",
        "(67, 85]       15005\n",
        "Name: Total_Cost_Per_Year_In_State, dtype: int64"
       ]
      }
     ],
     "prompt_number": 87
    },
    {
     "cell_type": "code",
     "collapsed": false,
     "input": [
      "# So lets see which are these colleges\n",
      "\n",
      "print publicColleges[publicColleges.Total_Cost_Per_Year_In_State == 14658].Name\n",
      "print publicColleges[publicColleges.Total_Cost_Per_Year_In_State == 16629].Name\n",
      "print publicColleges[publicColleges.Total_Cost_Per_Year_In_State == 12300].Name\n",
      "print publicColleges[publicColleges.Total_Cost_Per_Year_In_State == 15005].Name"
     ],
     "language": "python",
     "metadata": {},
     "outputs": [
      {
       "output_type": "stream",
       "stream": "stdout",
       "text": [
        "19    New Mexico Institute of Mining and Technology\n",
        "Name: Name, dtype: object\n",
        "34    The University of North Carolina Wilmington\n",
        "Name: Name, dtype: object\n",
        "68    University of Science and Arts of Oklahoma\n",
        "Name: Name, dtype: object\n",
        "64    University of Wisconsin\u2013La Crosse\n",
        "Name: Name, dtype: object\n"
       ]
      }
     ],
     "prompt_number": 90
    },
    {
     "cell_type": "code",
     "collapsed": false,
     "input": [
      "# Lets group the colleges by their ranking out of state\n",
      "\n",
      "publicCollgesGroupedByRankingOutOfState = publicColleges.groupby(pd.qcut(publicColleges.Rank_Out_Of_State, 5))"
     ],
     "language": "python",
     "metadata": {},
     "outputs": [],
     "prompt_number": 91
    },
    {
     "cell_type": "code",
     "collapsed": false,
     "input": [
      "# Lets find out the universities  with the highest admission rate among these categories\n",
      "\n",
      "publicCollgesGroupedByRankingOutOfState.Admit_Rate.apply(lambda x: max(x))"
     ],
     "language": "python",
     "metadata": {},
     "outputs": [
      {
       "metadata": {},
       "output_type": "pyout",
       "prompt_number": 93,
       "text": [
        "Rank_Out_Of_State\n",
        "[1, 20.8]            72\n",
        "(20.8, 40.6]         70\n",
        "(40.6, 60.4]         85\n",
        "(60.4, 80.2]         84\n",
        "(80.2, 100]          83\n",
        "Name: Admit_Rate, dtype: int64"
       ]
      }
     ],
     "prompt_number": 93
    },
    {
     "cell_type": "code",
     "collapsed": false,
     "input": [
      "# Nice there are some colleges with very high admission rate\n",
      "# Lets see which are those colleges\n",
      "\n",
      "firstGroup = publicCollgesGroupedByRankingOutOfState.get_group('[1, 20.8]')\n",
      "secondGroup = publicCollgesGroupedByRankingOutOfState.get_group('(20.8, 40.6]')\n",
      "thirdGroup = publicCollgesGroupedByRankingOutOfState.get_group('(40.6, 60.4]')\n",
      "fourthGroup = publicCollgesGroupedByRankingOutOfState.get_group('(60.4, 80.2]')\n",
      "fifthGroup = publicCollgesGroupedByRankingOutOfState.get_group('(80.2, 100]')\n",
      "\n",
      "print firstGroup[firstGroup.Admit_Rate == 72].Name\n",
      "print secondGroup[secondGroup.Admit_Rate == 70].Name\n",
      "print thirdGroup[thirdGroup.Admit_Rate == 85].Name\n",
      "print fourthGroup[fourthGroup.Admit_Rate == 84].Name\n",
      "print fifthGroup[fifthGroup.Admit_Rate == 83].Name"
     ],
     "language": "python",
     "metadata": {},
     "outputs": [
      {
       "output_type": "stream",
       "stream": "stdout",
       "text": [
        "18    Truman State University\n",
        "Name: Name, dtype: object\n",
        "25    Virginia Polytechnic Institute and State Unive...\n",
        "Name: Name, dtype: object\n",
        "69    Iowa State University of Science and Technology\n",
        "Name: Name, dtype: object\n",
        "90    Western Washington University\n",
        "Name: Name, dtype: object\n",
        "85    University of Northern Iowa\n",
        "87              Auburn University\n",
        "Name: Name, dtype: object\n"
       ]
      }
     ],
     "prompt_number": 103
    },
    {
     "cell_type": "code",
     "collapsed": false,
     "input": [],
     "language": "python",
     "metadata": {},
     "outputs": []
    }
   ],
   "metadata": {}
  }
 ]
}