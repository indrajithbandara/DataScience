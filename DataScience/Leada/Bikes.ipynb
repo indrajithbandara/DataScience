{
 "metadata": {
  "name": "",
  "signature": "sha256:bd52ca0653092adff027095bc45c0c0e9b5f9fcb84806da41baaebe1d27012d6"
 },
 "nbformat": 3,
 "nbformat_minor": 0,
 "worksheets": [
  {
   "cells": [
    {
     "cell_type": "code",
     "collapsed": false,
     "input": [
      "# import libraries\n",
      "import pandas as pd\n",
      "import matplotlib.pyplot as plt"
     ],
     "language": "python",
     "metadata": {},
     "outputs": [],
     "prompt_number": 1
    },
    {
     "cell_type": "code",
     "collapsed": false,
     "input": [
      "data_location = './data/bike_trip_data.csv'\n",
      "bikes = pd.read_csv(data_location)"
     ],
     "language": "python",
     "metadata": {},
     "outputs": [],
     "prompt_number": 2
    },
    {
     "cell_type": "code",
     "collapsed": false,
     "input": [
      "bikes.tail()"
     ],
     "language": "python",
     "metadata": {},
     "outputs": [
      {
       "html": [
        "<div style=\"max-height:1000px;max-width:1500px;overflow:auto;\">\n",
        "<table border=\"1\" class=\"dataframe\">\n",
        "  <thead>\n",
        "    <tr style=\"text-align: right;\">\n",
        "      <th></th>\n",
        "      <th>Trip ID</th>\n",
        "      <th>Duration</th>\n",
        "      <th>Start Date</th>\n",
        "      <th>Start Station</th>\n",
        "      <th>Start Terminal</th>\n",
        "      <th>End Date</th>\n",
        "      <th>End Station</th>\n",
        "      <th>End Terminal</th>\n",
        "      <th>Bike #</th>\n",
        "      <th>Subscription Type</th>\n",
        "      <th>Zip Code</th>\n",
        "    </tr>\n",
        "  </thead>\n",
        "  <tbody>\n",
        "    <tr>\n",
        "      <th>144010</th>\n",
        "      <td> 198771</td>\n",
        "      <td>   385</td>\n",
        "      <td> 2/28/14 22:15</td>\n",
        "      <td>                Powell Street BART</td>\n",
        "      <td> 53</td>\n",
        "      <td> 2/28/14 22:22</td>\n",
        "      <td>             South Van Ness at Market</td>\n",
        "      <td> 66</td>\n",
        "      <td> 483</td>\n",
        "      <td> Subscriber</td>\n",
        "      <td> 94404</td>\n",
        "    </tr>\n",
        "    <tr>\n",
        "      <th>144011</th>\n",
        "      <td> 198772</td>\n",
        "      <td>   145</td>\n",
        "      <td> 2/28/14 22:38</td>\n",
        "      <td>          Commercial at Montgomery</td>\n",
        "      <td> 45</td>\n",
        "      <td> 2/28/14 22:40</td>\n",
        "      <td>                     Davis at Jackson</td>\n",
        "      <td> 42</td>\n",
        "      <td> 425</td>\n",
        "      <td> Subscriber</td>\n",
        "      <td> 94111</td>\n",
        "    </tr>\n",
        "    <tr>\n",
        "      <th>144012</th>\n",
        "      <td> 198773</td>\n",
        "      <td>   677</td>\n",
        "      <td> 2/28/14 22:45</td>\n",
        "      <td>            Embarcadero at Sansome</td>\n",
        "      <td> 60</td>\n",
        "      <td> 2/28/14 22:56</td>\n",
        "      <td>                        Market at 4th</td>\n",
        "      <td> 76</td>\n",
        "      <td> 438</td>\n",
        "      <td> Subscriber</td>\n",
        "      <td> 94102</td>\n",
        "    </tr>\n",
        "    <tr>\n",
        "      <th>144013</th>\n",
        "      <td> 198774</td>\n",
        "      <td> 64128</td>\n",
        "      <td> 2/28/14 23:01</td>\n",
        "      <td> Civic Center BART (7th at Market)</td>\n",
        "      <td> 72</td>\n",
        "      <td>  3/1/14 16:50</td>\n",
        "      <td> Harry Bridges Plaza (Ferry Building)</td>\n",
        "      <td> 50</td>\n",
        "      <td> 414</td>\n",
        "      <td>   Customer</td>\n",
        "      <td> 94124</td>\n",
        "    </tr>\n",
        "    <tr>\n",
        "      <th>144014</th>\n",
        "      <td> 198775</td>\n",
        "      <td>   570</td>\n",
        "      <td> 2/28/14 23:20</td>\n",
        "      <td>                 2nd at South Park</td>\n",
        "      <td> 64</td>\n",
        "      <td> 2/28/14 23:30</td>\n",
        "      <td>                      Townsend at 7th</td>\n",
        "      <td> 65</td>\n",
        "      <td> 577</td>\n",
        "      <td> Subscriber</td>\n",
        "      <td> 94107</td>\n",
        "    </tr>\n",
        "  </tbody>\n",
        "</table>\n",
        "</div>"
       ],
       "metadata": {},
       "output_type": "pyout",
       "prompt_number": 4,
       "text": [
        "        Trip ID  Duration     Start Date                      Start Station  \\\n",
        "144010   198771       385  2/28/14 22:15                 Powell Street BART   \n",
        "144011   198772       145  2/28/14 22:38           Commercial at Montgomery   \n",
        "144012   198773       677  2/28/14 22:45             Embarcadero at Sansome   \n",
        "144013   198774     64128  2/28/14 23:01  Civic Center BART (7th at Market)   \n",
        "144014   198775       570  2/28/14 23:20                  2nd at South Park   \n",
        "\n",
        "        Start Terminal       End Date                           End Station  \\\n",
        "144010              53  2/28/14 22:22              South Van Ness at Market   \n",
        "144011              45  2/28/14 22:40                      Davis at Jackson   \n",
        "144012              60  2/28/14 22:56                         Market at 4th   \n",
        "144013              72   3/1/14 16:50  Harry Bridges Plaza (Ferry Building)   \n",
        "144014              64  2/28/14 23:30                       Townsend at 7th   \n",
        "\n",
        "        End Terminal  Bike # Subscription Type Zip Code  \n",
        "144010            66     483        Subscriber    94404  \n",
        "144011            42     425        Subscriber    94111  \n",
        "144012            76     438        Subscriber    94102  \n",
        "144013            50     414          Customer    94124  \n",
        "144014            65     577        Subscriber    94107  "
       ]
      }
     ],
     "prompt_number": 4
    },
    {
     "cell_type": "code",
     "collapsed": false,
     "input": [
      "print bikes.columns"
     ],
     "language": "python",
     "metadata": {},
     "outputs": [
      {
       "output_type": "stream",
       "stream": "stdout",
       "text": [
        "Index([u'Trip ID', u'Duration', u'Start Date', u'Start Station', u'Start Terminal', u'End Date', u'End Station', u'End Terminal', u'Bike #', u'Subscription Type', u'Zip Code'], dtype='object')\n"
       ]
      }
     ],
     "prompt_number": 5
    },
    {
     "cell_type": "code",
     "collapsed": false,
     "input": [
      "# What was the average total time ( in minutes ) used by a bicycle in the data ?\n",
      "bikes_grouped = bikes.groupby('Bike #')"
     ],
     "language": "python",
     "metadata": {},
     "outputs": [],
     "prompt_number": 6
    },
    {
     "cell_type": "code",
     "collapsed": false,
     "input": [
      "bikes_grouped.Duration.apply(mean) / 60"
     ],
     "language": "python",
     "metadata": {},
     "outputs": [
      {
       "metadata": {},
       "output_type": "pyout",
       "prompt_number": 79,
       "text": [
        "Bike #\n",
        "9         132.841111\n",
        "10         58.307895\n",
        "11         12.940152\n",
        "12         42.508025\n",
        "13        177.085135\n",
        "14         21.444771\n",
        "15         20.094872\n",
        "16         27.606698\n",
        "17        151.928667\n",
        "18         23.713889\n",
        "19         58.457937\n",
        "20         13.441063\n",
        "21         16.725417\n",
        "22         70.764035\n",
        "23         16.013021\n",
        "...\n",
        "703        13.161765\n",
        "704        37.654359\n",
        "705         8.964667\n",
        "706        11.840909\n",
        "707       214.605303\n",
        "708        23.976282\n",
        "709        10.820833\n",
        "710         8.056383\n",
        "711        34.333333\n",
        "712        48.415657\n",
        "713        33.277604\n",
        "714         8.989333\n",
        "715         9.268889\n",
        "716        49.204348\n",
        "717        14.636012\n",
        "Name: Duration, Length: 689, dtype: float64"
       ]
      },
      {
       "output_type": "stream",
       "stream": "stdout",
       "text": [
        "\n"
       ]
      }
     ],
     "prompt_number": 79
    },
    {
     "cell_type": "code",
     "collapsed": false,
     "input": [
      "# What was the most popular day by trip frequency in this dataset ?\n",
      "from datetime import datetime\n",
      "bikes['Start Date'] = bikes['Start Date'].apply(pd.to_datetime)"
     ],
     "language": "python",
     "metadata": {},
     "outputs": [],
     "prompt_number": 30
    },
    {
     "cell_type": "code",
     "collapsed": false,
     "input": [
      "bikes['End Date'] = bikes['End Date'].apply(pd.to_datetime)"
     ],
     "language": "python",
     "metadata": {},
     "outputs": [],
     "prompt_number": 31
    },
    {
     "cell_type": "code",
     "collapsed": false,
     "input": [
      "bikes.set_index(bikes['Start Date'], inplace=True)"
     ],
     "language": "python",
     "metadata": {},
     "outputs": [],
     "prompt_number": 36
    },
    {
     "cell_type": "code",
     "collapsed": false,
     "input": [
      "bikesGroupedByDayOfYear = bikes.groupby(bikes.index.day)"
     ],
     "language": "python",
     "metadata": {},
     "outputs": [],
     "prompt_number": 37
    },
    {
     "cell_type": "code",
     "collapsed": false,
     "input": [
      "bikesGroupedByDayOfYear.apply(len).plot()"
     ],
     "language": "python",
     "metadata": {},
     "outputs": [
      {
       "metadata": {},
       "output_type": "pyout",
       "prompt_number": 40,
       "text": [
        "<matplotlib.axes._subplots.AxesSubplot at 0x8b14390>"
       ]
      },
      {
       "metadata": {},
       "output_type": "display_data",
       "png": "[encoded data removed]",
       "text": [
        "<matplotlib.figure.Figure at 0x8b148d0>"
       ]
      }
     ],
     "prompt_number": 40
    },
    {
     "cell_type": "code",
     "collapsed": false,
     "input": [
      "bikesGroupedByStartTerminal = bikes.groupby(bikes['Start Terminal'])"
     ],
     "language": "python",
     "metadata": {},
     "outputs": [],
     "prompt_number": 60
    },
    {
     "cell_type": "code",
     "collapsed": false,
     "input": [
      "bikesGroupedByStartTerminal.nth(31)['Start Date']"
     ],
     "language": "python",
     "metadata": {},
     "outputs": [
      {
       "metadata": {},
       "output_type": "pyout",
       "prompt_number": 61,
       "text": [
        "Start Terminal\n",
        "2                2013-09-03 20:09:00\n",
        "3                2013-09-13 12:43:00\n",
        "4                2013-09-10 12:16:00\n",
        "5                2013-09-16 16:07:00\n",
        "6                2013-09-01 19:49:00\n",
        "7                2013-09-03 10:00:00\n",
        "8                2013-09-04 20:39:00\n",
        "9                2013-09-05 15:29:00\n",
        "10               2013-09-01 17:29:00\n",
        "11               2013-09-04 21:53:00\n",
        "12               2013-09-11 13:15:00\n",
        "13               2013-09-09 20:50:00\n",
        "14               2013-09-15 00:37:00\n",
        "16               2013-09-08 10:39:00\n",
        "21               2013-09-28 15:52:00\n",
        "...\n",
        "64               2013-09-03 15:55:00\n",
        "65               2013-08-31 17:27:00\n",
        "66               2013-08-29 09:35:00\n",
        "67               2013-08-30 18:41:00\n",
        "68               2013-08-31 16:22:00\n",
        "69               2013-08-30 16:13:00\n",
        "70               2013-08-30 09:05:00\n",
        "71               2013-08-31 15:58:00\n",
        "72               2013-08-31 11:09:00\n",
        "73               2013-08-31 21:07:00\n",
        "74               2013-08-30 17:24:00\n",
        "75               2013-08-31 02:36:00\n",
        "76               2013-08-30 22:37:00\n",
        "77               2013-08-30 14:27:00\n",
        "82               2014-01-30 07:44:00\n",
        "Name: Start Date, Length: 67, dtype: datetime64[ns]"
       ]
      }
     ],
     "prompt_number": 61
    },
    {
     "cell_type": "code",
     "collapsed": false,
     "input": [
      "bikesGroupedByStartTerminal['Start Date']"
     ],
     "language": "python",
     "metadata": {},
     "outputs": [
      {
       "metadata": {},
       "output_type": "pyout",
       "prompt_number": 68,
       "text": [
        "<pandas.core.groupby.SeriesGroupBy object at 0x08F4CED0>"
       ]
      }
     ],
     "prompt_number": 68
    },
    {
     "cell_type": "code",
     "collapsed": false,
     "input": [
      "for name, group in bikesGroupedByStartTerminal:\n",
      "    group = group.sort(['Start Date'])\n",
      "    print 'Start Terminal ', group.ix[31]['Start Terminal']\n",
      "    print 'Start Date ', group.ix[31]['Start Date']\n",
      "    print '-----------------'"
     ],
     "language": "python",
     "metadata": {},
     "outputs": [
      {
       "output_type": "stream",
       "stream": "stdout",
       "text": [
        "Start Terminal  2\n",
        "Start Date  2013-09-03 20:09:00\n",
        "-----------------\n",
        "Start Terminal  3\n",
        "Start Date  2013-09-13 12:43:00\n",
        "-----------------\n",
        "Start Terminal  4\n",
        "Start Date  2013-09-10 12:16:00\n",
        "-----------------\n",
        "Start Terminal  5\n",
        "Start Date  2013-09-16 16:07:00\n",
        "-----------------\n",
        "Start Terminal  6\n",
        "Start Date  2013-09-01 19:49:00\n",
        "-----------------\n",
        "Start Terminal  7\n",
        "Start Date  2013-09-03 10:00:00\n",
        "-----------------\n",
        "Start Terminal  8\n",
        "Start Date  2013-09-04 20:39:00\n",
        "-----------------\n",
        "Start Terminal "
       ]
      },
      {
       "output_type": "stream",
       "stream": "stdout",
       "text": [
        " 9\n",
        "Start Date  2013-09-05 15:29:00\n",
        "-----------------\n",
        "Start Terminal  10\n",
        "Start Date  2013-09-01 17:29:00\n",
        "-----------------\n",
        "Start Terminal  11\n",
        "Start Date  2013-09-04 21:53:00\n",
        "-----------------\n",
        "Start Terminal  12\n",
        "Start Date  2013-09-11 13:15:00\n",
        "-----------------\n",
        "Start Terminal  13\n",
        "Start Date  "
       ]
      },
      {
       "output_type": "stream",
       "stream": "stdout",
       "text": [
        "2013-09-09 20:50:00\n",
        "-----------------\n",
        "Start Terminal  14\n",
        "Start Date  2013-09-15 00:37:00\n",
        "-----------------\n",
        "Start Terminal  16\n",
        "Start Date  2013-09-08 10:39:00\n",
        "-----------------\n",
        "Start Terminal  21\n",
        "Start Date  2013-09-28 15:52:00\n",
        "-----------------\n",
        "Start Terminal  22\n",
        "Start Date  2013-09-10 22:17:00\n",
        "-----------------\n",
        "Start Terminal  23\n",
        "Start Date  2013-10-01 12:37:00\n",
        "-----------------\n",
        "Start Terminal  24\n",
        "Start Date  2013-11-13 10:35:00\n",
        "-----------------\n",
        "Start Terminal  25\n",
        "Start Date  2014-01-03 10:31:00\n",
        "-----------------\n",
        "Start Terminal  26\n",
        "Start Date  2013-10-04 15:03:00\n",
        "-----------------\n",
        "Start Terminal  27\n",
        "Start Date  2013-09-13 18:50:00\n",
        "-----------------\n",
        "Start Terminal  28\n",
        "Start Date  "
       ]
      },
      {
       "output_type": "stream",
       "stream": "stdout",
       "text": [
        "2013-09-04 11:02:00\n",
        "-----------------\n",
        "Start Terminal  29\n",
        "Start Date  2013-09-21 23:31:00\n",
        "-----------------\n",
        "Start Terminal  30\n",
        "Start Date  2013-09-28 16:45:00\n",
        "-----------------\n",
        "Start Terminal  31\n",
        "Start Date  2014-01-27 16:53:00\n",
        "-----------------\n",
        "Start Terminal  32\n",
        "Start Date  2014-01-16 16:42:00\n",
        "-----------------\n",
        "Start Terminal  33\n",
        "Start Date  2013-09-12 12:26:00\n",
        "-----------------\n",
        "Start Terminal  34\n",
        "Start Date  2013-09-16 17:42:00\n",
        "-----------------\n",
        "Start Terminal  35\n",
        "Start Date  2013-09-01 18:43:00\n",
        "-----------------\n",
        "Start Terminal "
       ]
      },
      {
       "output_type": "stream",
       "stream": "stdout",
       "text": [
        " 36\n",
        "Start Date  2013-09-08 15:34:00\n",
        "-----------------\n",
        "Start Terminal  37\n",
        "Start Date  2013-09-13 08:07:00\n",
        "-----------------\n",
        "Start Terminal  38\n",
        "Start Date  2013-09-18 19:04:00\n",
        "-----------------\n",
        "Start Terminal  41\n",
        "Start Date  2013-08-31 09:49:00\n",
        "-----------------\n",
        "Start Terminal  42\n",
        "Start Date  2013-08-31 13:47:00\n",
        "-----------------\n",
        "Start Terminal  45\n",
        "Start Date  2013-08-30 14:20:00\n",
        "-----------------\n",
        "Start Terminal  46\n",
        "Start Date  2013-09-05 15:41:00\n",
        "-----------------\n",
        "Start Terminal  47\n",
        "Start Date  2013-08-30 12:14:00\n",
        "-----------------\n",
        "Start Terminal  "
       ]
      },
      {
       "output_type": "stream",
       "stream": "stdout",
       "text": [
        "48\n",
        "Start Date  2013-08-30 17:11:00\n",
        "-----------------\n",
        "Start Terminal  49\n",
        "Start Date  2013-08-31 13:10:00\n",
        "-----------------\n",
        "Start Terminal  50\n",
        "Start Date  2013-08-29 16:56:00\n",
        "-----------------\n",
        "Start Terminal  51\n",
        "Start Date  2013-09-01 17:43:00\n",
        "-----------------\n",
        "Start Terminal  53\n",
        "Start Date  2013-08-30 13:53:00\n",
        "-----------------\n",
        "Start Terminal  54\n",
        "Start Date  2013-08-31 12:12:00\n",
        "-----------------\n",
        "Start Terminal  55\n",
        "Start Date  2013-09-01 08:17:00\n",
        "-----------------\n",
        "Start Terminal "
       ]
      },
      {
       "output_type": "stream",
       "stream": "stdout",
       "text": [
        " 56\n",
        "Start Date  2013-08-30 21:16:00\n",
        "-----------------\n",
        "Start Terminal  57\n",
        "Start Date  2013-08-31 21:54:00\n",
        "-----------------\n",
        "Start Terminal  58\n",
        "Start Date  2013-08-31 11:33:00\n",
        "-----------------\n",
        "Start Terminal  59\n",
        "Start Date  2013-08-31 09:05:00\n",
        "-----------------\n",
        "Start Terminal  60\n",
        "Start Date  2013-08-30 12:11:00\n",
        "-----------------\n",
        "Start Terminal  61\n",
        "Start Date  2013-08-30 21:08:00\n",
        "-----------------\n",
        "Start Terminal  62\n",
        "Start Date  2013-08-31 18:42:00\n",
        "-----------------\n",
        "Start Terminal "
       ]
      },
      {
       "output_type": "stream",
       "stream": "stdout",
       "text": [
        " 63\n",
        "Start Date  2013-08-31 11:15:00\n",
        "-----------------\n",
        "Start Terminal  64\n",
        "Start Date  2013-09-03 15:55:00\n",
        "-----------------\n",
        "Start Terminal  65\n",
        "Start Date  2013-08-31 08:27:00\n",
        "-----------------\n",
        "Start Terminal  66\n",
        "Start Date  2013-08-29 16:24:00\n",
        "-----------------\n",
        "Start Terminal  67\n",
        "Start Date  2013-08-30 12:18:00\n",
        "-----------------\n",
        "Start Terminal  68\n",
        "Start Date  "
       ]
      },
      {
       "output_type": "stream",
       "stream": "stdout",
       "text": [
        "2013-08-31 16:22:00\n",
        "-----------------\n",
        "Start Terminal  69\n",
        "Start Date  2013-08-30 13:59:00\n",
        "-----------------\n",
        "Start Terminal  70\n",
        "Start Date  2013-08-30 07:19:00\n",
        "-----------------\n",
        "Start Terminal  71\n",
        "Start Date  2013-08-31 09:51:00\n",
        "-----------------\n",
        "Start Terminal  72\n",
        "Start Date  2013-08-31 11:09:00\n",
        "-----------------\n",
        "Start Terminal "
       ]
      },
      {
       "output_type": "stream",
       "stream": "stdout",
       "text": [
        " 73\n",
        "Start Date  2013-08-31 10:01:00\n",
        "-----------------\n",
        "Start Terminal  74\n",
        "Start Date  2013-08-30 17:20:00\n",
        "-----------------\n",
        "Start Terminal  75\n",
        "Start Date  2013-08-31 16:56:00\n",
        "-----------------\n",
        "Start Terminal  76\n",
        "Start Date  2013-08-30 08:25:00\n",
        "-----------------\n",
        "Start Terminal  77\n",
        "Start Date  "
       ]
      },
      {
       "output_type": "stream",
       "stream": "stdout",
       "text": [
        "2013-08-30 08:18:00\n",
        "-----------------\n",
        "Start Terminal "
       ]
      },
      {
       "ename": "IndexError",
       "evalue": "index 31 is out of bounds for axis 0 with size 23",
       "output_type": "pyerr",
       "traceback": [
        "\u001b[1;31m---------------------------------------------------------------------------\u001b[0m\n\u001b[1;31mIndexError\u001b[0m                                Traceback (most recent call last)",
        "\u001b[1;32m<ipython-input-77-e1e3b6905cfb>\u001b[0m in \u001b[0;36m<module>\u001b[1;34m()\u001b[0m\n\u001b[0;32m      1\u001b[0m \u001b[1;32mfor\u001b[0m \u001b[0mname\u001b[0m\u001b[1;33m,\u001b[0m \u001b[0mgroup\u001b[0m \u001b[1;32min\u001b[0m \u001b[0mbikesGroupedByStartTerminal\u001b[0m\u001b[1;33m:\u001b[0m\u001b[1;33m\u001b[0m\u001b[0m\n\u001b[0;32m      2\u001b[0m     \u001b[0mgroup\u001b[0m \u001b[1;33m=\u001b[0m \u001b[0mgroup\u001b[0m\u001b[1;33m.\u001b[0m\u001b[0msort\u001b[0m\u001b[1;33m(\u001b[0m\u001b[1;33m[\u001b[0m\u001b[1;34m'Start Date'\u001b[0m\u001b[1;33m]\u001b[0m\u001b[1;33m)\u001b[0m\u001b[1;33m\u001b[0m\u001b[0m\n\u001b[1;32m----> 3\u001b[1;33m     \u001b[1;32mprint\u001b[0m \u001b[1;34m'Start Terminal '\u001b[0m\u001b[1;33m,\u001b[0m \u001b[0mgroup\u001b[0m\u001b[1;33m.\u001b[0m\u001b[0mix\u001b[0m\u001b[1;33m[\u001b[0m\u001b[1;36m31\u001b[0m\u001b[1;33m]\u001b[0m\u001b[1;33m[\u001b[0m\u001b[1;34m'Start Terminal'\u001b[0m\u001b[1;33m]\u001b[0m\u001b[1;33m\u001b[0m\u001b[0m\n\u001b[0m\u001b[0;32m      4\u001b[0m     \u001b[1;32mprint\u001b[0m \u001b[1;34m'Start Date '\u001b[0m\u001b[1;33m,\u001b[0m \u001b[0mgroup\u001b[0m\u001b[1;33m.\u001b[0m\u001b[0mix\u001b[0m\u001b[1;33m[\u001b[0m\u001b[1;36m31\u001b[0m\u001b[1;33m]\u001b[0m\u001b[1;33m[\u001b[0m\u001b[1;34m'Start Date'\u001b[0m\u001b[1;33m]\u001b[0m\u001b[1;33m\u001b[0m\u001b[0m\n\u001b[0;32m      5\u001b[0m     \u001b[1;32mprint\u001b[0m \u001b[1;34m'-----------------'\u001b[0m\u001b[1;33m\u001b[0m\u001b[0m\n",
        "\u001b[1;32mC:\\Anaconda\\lib\\site-packages\\pandas\\core\\indexing.pyc\u001b[0m in \u001b[0;36m__getitem__\u001b[1;34m(self, key)\u001b[0m\n\u001b[0;32m     70\u001b[0m             \u001b[1;32mreturn\u001b[0m \u001b[0mself\u001b[0m\u001b[1;33m.\u001b[0m\u001b[0m_getitem_tuple\u001b[0m\u001b[1;33m(\u001b[0m\u001b[0mkey\u001b[0m\u001b[1;33m)\u001b[0m\u001b[1;33m\u001b[0m\u001b[0m\n\u001b[0;32m     71\u001b[0m         \u001b[1;32melse\u001b[0m\u001b[1;33m:\u001b[0m\u001b[1;33m\u001b[0m\u001b[0m\n\u001b[1;32m---> 72\u001b[1;33m             \u001b[1;32mreturn\u001b[0m \u001b[0mself\u001b[0m\u001b[1;33m.\u001b[0m\u001b[0m_getitem_axis\u001b[0m\u001b[1;33m(\u001b[0m\u001b[0mkey\u001b[0m\u001b[1;33m,\u001b[0m \u001b[0maxis\u001b[0m\u001b[1;33m=\u001b[0m\u001b[1;36m0\u001b[0m\u001b[1;33m)\u001b[0m\u001b[1;33m\u001b[0m\u001b[0m\n\u001b[0m\u001b[0;32m     73\u001b[0m \u001b[1;33m\u001b[0m\u001b[0m\n\u001b[0;32m     74\u001b[0m     \u001b[1;32mdef\u001b[0m \u001b[0m_get_label\u001b[0m\u001b[1;33m(\u001b[0m\u001b[0mself\u001b[0m\u001b[1;33m,\u001b[0m \u001b[0mlabel\u001b[0m\u001b[1;33m,\u001b[0m \u001b[0maxis\u001b[0m\u001b[1;33m=\u001b[0m\u001b[1;36m0\u001b[0m\u001b[1;33m)\u001b[0m\u001b[1;33m:\u001b[0m\u001b[1;33m\u001b[0m\u001b[0m\n",
        "\u001b[1;32mC:\\Anaconda\\lib\\site-packages\\pandas\\core\\indexing.pyc\u001b[0m in \u001b[0;36m_getitem_axis\u001b[1;34m(self, key, axis)\u001b[0m\n\u001b[0;32m    924\u001b[0m                 \u001b[1;31m# this is the fallback! (for a non-float, non-integer index)\u001b[0m\u001b[1;33m\u001b[0m\u001b[1;33m\u001b[0m\u001b[0m\n\u001b[0;32m    925\u001b[0m                 \u001b[1;32mif\u001b[0m \u001b[1;32mnot\u001b[0m \u001b[0mlabels\u001b[0m\u001b[1;33m.\u001b[0m\u001b[0mis_floating\u001b[0m\u001b[1;33m(\u001b[0m\u001b[1;33m)\u001b[0m \u001b[1;32mand\u001b[0m \u001b[1;32mnot\u001b[0m \u001b[0mlabels\u001b[0m\u001b[1;33m.\u001b[0m\u001b[0mis_integer\u001b[0m\u001b[1;33m(\u001b[0m\u001b[1;33m)\u001b[0m\u001b[1;33m:\u001b[0m\u001b[1;33m\u001b[0m\u001b[0m\n\u001b[1;32m--> 926\u001b[1;33m                     \u001b[1;32mreturn\u001b[0m \u001b[0mself\u001b[0m\u001b[1;33m.\u001b[0m\u001b[0m_get_loc\u001b[0m\u001b[1;33m(\u001b[0m\u001b[0mkey\u001b[0m\u001b[1;33m,\u001b[0m \u001b[0maxis\u001b[0m\u001b[1;33m=\u001b[0m\u001b[0maxis\u001b[0m\u001b[1;33m)\u001b[0m\u001b[1;33m\u001b[0m\u001b[0m\n\u001b[0m\u001b[0;32m    927\u001b[0m \u001b[1;33m\u001b[0m\u001b[0m\n\u001b[0;32m    928\u001b[0m             \u001b[1;32mreturn\u001b[0m \u001b[0mself\u001b[0m\u001b[1;33m.\u001b[0m\u001b[0m_get_label\u001b[0m\u001b[1;33m(\u001b[0m\u001b[0mkey\u001b[0m\u001b[1;33m,\u001b[0m \u001b[0maxis\u001b[0m\u001b[1;33m=\u001b[0m\u001b[0maxis\u001b[0m\u001b[1;33m)\u001b[0m\u001b[1;33m\u001b[0m\u001b[0m\n",
        "\u001b[1;32mC:\\Anaconda\\lib\\site-packages\\pandas\\core\\indexing.pyc\u001b[0m in \u001b[0;36m_get_loc\u001b[1;34m(self, key, axis)\u001b[0m\n\u001b[0;32m     89\u001b[0m \u001b[1;33m\u001b[0m\u001b[0m\n\u001b[0;32m     90\u001b[0m     \u001b[1;32mdef\u001b[0m \u001b[0m_get_loc\u001b[0m\u001b[1;33m(\u001b[0m\u001b[0mself\u001b[0m\u001b[1;33m,\u001b[0m \u001b[0mkey\u001b[0m\u001b[1;33m,\u001b[0m \u001b[0maxis\u001b[0m\u001b[1;33m=\u001b[0m\u001b[1;36m0\u001b[0m\u001b[1;33m)\u001b[0m\u001b[1;33m:\u001b[0m\u001b[1;33m\u001b[0m\u001b[0m\n\u001b[1;32m---> 91\u001b[1;33m         \u001b[1;32mreturn\u001b[0m \u001b[0mself\u001b[0m\u001b[1;33m.\u001b[0m\u001b[0mobj\u001b[0m\u001b[1;33m.\u001b[0m\u001b[0m_ixs\u001b[0m\u001b[1;33m(\u001b[0m\u001b[0mkey\u001b[0m\u001b[1;33m,\u001b[0m \u001b[0maxis\u001b[0m\u001b[1;33m=\u001b[0m\u001b[0maxis\u001b[0m\u001b[1;33m)\u001b[0m\u001b[1;33m\u001b[0m\u001b[0m\n\u001b[0m\u001b[0;32m     92\u001b[0m \u001b[1;33m\u001b[0m\u001b[0m\n\u001b[0;32m     93\u001b[0m     \u001b[1;32mdef\u001b[0m \u001b[0m_slice\u001b[0m\u001b[1;33m(\u001b[0m\u001b[0mself\u001b[0m\u001b[1;33m,\u001b[0m \u001b[0mobj\u001b[0m\u001b[1;33m,\u001b[0m \u001b[0maxis\u001b[0m\u001b[1;33m=\u001b[0m\u001b[1;36m0\u001b[0m\u001b[1;33m,\u001b[0m \u001b[0mtyp\u001b[0m\u001b[1;33m=\u001b[0m\u001b[0mNone\u001b[0m\u001b[1;33m)\u001b[0m\u001b[1;33m:\u001b[0m\u001b[1;33m\u001b[0m\u001b[0m\n",
        "\u001b[1;32mC:\\Anaconda\\lib\\site-packages\\pandas\\core\\frame.pyc\u001b[0m in \u001b[0;36m_ixs\u001b[1;34m(self, i, axis)\u001b[0m\n\u001b[0;32m   1702\u001b[0m                 \u001b[1;32mreturn\u001b[0m \u001b[0mself\u001b[0m\u001b[1;33m[\u001b[0m\u001b[0mi\u001b[0m\u001b[1;33m]\u001b[0m\u001b[1;33m\u001b[0m\u001b[0m\n\u001b[0;32m   1703\u001b[0m             \u001b[1;32melse\u001b[0m\u001b[1;33m:\u001b[0m\u001b[1;33m\u001b[0m\u001b[0m\n\u001b[1;32m-> 1704\u001b[1;33m                 \u001b[0mlabel\u001b[0m \u001b[1;33m=\u001b[0m \u001b[0mself\u001b[0m\u001b[1;33m.\u001b[0m\u001b[0mindex\u001b[0m\u001b[1;33m[\u001b[0m\u001b[0mi\u001b[0m\u001b[1;33m]\u001b[0m\u001b[1;33m\u001b[0m\u001b[0m\n\u001b[0m\u001b[0;32m   1705\u001b[0m                 \u001b[1;32mif\u001b[0m \u001b[0misinstance\u001b[0m\u001b[1;33m(\u001b[0m\u001b[0mlabel\u001b[0m\u001b[1;33m,\u001b[0m \u001b[0mIndex\u001b[0m\u001b[1;33m)\u001b[0m\u001b[1;33m:\u001b[0m\u001b[1;33m\u001b[0m\u001b[0m\n\u001b[0;32m   1706\u001b[0m                     \u001b[1;31m# a location index by definition\u001b[0m\u001b[1;33m\u001b[0m\u001b[1;33m\u001b[0m\u001b[0m\n",
        "\u001b[1;32mC:\\Anaconda\\lib\\site-packages\\pandas\\tseries\\index.pyc\u001b[0m in \u001b[0;36m__getitem__\u001b[1;34m(self, key)\u001b[0m\n\u001b[0;32m   1362\u001b[0m         \u001b[0mgetitem\u001b[0m \u001b[1;33m=\u001b[0m \u001b[0mself\u001b[0m\u001b[1;33m.\u001b[0m\u001b[0m_data\u001b[0m\u001b[1;33m.\u001b[0m\u001b[0m__getitem__\u001b[0m\u001b[1;33m\u001b[0m\u001b[0m\n\u001b[0;32m   1363\u001b[0m         \u001b[1;32mif\u001b[0m \u001b[0mnp\u001b[0m\u001b[1;33m.\u001b[0m\u001b[0misscalar\u001b[0m\u001b[1;33m(\u001b[0m\u001b[0mkey\u001b[0m\u001b[1;33m)\u001b[0m\u001b[1;33m:\u001b[0m\u001b[1;33m\u001b[0m\u001b[0m\n\u001b[1;32m-> 1364\u001b[1;33m             \u001b[0mval\u001b[0m \u001b[1;33m=\u001b[0m \u001b[0mgetitem\u001b[0m\u001b[1;33m(\u001b[0m\u001b[0mkey\u001b[0m\u001b[1;33m)\u001b[0m\u001b[1;33m\u001b[0m\u001b[0m\n\u001b[0m\u001b[0;32m   1365\u001b[0m             \u001b[1;32mreturn\u001b[0m \u001b[0mTimestamp\u001b[0m\u001b[1;33m(\u001b[0m\u001b[0mval\u001b[0m\u001b[1;33m,\u001b[0m \u001b[0moffset\u001b[0m\u001b[1;33m=\u001b[0m\u001b[0mself\u001b[0m\u001b[1;33m.\u001b[0m\u001b[0moffset\u001b[0m\u001b[1;33m,\u001b[0m \u001b[0mtz\u001b[0m\u001b[1;33m=\u001b[0m\u001b[0mself\u001b[0m\u001b[1;33m.\u001b[0m\u001b[0mtz\u001b[0m\u001b[1;33m)\u001b[0m\u001b[1;33m\u001b[0m\u001b[0m\n\u001b[0;32m   1366\u001b[0m         \u001b[1;32melse\u001b[0m\u001b[1;33m:\u001b[0m\u001b[1;33m\u001b[0m\u001b[0m\n",
        "\u001b[1;31mIndexError\u001b[0m: index 31 is out of bounds for axis 0 with size 23"
       ]
      }
     ],
     "prompt_number": 77
    },
    {
     "cell_type": "code",
     "collapsed": false,
     "input": [],
     "language": "python",
     "metadata": {},
     "outputs": []
    }
   ],
   "metadata": {}
  }
 ]
}