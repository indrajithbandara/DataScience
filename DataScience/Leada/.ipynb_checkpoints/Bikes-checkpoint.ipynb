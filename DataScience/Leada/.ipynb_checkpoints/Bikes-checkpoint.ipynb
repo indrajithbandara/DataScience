{
 "metadata": {
  "name": "",
  "signature": "sha256:ca5d68ba3e94ff478028f844c320acc8cf8ddf55575f1f8475e8f6208332aa7a"
 },
 "nbformat": 3,
 "nbformat_minor": 0,
 "worksheets": []
}