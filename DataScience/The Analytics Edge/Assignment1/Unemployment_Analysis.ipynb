{
 "cells": [
  {
   "cell_type": "code",
   "execution_count": 1,
   "metadata": {
    "collapsed": true
   },
   "outputs": [],
   "source": [
    "import numpy as np\n",
    "import pandas as pd\n",
    "import seaborn as sns\n",
    "import matplotlib.pyplot as plt\n",
    "%matplotlib inline"
   ]
  },
  {
   "cell_type": "code",
   "execution_count": 2,
   "metadata": {
    "collapsed": true
   },
   "outputs": [],
   "source": [
    "CPSData = pd.read_csv('./data/CPSData.csv')"
   ]
  },
  {
   "cell_type": "code",
   "execution_count": 3,
   "metadata": {
    "collapsed": false
   },
   "outputs": [
    {
     "name": "stdout",
     "output_type": "stream",
     "text": [
      "<class 'pandas.core.frame.DataFrame'>\n",
      "Int64Index: 131302 entries, 0 to 131301\n",
      "Data columns (total 14 columns):\n",
      "PeopleInHousehold     131302 non-null int64\n",
      "Region                131302 non-null object\n",
      "State                 131302 non-null object\n",
      "MetroAreaCode         97064 non-null float64\n",
      "Age                   131302 non-null int64\n",
      "Married               105964 non-null object\n",
      "Sex                   131302 non-null object\n",
      "Education             105964 non-null object\n",
      "Race                  131302 non-null object\n",
      "Hispanic              131302 non-null int64\n",
      "CountryOfBirthCode    131302 non-null int64\n",
      "Citizenship           131302 non-null object\n",
      "EmploymentStatus      105513 non-null object\n",
      "Industry              66242 non-null object\n",
      "dtypes: float64(1), int64(4), object(9)\n",
      "memory usage: 10.5+ MB\n"
     ]
    }
   ],
   "source": [
    "CPSData.info()"
   ]
  },
  {
   "cell_type": "code",
   "execution_count": 4,
   "metadata": {
    "collapsed": false
   },
   "outputs": [
    {
     "data": {
      "text/plain": [
       "Educational and health services                15017\n",
       "Trade                                           8933\n",
       "Professional and business services              7519\n",
       "Manufacturing                                   6791\n",
       "Leisure and hospitality                         6364\n",
       "Construction                                    4387\n",
       "Financial                                       4347\n",
       "Transportation and utilities                    3260\n",
       "Other services                                  3224\n",
       "Public administration                           3186\n",
       "Information                                     1328\n",
       "Agriculture, forestry, fishing, and hunting     1307\n",
       "Mining                                           550\n",
       "Armed forces                                      29\n",
       "dtype: int64"
      ]
     },
     "execution_count": 4,
     "metadata": {},
     "output_type": "execute_result"
    }
   ],
   "source": [
    "# Most common industry of employment among interviewees\n",
    "CPSData.Industry.value_counts().order(ascending=False)"
   ]
  },
  {
   "cell_type": "code",
   "execution_count": 7,
   "metadata": {
    "collapsed": false
   },
   "outputs": [
    {
     "data": {
      "text/plain": [
       "New Mexico    1102\n",
       "dtype: int64"
      ]
     },
     "execution_count": 7,
     "metadata": {},
     "output_type": "execute_result"
    }
   ],
   "source": [
    "# Which state has the fewest interviewees ?\n",
    "CPSData.State.value_counts().order().head(1)"
   ]
  },
  {
   "cell_type": "code",
   "execution_count": 8,
   "metadata": {
    "collapsed": false
   },
   "outputs": [
    {
     "data": {
      "text/plain": [
       "California    11570\n",
       "dtype: int64"
      ]
     },
     "execution_count": 8,
     "metadata": {},
     "output_type": "execute_result"
    }
   ],
   "source": [
    "# Which state has the largest number of interviewees ?\n",
    "CPSData.State.value_counts().order(ascending=False).head(1)"
   ]
  },
  {
   "cell_type": "code",
   "execution_count": 14,
   "metadata": {
    "collapsed": false
   },
   "outputs": [
    {
     "name": "stdout",
     "output_type": "stream",
     "text": [
      "0.942194330627\n"
     ]
    }
   ],
   "source": [
    "# What proportion of interviewees are citizens of the United States ?\n",
    "citizen = CPSData[CPSData.Citizenship != 'Non-Citizen']\n",
    "print (len(citizen) * 1.) / (CPSData.shape[0])"
   ]
  },
  {
   "cell_type": "code",
   "execution_count": 33,
   "metadata": {
    "collapsed": false
   },
   "outputs": [
    {
     "data": {
      "text/html": [
       "<div style=\"max-height:1000px;max-width:1500px;overflow:auto;\">\n",
       "<table border=\"1\" class=\"dataframe\">\n",
       "  <thead>\n",
       "    <tr style=\"text-align: right;\">\n",
       "      <th>Hispanic</th>\n",
       "      <th>0</th>\n",
       "      <th>1</th>\n",
       "    </tr>\n",
       "    <tr>\n",
       "      <th>Race</th>\n",
       "      <th></th>\n",
       "      <th></th>\n",
       "    </tr>\n",
       "  </thead>\n",
       "  <tbody>\n",
       "    <tr>\n",
       "      <th>American Indian</th>\n",
       "      <td>  1129</td>\n",
       "      <td>   304</td>\n",
       "    </tr>\n",
       "    <tr>\n",
       "      <th>Black</th>\n",
       "      <td> 13292</td>\n",
       "      <td>   621</td>\n",
       "    </tr>\n",
       "    <tr>\n",
       "      <th>Multiracial</th>\n",
       "      <td>  2449</td>\n",
       "      <td>   448</td>\n",
       "    </tr>\n",
       "    <tr>\n",
       "      <th>White</th>\n",
       "      <td> 89190</td>\n",
       "      <td> 16731</td>\n",
       "    </tr>\n",
       "  </tbody>\n",
       "</table>\n",
       "</div>"
      ],
      "text/plain": [
       "Hispanic             0      1\n",
       "Race                         \n",
       "American Indian   1129    304\n",
       "Black            13292    621\n",
       "Multiracial       2449    448\n",
       "White            89190  16731"
      ]
     },
     "execution_count": 33,
     "metadata": {},
     "output_type": "execute_result"
    }
   ],
   "source": [
    "# For which race there are atleast 250 interviewees in the CPS dataset of Hispanic ethnicity ?\n",
    "c = CPSData.groupby(['Race', 'Hispanic']).size().unstack(level=1)\n",
    "c[c[1] > 250]"
   ]
  },
  {
   "cell_type": "code",
   "execution_count": 22,
   "metadata": {
    "collapsed": false
   },
   "outputs": [
    {
     "data": {
      "text/plain": [
       "Race             Hispanic\n",
       "American Indian  0            1129\n",
       "                 1             304\n",
       "Asian            0            6407\n",
       "                 1             113\n",
       "Black            0           13292\n",
       "dtype: int64"
      ]
     },
     "execution_count": 22,
     "metadata": {},
     "output_type": "execute_result"
    }
   ],
   "source": [
    "c.head()"
   ]
  },
  {
   "cell_type": "markdown",
   "metadata": {},
   "source": [
    "### Evaluating Missing Values"
   ]
  },
  {
   "cell_type": "code",
   "execution_count": 34,
   "metadata": {
    "collapsed": false
   },
   "outputs": [
    {
     "name": "stdout",
     "output_type": "stream",
     "text": [
      "<class 'pandas.core.frame.DataFrame'>\n",
      "Int64Index: 131302 entries, 0 to 131301\n",
      "Data columns (total 14 columns):\n",
      "PeopleInHousehold     131302 non-null int64\n",
      "Region                131302 non-null object\n",
      "State                 131302 non-null object\n",
      "MetroAreaCode         97064 non-null float64\n",
      "Age                   131302 non-null int64\n",
      "Married               105964 non-null object\n",
      "Sex                   131302 non-null object\n",
      "Education             105964 non-null object\n",
      "Race                  131302 non-null object\n",
      "Hispanic              131302 non-null int64\n",
      "CountryOfBirthCode    131302 non-null int64\n",
      "Citizenship           131302 non-null object\n",
      "EmploymentStatus      105513 non-null object\n",
      "Industry              66242 non-null object\n",
      "dtypes: float64(1), int64(4), object(9)\n",
      "memory usage: 10.5+ MB\n"
     ]
    }
   ],
   "source": [
    "# Which variables have at least one interviewee with a missing (NA) value ?\n",
    "CPSData.info()"
   ]
  },
  {
   "cell_type": "code",
   "execution_count": 36,
   "metadata": {
    "collapsed": false
   },
   "outputs": [
    {
     "data": {
      "text/plain": [
       "Region     Married\n",
       "Midwest    False      24609\n",
       "           True        6075\n",
       "Northeast  False      21432\n",
       "           True        4507\n",
       "South      False      33535\n",
       "           True        7967\n",
       "West       False      26388\n",
       "           True        6789\n",
       "dtype: int64"
      ]
     },
     "execution_count": 36,
     "metadata": {},
     "output_type": "execute_result"
    }
   ],
   "source": [
    "# Identify the pattern in the missing values in the dataset?\n",
    "CPSData.groupby(['Region', CPSData.Married.isnull()]).size()"
   ]
  },
  {
   "cell_type": "code",
   "execution_count": 37,
   "metadata": {
    "collapsed": false
   },
   "outputs": [
    {
     "data": {
      "text/plain": [
       "Sex     Married\n",
       "Female  False      55264\n",
       "        True       12217\n",
       "Male    False      50700\n",
       "        True       13121\n",
       "dtype: int64"
      ]
     },
     "execution_count": 37,
     "metadata": {},
     "output_type": "execute_result"
    }
   ],
   "source": [
    "CPSData.groupby(['Sex', CPSData.Married.isnull()]).size()"
   ]
  },
  {
   "cell_type": "code",
   "execution_count": 38,
   "metadata": {
    "collapsed": false
   },
   "outputs": [
    {
     "data": {
      "text/plain": [
       "Age  Married\n",
       "0    True       1283\n",
       "1    True       1559\n",
       "2    True       1574\n",
       "3    True       1693\n",
       "4    True       1695\n",
       "5    True       1795\n",
       "6    True       1721\n",
       "7    True       1681\n",
       "8    True       1729\n",
       "9    True       1748\n",
       "10   True       1750\n",
       "11   True       1721\n",
       "12   True       1797\n",
       "13   True       1802\n",
       "14   True       1790\n",
       "...\n",
       "67   False      1227\n",
       "68   False      1130\n",
       "69   False      1062\n",
       "70   False      1195\n",
       "71   False      1031\n",
       "72   False       941\n",
       "73   False       896\n",
       "74   False       842\n",
       "75   False       763\n",
       "76   False       729\n",
       "77   False       698\n",
       "78   False       659\n",
       "79   False       661\n",
       "80   False      2664\n",
       "85   False      2446\n",
       "Length: 82, dtype: int64"
      ]
     },
     "execution_count": 38,
     "metadata": {},
     "output_type": "execute_result"
    }
   ],
   "source": [
    "CPSData.groupby(['Age', CPSData.Married.isnull()]).size()"
   ]
  },
  {
   "cell_type": "code",
   "execution_count": 39,
   "metadata": {
    "collapsed": false
   },
   "outputs": [
    {
     "data": {
      "text/plain": [
       "Citizenship           Married\n",
       "Citizen, Native       False      91956\n",
       "                      True       24683\n",
       "Citizen, Naturalized  False       6910\n",
       "                      True         163\n",
       "Non-Citizen           False       7098\n",
       "                      True         492\n",
       "dtype: int64"
      ]
     },
     "execution_count": 39,
     "metadata": {},
     "output_type": "execute_result"
    }
   ],
   "source": [
    "CPSData.groupby(['Citizenship', CPSData.Married.isnull()]).size()"
   ]
  },
  {
   "cell_type": "code",
   "execution_count": 70,
   "metadata": {
    "collapsed": false
   },
   "outputs": [
    {
     "data": {
      "text/html": [
       "<div style=\"max-height:1000px;max-width:1500px;overflow:auto;\">\n",
       "<table border=\"1\" class=\"dataframe\">\n",
       "  <thead>\n",
       "    <tr style=\"text-align: right;\">\n",
       "      <th>MetroAreaCode</th>\n",
       "      <th>False</th>\n",
       "      <th>True</th>\n",
       "    </tr>\n",
       "    <tr>\n",
       "      <th>State</th>\n",
       "      <th></th>\n",
       "      <th></th>\n",
       "    </tr>\n",
       "  </thead>\n",
       "  <tbody>\n",
       "    <tr>\n",
       "      <th>Alabama</th>\n",
       "      <td>  1020</td>\n",
       "      <td>  356</td>\n",
       "    </tr>\n",
       "    <tr>\n",
       "      <th>Alaska</th>\n",
       "      <td>   NaN</td>\n",
       "      <td> 1590</td>\n",
       "    </tr>\n",
       "    <tr>\n",
       "      <th>Arizona</th>\n",
       "      <td>  1327</td>\n",
       "      <td>  201</td>\n",
       "    </tr>\n",
       "    <tr>\n",
       "      <th>Arkansas</th>\n",
       "      <td>   724</td>\n",
       "      <td>  697</td>\n",
       "    </tr>\n",
       "    <tr>\n",
       "      <th>California</th>\n",
       "      <td> 11333</td>\n",
       "      <td>  237</td>\n",
       "    </tr>\n",
       "  </tbody>\n",
       "</table>\n",
       "</div>"
      ],
      "text/plain": [
       "MetroAreaCode  False  True \n",
       "State                      \n",
       "Alabama         1020    356\n",
       "Alaska           NaN   1590\n",
       "Arizona         1327    201\n",
       "Arkansas         724    697\n",
       "California     11333    237"
      ]
     },
     "execution_count": 70,
     "metadata": {},
     "output_type": "execute_result"
    }
   ],
   "source": [
    "# How many states had all the interviewees living in a non-metropolitan area?\n",
    "# Treat District of Columbia as a state, even though it is not technically a state ?\n",
    "c = CPSData.groupby(['State', CPSData.MetroAreaCode.isnull()]).size().unstack()\n",
    "\n",
    "c.head()"
   ]
  },
  {
   "cell_type": "code",
   "execution_count": 66,
   "metadata": {
    "collapsed": false
   },
   "outputs": [
    {
     "data": {
      "text/plain": [
       "2"
      ]
     },
     "execution_count": 66,
     "metadata": {},
     "output_type": "execute_result"
    }
   ],
   "source": [
    "# How many states have all interviewees living in a non-metropolitan area ?\n",
    "list(pd.isnull(c[c.columns[0]])).count(True)"
   ]
  },
  {
   "cell_type": "code",
   "execution_count": 68,
   "metadata": {
    "collapsed": false
   },
   "outputs": [
    {
     "data": {
      "text/plain": [
       "3"
      ]
     },
     "execution_count": 68,
     "metadata": {},
     "output_type": "execute_result"
    }
   ],
   "source": [
    "# How many states have all the interviewees living in a metropolitan area ?\n",
    "list(pd.isnull(c[c.columns[1]])).count(True)"
   ]
  },
  {
   "cell_type": "code",
   "execution_count": 76,
   "metadata": {
    "collapsed": false
   },
   "outputs": [
    {
     "data": {
      "text/html": [
       "<div style=\"max-height:1000px;max-width:1500px;overflow:auto;\">\n",
       "<table border=\"1\" class=\"dataframe\">\n",
       "  <thead>\n",
       "    <tr style=\"text-align: right;\">\n",
       "      <th>MetroAreaCode</th>\n",
       "      <th>False</th>\n",
       "      <th>True</th>\n",
       "    </tr>\n",
       "    <tr>\n",
       "      <th>Region</th>\n",
       "      <th></th>\n",
       "      <th></th>\n",
       "    </tr>\n",
       "  </thead>\n",
       "  <tbody>\n",
       "    <tr>\n",
       "      <th>Midwest</th>\n",
       "      <td> 20010</td>\n",
       "      <td> 10674</td>\n",
       "    </tr>\n",
       "    <tr>\n",
       "      <th>Northeast</th>\n",
       "      <td> 20330</td>\n",
       "      <td>  5609</td>\n",
       "    </tr>\n",
       "    <tr>\n",
       "      <th>South</th>\n",
       "      <td> 31631</td>\n",
       "      <td>  9871</td>\n",
       "    </tr>\n",
       "    <tr>\n",
       "      <th>West</th>\n",
       "      <td> 25093</td>\n",
       "      <td>  8084</td>\n",
       "    </tr>\n",
       "  </tbody>\n",
       "</table>\n",
       "</div>"
      ],
      "text/plain": [
       "MetroAreaCode  False  True \n",
       "Region                     \n",
       "Midwest        20010  10674\n",
       "Northeast      20330   5609\n",
       "South          31631   9871\n",
       "West           25093   8084"
      ]
     },
     "execution_count": 76,
     "metadata": {},
     "output_type": "execute_result"
    }
   ],
   "source": [
    "# Which region of US has the largest proportion of interviewees living in a non-metropolitan area\n",
    "c = CPSData.groupby(['Region', CPSData.MetroAreaCode.isnull()]).size().unstack()\n",
    "c.head()"
   ]
  },
  {
   "cell_type": "code",
   "execution_count": 78,
   "metadata": {
    "collapsed": true
   },
   "outputs": [],
   "source": [
    "c['prop_non_metro'] = c[c.columns[1]] / (c[c.columns[1]] + c[c.columns[0]])"
   ]
  },
  {
   "cell_type": "code",
   "execution_count": 79,
   "metadata": {
    "collapsed": false
   },
   "outputs": [
    {
     "data": {
      "text/plain": [
       "Region\n",
       "Midwest      0.347869\n",
       "West         0.243663\n",
       "South        0.237844\n",
       "Northeast    0.216238\n",
       "Name: prop_non_metro, dtype: float64"
      ]
     },
     "execution_count": 79,
     "metadata": {},
     "output_type": "execute_result"
    }
   ],
   "source": [
    "c.prop_non_metro.order(ascending=False)"
   ]
  },
  {
   "cell_type": "code",
   "execution_count": 94,
   "metadata": {
    "collapsed": false
   },
   "outputs": [
    {
     "data": {
      "text/plain": [
       "State\n",
       "Alabama                 0.258721\n",
       "Alaska                  1.000000\n",
       "Arizona                 0.131545\n",
       "Arkansas                0.490500\n",
       "California              0.020484\n",
       "Colorado                0.129915\n",
       "Connecticut             0.085684\n",
       "Delaware                0.233966\n",
       "District of Columbia    0.000000\n",
       "Florida                 0.039231\n",
       "Georgia                 0.198432\n",
       "Hawaii                  0.249166\n",
       "Idaho                   0.498682\n",
       "Illinois                0.112219\n",
       "Indiana                 0.291417\n",
       "Iowa                    0.486946\n",
       "Kansas                  0.362274\n",
       "Kentucky                0.506790\n",
       "Louisiana               0.161379\n",
       "Maine                   0.598321\n",
       "Maryland                0.069375\n",
       "Massachusetts           0.064922\n",
       "Michigan                0.178257\n",
       "Minnesota               0.315068\n",
       "Mississippi             0.694309\n",
       "Missouri                0.328671\n",
       "Montana                 0.836079\n",
       "Nebraska                0.581324\n",
       "Nevada                  0.133082\n",
       "New Hampshire           0.568745\n",
       "New Jersey              0.000000\n",
       "New Mexico              0.245009\n",
       "New York                0.080608\n",
       "North Carolina          0.373043\n",
       "North Dakota            0.737386\n",
       "Ohio                    0.251223\n",
       "Oklahoma                0.327643\n",
       "Oregon                  0.218219\n",
       "Pennsylvania            0.174300\n",
       "Rhode Island            0.000000\n",
       "South Carolina          0.313028\n",
       "South Dakota            0.702500\n",
       "Tennessee               0.355942\n",
       "Texas                   0.143705\n",
       "Utah                    0.210098\n",
       "Vermont                 0.652381\n",
       "Virginia                0.198442\n",
       "Washington              0.181319\n",
       "West Virginia           0.755855\n",
       "Wisconsin               0.299330\n",
       "Wyoming                 1.000000\n",
       "Name: MetroAreaCode, Length: 51, dtype: float64"
      ]
     },
     "execution_count": 94,
     "metadata": {},
     "output_type": "execute_result"
    }
   ],
   "source": [
    "# Which state has a proportion of interviewees living in a non-metropolitan area closest to 30%?\n",
    "c = CPSData.groupby('State')\n",
    "c['MetroAreaCode'].apply(lambda x: np.mean(x.isnull()))"
   ]
  },
  {
   "cell_type": "code",
   "execution_count": 95,
   "metadata": {
    "collapsed": false
   },
   "outputs": [
    {
     "data": {
      "text/plain": [
       "State\n",
       "Wyoming                 1.000000\n",
       "Alaska                  1.000000\n",
       "Montana                 0.836079\n",
       "West Virginia           0.755855\n",
       "North Dakota            0.737386\n",
       "South Dakota            0.702500\n",
       "Mississippi             0.694309\n",
       "Vermont                 0.652381\n",
       "Maine                   0.598321\n",
       "Nebraska                0.581324\n",
       "New Hampshire           0.568745\n",
       "Kentucky                0.506790\n",
       "Idaho                   0.498682\n",
       "Arkansas                0.490500\n",
       "Iowa                    0.486946\n",
       "North Carolina          0.373043\n",
       "Kansas                  0.362274\n",
       "Tennessee               0.355942\n",
       "Missouri                0.328671\n",
       "Oklahoma                0.327643\n",
       "Minnesota               0.315068\n",
       "South Carolina          0.313028\n",
       "Wisconsin               0.299330\n",
       "Indiana                 0.291417\n",
       "Alabama                 0.258721\n",
       "Ohio                    0.251223\n",
       "Hawaii                  0.249166\n",
       "New Mexico              0.245009\n",
       "Delaware                0.233966\n",
       "Oregon                  0.218219\n",
       "Utah                    0.210098\n",
       "Virginia                0.198442\n",
       "Georgia                 0.198432\n",
       "Washington              0.181319\n",
       "Michigan                0.178257\n",
       "Pennsylvania            0.174300\n",
       "Louisiana               0.161379\n",
       "Texas                   0.143705\n",
       "Nevada                  0.133082\n",
       "Arizona                 0.131545\n",
       "Colorado                0.129915\n",
       "Illinois                0.112219\n",
       "Connecticut             0.085684\n",
       "New York                0.080608\n",
       "Maryland                0.069375\n",
       "Massachusetts           0.064922\n",
       "Florida                 0.039231\n",
       "California              0.020484\n",
       "District of Columbia    0.000000\n",
       "New Jersey              0.000000\n",
       "Rhode Island            0.000000\n",
       "Name: MetroAreaCode, Length: 51, dtype: float64"
      ]
     },
     "execution_count": 95,
     "metadata": {},
     "output_type": "execute_result"
    }
   ],
   "source": [
    "c = CPSData.groupby('State')\n",
    "c['MetroAreaCode'].apply(lambda x: np.mean(x.isnull())).order(ascending=False)"
   ]
  },
  {
   "cell_type": "code",
   "execution_count": 96,
   "metadata": {
    "collapsed": true
   },
   "outputs": [],
   "source": [
    "MetroAreaMap = pd.read_csv('./data/MetroAreaCodes.csv')\n",
    "CountryMap = pd.read_csv('./data/CountryCodes.csv')"
   ]
  },
  {
   "cell_type": "code",
   "execution_count": 97,
   "metadata": {
    "collapsed": false
   },
   "outputs": [
    {
     "data": {
      "text/plain": [
       "(271, 2)"
      ]
     },
     "execution_count": 97,
     "metadata": {},
     "output_type": "execute_result"
    }
   ],
   "source": [
    "MetroAreaMap.shape"
   ]
  },
  {
   "cell_type": "code",
   "execution_count": 98,
   "metadata": {
    "collapsed": false
   },
   "outputs": [
    {
     "data": {
      "text/plain": [
       "(149, 2)"
      ]
     },
     "execution_count": 98,
     "metadata": {},
     "output_type": "execute_result"
    }
   ],
   "source": [
    "CountryMap.shape"
   ]
  },
  {
   "cell_type": "code",
   "execution_count": 101,
   "metadata": {
    "collapsed": false
   },
   "outputs": [],
   "source": [
    "cps_with_metro_names = pd.merge(CPSData, MetroAreaMap, left_on='MetroAreaCode', right_on='Code', how='left')"
   ]
  },
  {
   "cell_type": "code",
   "execution_count": 105,
   "metadata": {
    "collapsed": false
   },
   "outputs": [
    {
     "data": {
      "text/plain": [
       "Index([u'PeopleInHousehold', u'Region', u'State', u'MetroAreaCode', u'Age', u'Married', u'Sex', u'Education', u'Race', u'Hispanic', u'CountryOfBirthCode', u'Citizenship', u'EmploymentStatus', u'Industry', u'Code', u'MetroArea'], dtype='object')"
      ]
     },
     "execution_count": 105,
     "metadata": {},
     "output_type": "execute_result"
    }
   ],
   "source": [
    "cps_with_metro_names.columns"
   ]
  },
  {
   "cell_type": "code",
   "execution_count": 110,
   "metadata": {
    "collapsed": false
   },
   "outputs": [
    {
     "data": {
      "text/plain": [
       "34238"
      ]
     },
     "execution_count": 110,
     "metadata": {},
     "output_type": "execute_result"
    }
   ],
   "source": [
    "list(cps_with_metro_names.MetroArea.isnull()).count(True)"
   ]
  },
  {
   "cell_type": "code",
   "execution_count": 111,
   "metadata": {
    "collapsed": false
   },
   "outputs": [
    {
     "data": {
      "text/plain": [
       "MetroArea\n",
       "New York-Northern New Jersey-Long Island, NY-NJ-PA    5409\n",
       "Washington-Arlington-Alexandria, DC-VA-MD-WV          4177\n",
       "Los Angeles-Long Beach-Santa Ana, CA                  4102\n",
       "Philadelphia-Camden-Wilmington, PA-NJ-DE              2855\n",
       "Chicago-Naperville-Joliet, IN-IN-WI                   2772\n",
       "Providence-Fall River-Warwick, MA-RI                  2284\n",
       "Boston-Cambridge-Quincy, MA-NH                        2229\n",
       "Minneapolis-St Paul-Bloomington, MN-WI                1942\n",
       "Dallas-Fort Worth-Arlington, TX                       1863\n",
       "Houston-Baytown-Sugar Land, TX                        1649\n",
       "Honolulu, HI                                          1576\n",
       "Miami-Fort Lauderdale-Miami Beach, FL                 1554\n",
       "Atlanta-Sandy Springs-Marietta, GA                    1552\n",
       "Denver-Aurora, CO                                     1504\n",
       "Baltimore-Towson, MD                                  1483\n",
       "...\n",
       "Vineland-Millville-Bridgeton, NJ    54\n",
       "Prescott, AZ                        54\n",
       "Santa Fe, NM                        52\n",
       "Johnson City, TN                    52\n",
       "Niles-Benton Harbor, MI             51\n",
       "Midland, TX                         51\n",
       "Punta Gorda, FL                     48\n",
       "Columbia, MO                        47\n",
       "Tallahassee, FL                     43\n",
       "Warner Robins, GA                   42\n",
       "Valdosta, GA                        42\n",
       "Bloomington-Normal IL               40\n",
       "Springfield, OH                     34\n",
       "Ocean City, NJ                      30\n",
       "Bowling Green, KY                   29\n",
       "Length: 264, dtype: int64"
      ]
     },
     "execution_count": 111,
     "metadata": {},
     "output_type": "execute_result"
    }
   ],
   "source": [
    "cps_with_metro_names.groupby('MetroArea').size().order(ascending=False)"
   ]
  },
  {
   "cell_type": "code",
   "execution_count": 116,
   "metadata": {
    "collapsed": false
   },
   "outputs": [
    {
     "data": {
      "text/plain": [
       "MetroArea\n",
       "Laredo, TX                               0.966292\n",
       "McAllen-Edinburg-Pharr, TX               0.948718\n",
       "Brownsville-Harlingen, TX                0.797468\n",
       "El Paso, TX                              0.790984\n",
       "El Centro, CA                            0.686869\n",
       "San Antonio, TX                          0.644152\n",
       "Madera, CA                               0.614035\n",
       "Corpus Christi, TX                       0.606061\n",
       "Merced, CA                               0.566038\n",
       "Salinas, CA                              0.557692\n",
       "Las Cruses, NM                           0.542056\n",
       "Tucson, AZ                               0.506623\n",
       "Riverside-San Bernardino, CA             0.502326\n",
       "Bakersfield, CA                          0.489796\n",
       "Miami-Fort Lauderdale-Miami Beach, FL    0.467825\n",
       "...\n",
       "Anderson, SC                     0\n",
       "Ann Arbor, MI                    0\n",
       "Macon, GA                        0\n",
       "Savannah, GA                     0\n",
       "Johnstown, PA                    0\n",
       "Hagerstown-Martinsburg, MD-WV    0\n",
       "Harrisonburg, VA                 0\n",
       "Eau Claire, WI                   0\n",
       "Huntington-Ashland, WV-KY-OH     0\n",
       "Barnstable Town, MA              0\n",
       "Huntsville, AL                   0\n",
       "Bloomington-Normal IL            0\n",
       "Bloomington, IN                  0\n",
       "Jackson, MI                      0\n",
       "Salisbury, MD                    0\n",
       "Name: Hispanic, Length: 264, dtype: float64"
      ]
     },
     "execution_count": 116,
     "metadata": {},
     "output_type": "execute_result"
    }
   ],
   "source": [
    "c = cps_with_metro_names.groupby('MetroArea')\n",
    "c['Hispanic'].apply(lambda x: (list(x).count(1) * 1. / (list(x).count(1) + list(x).count(0)))).order(ascending=False)"
   ]
  },
  {
   "cell_type": "code",
   "execution_count": 125,
   "metadata": {
    "collapsed": false
   },
   "outputs": [
    {
     "data": {
      "text/plain": [
       "array(['San Francisco-Oakland-Fremont, CA',\n",
       "       'San Jose-Sunnyvale-Santa Clara, CA', 'Vallejo-Fairfield, CA',\n",
       "       'Honolulu, HI'], dtype=object)"
      ]
     },
     "execution_count": 125,
     "metadata": {},
     "output_type": "execute_result"
    }
   ],
   "source": [
    "c = cps_with_metro_names.groupby('MetroArea')\n",
    "prop_asians = lambda z: (list(z['Race']).count('Asian') * 1.) / z['Race'].shape[0]\n",
    "c.filter(lambda x: prop_asians(x) > .2).MetroArea.unique()"
   ]
  },
  {
   "cell_type": "code",
   "execution_count": 121,
   "metadata": {
    "collapsed": false
   },
   "outputs": [
    {
     "data": {
      "text/plain": [
       "0    White\n",
       "1    Black\n",
       "2    Black\n",
       "3    Black\n",
       "4    White\n",
       "Name: Race, dtype: object"
      ]
     },
     "execution_count": 121,
     "metadata": {},
     "output_type": "execute_result"
    }
   ],
   "source": [
    "cps_with_metro_names.Race.head()"
   ]
  },
  {
   "cell_type": "code",
   "execution_count": 129,
   "metadata": {
    "collapsed": false
   },
   "outputs": [
    {
     "data": {
      "text/plain": [
       "MetroArea\n",
       "Iowa City, IA                        0.022901\n",
       "Bowling Green, KY                    0.034483\n",
       "Kalamazoo-Portage, MI                0.039370\n",
       "Champaign-Urbana, IL                 0.040984\n",
       "Bremerton-Silverdale, WA             0.045977\n",
       "Jacksonville, NC                     0.047619\n",
       "Bloomington-Normal IL                0.050000\n",
       "Lawrence, KS                         0.051020\n",
       "Salisbury, MD                        0.054054\n",
       "Eau Claire, WI                       0.054545\n",
       "Gainesville, FL                      0.057143\n",
       "Fort Collins-Loveland, CO            0.058252\n",
       "Palm Bay-Melbourne-Titusville, FL    0.059524\n",
       "Madison, WI                          0.059859\n",
       "Fargo, ND-MN                         0.060185\n",
       "...\n",
       "Montgomery, AL                0.203883\n",
       "Tucson, AZ                    0.205298\n",
       "Lawton, OK                    0.216495\n",
       "Lancaster, PA                 0.217949\n",
       "El Paso, TX                   0.225410\n",
       "Corpus Christi, TX            0.227273\n",
       "Laredo, TX                    0.235955\n",
       "Madera, CA                    0.263158\n",
       "Springfield, OH               0.264706\n",
       "Florence, AL                  0.269841\n",
       "McAllen-Edinburg-Pharr, TX    0.276923\n",
       "Longview, TX                  0.276923\n",
       "Salinas, CA                   0.288462\n",
       "Kingsport-Bristol, TN-VA      0.298507\n",
       "Macon, GA                     0.307692\n",
       "Name: Education, Length: 264, dtype: float64"
      ]
     },
     "execution_count": 129,
     "metadata": {},
     "output_type": "execute_result"
    }
   ],
   "source": [
    "# Which metropolitan area has the smallest proportion of interviewees who have received no high school diploma?\n",
    "c['Education'].apply(lambda x: list(x).count('No high school diploma') * 1. / x.shape[0]).order()"
   ]
  },
  {
   "cell_type": "code",
   "execution_count": 130,
   "metadata": {
    "collapsed": false
   },
   "outputs": [
    {
     "data": {
      "text/plain": [
       "Index([u'Code', u'Country'], dtype='object')"
      ]
     },
     "execution_count": 130,
     "metadata": {},
     "output_type": "execute_result"
    }
   ],
   "source": [
    "CountryMap.columns"
   ]
  },
  {
   "cell_type": "code",
   "execution_count": 131,
   "metadata": {
    "collapsed": false
   },
   "outputs": [
    {
     "data": {
      "text/plain": [
       "Index([u'PeopleInHousehold', u'Region', u'State', u'MetroAreaCode', u'Age', u'Married', u'Sex', u'Education', u'Race', u'Hispanic', u'CountryOfBirthCode', u'Citizenship', u'EmploymentStatus', u'Industry', u'Code', u'MetroArea'], dtype='object')"
      ]
     },
     "execution_count": 131,
     "metadata": {},
     "output_type": "execute_result"
    }
   ],
   "source": [
    "cps_with_metro_names.columns"
   ]
  },
  {
   "cell_type": "code",
   "execution_count": 132,
   "metadata": {
    "collapsed": true
   },
   "outputs": [],
   "source": [
    "cps_with_metro_and_country_names = pd.merge(cps_with_metro_names, \n",
    "                                            CountryMap, \n",
    "                                            left_on='CountryOfBirthCode',\n",
    "                                            right_on='Code',\n",
    "                                            how='left'\n",
    "                                           )"
   ]
  },
  {
   "cell_type": "code",
   "execution_count": 133,
   "metadata": {
    "collapsed": false
   },
   "outputs": [
    {
     "data": {
      "text/plain": [
       "Index([u'PeopleInHousehold', u'Region', u'State', u'MetroAreaCode', u'Age', u'Married', u'Sex', u'Education', u'Race', u'Hispanic', u'CountryOfBirthCode', u'Citizenship', u'EmploymentStatus', u'Industry', u'Code_x', u'MetroArea', u'Code_y', u'Country'], dtype='object')"
      ]
     },
     "execution_count": 133,
     "metadata": {},
     "output_type": "execute_result"
    }
   ],
   "source": [
    "cps_with_metro_and_country_names.columns"
   ]
  },
  {
   "cell_type": "code",
   "execution_count": 136,
   "metadata": {
    "collapsed": false
   },
   "outputs": [
    {
     "data": {
      "text/plain": [
       "176"
      ]
     },
     "execution_count": 136,
     "metadata": {},
     "output_type": "execute_result"
    }
   ],
   "source": [
    "cps_with_metro_and_country_names.Country.isnull().sum()"
   ]
  },
  {
   "cell_type": "code",
   "execution_count": 138,
   "metadata": {
    "collapsed": false
   },
   "outputs": [
    {
     "data": {
      "text/plain": [
       "Country\n",
       "United States         115063\n",
       "Mexico                  3921\n",
       "Philippines              839\n",
       "India                    770\n",
       "China                    581\n",
       "Puerto Rico              518\n",
       "El Salvador              477\n",
       "Vietnam                  458\n",
       "Germany                  438\n",
       "Cuba                     426\n",
       "Canada                   410\n",
       "Korea                    334\n",
       "Dominican Republic       330\n",
       "Guatemala                309\n",
       "Jamaica                  217\n",
       "...\n",
       "Barbados            6\n",
       "Tonga               6\n",
       "Slovakia            6\n",
       "Denmark             6\n",
       "Singapore           6\n",
       "Senegal             6\n",
       "Samoa               6\n",
       "Latvia              6\n",
       "Zimbabwe            6\n",
       "Georgia             5\n",
       "Azerbaijan          3\n",
       "St. Kitts--Nevis    3\n",
       "Czechoslovakia      3\n",
       "Tanzania            2\n",
       "Northern Ireland    2\n",
       "Length: 144, dtype: int64"
      ]
     },
     "execution_count": 138,
     "metadata": {},
     "output_type": "execute_result"
    }
   ],
   "source": [
    "# Among all interviewees born outside of North America, which country was the most common place of birth?\n",
    "cps_with_metro_and_country_names.groupby('Country').size().order(ascending=False)"
   ]
  },
  {
   "cell_type": "code",
   "execution_count": 147,
   "metadata": {
    "collapsed": true
   },
   "outputs": [],
   "source": [
    "# What proportion of the interviewees from the \"New York-Northern New Jersey-Long Island, \n",
    "# NY-NJ-PA\" metropolitan area have a country of birth that is not the United States? \n",
    "# For this computation, don't include people from this metropolitan area who have a missing country of birth.\n",
    "\n",
    "c = cps_with_metro_and_country_names[cps_with_metro_and_country_names.MetroArea == \n",
    "                                     'New York-Northern New Jersey-Long Island, NY-NJ-PA']"
   ]
  },
  {
   "cell_type": "code",
   "execution_count": 152,
   "metadata": {
    "collapsed": false
   },
   "outputs": [],
   "source": [
    "c = c[c.Country.notnull()]"
   ]
  },
  {
   "cell_type": "code",
   "execution_count": 155,
   "metadata": {
    "collapsed": false
   },
   "outputs": [
    {
     "data": {
      "text/plain": [
       "0.30866025166543304"
      ]
     },
     "execution_count": 155,
     "metadata": {},
     "output_type": "execute_result"
    }
   ],
   "source": [
    "c[c.Country != 'United States'].shape[0] * 1. / c.shape[0] "
   ]
  },
  {
   "cell_type": "code",
   "execution_count": 156,
   "metadata": {
    "collapsed": false
   },
   "outputs": [
    {
     "data": {
      "text/plain": [
       "MetroArea\n",
       "New York-Northern New Jersey-Long Island, NY-NJ-PA    96\n",
       "Name: Country, dtype: int64"
      ]
     },
     "execution_count": 156,
     "metadata": {},
     "output_type": "execute_result"
    }
   ],
   "source": [
    "# Which metropolitan area has the largest number (note -- not proportion) of interviewees with a country of birth in India?\n",
    "c = cps_with_metro_and_country_names.groupby('MetroArea')\n",
    "c['Country'].apply(lambda x: x[(x.notnull()) & (x == 'India')].shape[0]).order(ascending=False).head(1)"
   ]
  },
  {
   "cell_type": "code",
   "execution_count": 157,
   "metadata": {
    "collapsed": false
   },
   "outputs": [
    {
     "data": {
      "text/plain": [
       "MetroArea\n",
       "Boston-Cambridge-Quincy, MA-NH    18\n",
       "Name: Country, dtype: int64"
      ]
     },
     "execution_count": 157,
     "metadata": {},
     "output_type": "execute_result"
    }
   ],
   "source": [
    "c = cps_with_metro_and_country_names.groupby('MetroArea')\n",
    "c['Country'].apply(lambda x: x[(x.notnull()) & (x == 'Brazil')].shape[0]).order(ascending=False).head(1)"
   ]
  },
  {
   "cell_type": "code",
   "execution_count": 158,
   "metadata": {
    "collapsed": false
   },
   "outputs": [
    {
     "data": {
      "text/plain": [
       "MetroArea\n",
       "Minneapolis-St Paul-Bloomington, MN-WI    17\n",
       "Name: Country, dtype: int64"
      ]
     },
     "execution_count": 158,
     "metadata": {},
     "output_type": "execute_result"
    }
   ],
   "source": [
    "c = cps_with_metro_and_country_names.groupby('MetroArea')\n",
    "c['Country'].apply(lambda x: x[(x.notnull()) & (x == 'Somalia')].shape[0]).order(ascending=False).head(1)"
   ]
  },
  {
   "cell_type": "code",
   "execution_count": null,
   "metadata": {
    "collapsed": true
   },
   "outputs": [],
   "source": []
  }
 ],
 "metadata": {
  "kernelspec": {
   "display_name": "Python 2",
   "language": "python",
   "name": "python2"
  },
  "language_info": {
   "codemirror_mode": {
    "name": "ipython",
    "version": 2
   },
   "file_extension": ".py",
   "mimetype": "text/x-python",
   "name": "python",
   "nbconvert_exporter": "python",
   "pygments_lexer": "ipython2",
   "version": "2.7.6"
  }
 },
 "nbformat": 4,
 "nbformat_minor": 0
}
