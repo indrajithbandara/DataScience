{
 "cells": [
  {
   "cell_type": "code",
   "execution_count": 1,
   "metadata": {
    "collapsed": true
   },
   "outputs": [],
   "source": [
    "# import libraries\n",
    "import numpy as np\n",
    "import pandas as pd\n",
    "import seaborn as sns\n",
    "import matplotlib.pyplot as plt\n",
    "%matplotlib inline"
   ]
  },
  {
   "cell_type": "markdown",
   "metadata": {},
   "source": [
    "##INTERNET PRIVACY POLL\n",
    "\n",
    "<p>\n",
    "Internet privacy has gained widespread attention in recent years. To measure the degree to which people are concerned about hot-button issues like Internet privacy, social scientists conduct polls in which they interview a large number of people about the topic. In this assignment, we will analyze data from a July 2013 Pew Internet and American Life Project poll on Internet anonymity and privacy, which involved interviews across the United States. While the full polling data can be found <a href='http://pewinternet.org/Shared-Content/Data-Sets/2013/July-2013--Anonymity-(Omnibus).aspx'>here</a>, we will use a more limited version of the results, available in <a href='https://courses.edx.org/c4x/MITx/15.071x_2/asset/AnonymityPoll.csv'>AnonymityPoll.csv</a>. The dataset has the following fields (all Internet use-related fields were only collected from interviewees who either use the Internet or have a smartphone)\n",
    "</p>"
   ]
  },
  {
   "cell_type": "markdown",
   "metadata": {},
   "source": [
    "### Description about features\n",
    "\n",
    "* <b>Internet.Use:</b> A binary variable indicating if the interviewee uses the Internet, at least occasionally (equals 1 if the interviewee uses the Internet, and equals 0 if the interviewee does not use the Internet).\n",
    "\n",
    "* <b>Smartphone</b>: A binary variable indicating if the interviewee has a smartphone (equals 1 if they do have a smartphone, and equals 0 if they don't have a smartphone).\n",
    "\n",
    "* <b>Sex</b>: Male or Female.\n",
    "\n",
    "* <b>Age</b>: Age in years.\n",
    "\n",
    "* <b>State</b>: State of residence of the interviewee.\n",
    "\n",
    "* <b>Region</b>: Census region of the interviewee (Midwest, Northeast, South, or West).\n",
    "\n",
    "* <b>Conservativeness</b>: Self-described level of conservativeness of interviewee, from 1 (very liberal) to 5 (very conservative).\n",
    "\n",
    "* <b>Info.On.Internet</b>: Number of the following items this interviewee believes to be available on the Internet for others to see: (1) Their email address; (2) Their home address; (3) Their home phone number; (4) Their cell phone number; (5) The employer/company they work for; (6) Their political party or political affiliation; (7) Things they've written that have their name on it; (8) A photo of them; (9) A video of them; (10) Which groups or organizations they belong to; and (11) Their birth date.\n",
    "\n",
    "* <b>Worry.About.Info</b>: A binary variable indicating if the interviewee worries about how much information is available about them on the Internet (equals 1 if they worry, and equals 0 if they don't worry).\n",
    "\n",
    "* <b>Privacy.Importance</b>: A score from 0 (privacy is not too important) to 100 (privacy is very important), which combines the degree to which they find privacy important in the following: (1) The websites they browse; (2) Knowledge of the place they are located when they use the Internet; (3) The content and files they download; (4) The times of day they are online; (5) The applications or programs they use; (6) The searches they perform; (7) The content of their email; (8) The people they exchange email with; and (9) The content of their online chats or hangouts with others.\n",
    "\n",
    "* <b>Anonymity.Possible</b>: A binary variable indicating if the interviewee thinks it's possible to use the Internet anonymously, meaning in such a way that online activities can't be traced back to them (equals 1 if he/she believes you can, and equals 0 if he/she believes you can't).\n",
    "\n",
    "* <b>Tried.Masking.Identity</b>: A binary variable indicating if the interviewee has ever tried to mask his/her identity when using the Internet (equals 1 if he/she has tried to mask his/her identity, and equals 0 if he/she has not tried to mask his/her identity).\n",
    "\n",
    "* <b>Privacy.Laws.Effective</b>: A binary variable indicating if the interviewee believes United States law provides reasonable privacy protection for Internet users (equals 1 if he/she believes it does, and equals 0 if he/she believes it doesn't)."
   ]
  },
  {
   "cell_type": "code",
   "execution_count": 2,
   "metadata": {
    "collapsed": true
   },
   "outputs": [],
   "source": [
    "# Load the dataset\n",
    "AnonymityPoll = pd.read_csv('./data/AnonymityPoll.csv')"
   ]
  },
  {
   "cell_type": "code",
   "execution_count": 3,
   "metadata": {
    "collapsed": false
   },
   "outputs": [
    {
     "name": "stdout",
     "output_type": "stream",
     "text": [
      "(1002, 13)\n"
     ]
    }
   ],
   "source": [
    "# Shape of the dataset\n",
    "print AnonymityPoll.shape"
   ]
  },
  {
   "cell_type": "markdown",
   "metadata": {},
   "source": [
    "<b>1002 people participated in this survey.</b>"
   ]
  },
  {
   "cell_type": "code",
   "execution_count": 5,
   "metadata": {
    "collapsed": false
   },
   "outputs": [
    {
     "name": "stdout",
     "output_type": "stream",
     "text": [
      "<class 'pandas.core.frame.DataFrame'>\n",
      "Int64Index: 1002 entries, 0 to 1001\n",
      "Data columns (total 13 columns):\n",
      "Internet.Use              1001 non-null float64\n",
      "Smartphone                959 non-null float64\n",
      "Sex                       1002 non-null object\n",
      "Age                       975 non-null float64\n",
      "State                     1002 non-null object\n",
      "Region                    1002 non-null object\n",
      "Conservativeness          940 non-null float64\n",
      "Info.On.Internet          792 non-null float64\n",
      "Worry.About.Info          790 non-null float64\n",
      "Privacy.Importance        787 non-null float64\n",
      "Anonymity.Possible        753 non-null float64\n",
      "Tried.Masking.Identity    784 non-null float64\n",
      "Privacy.Laws.Effective    894 non-null float64\n",
      "dtypes: float64(10), object(3)\n",
      "memory usage: 97.9+ KB\n"
     ]
    }
   ],
   "source": [
    "# Info\n",
    "AnonymityPoll.info()"
   ]
  },
  {
   "cell_type": "markdown",
   "metadata": {},
   "source": [
    "<b>There are many features which have missing values e.g. Smartphone, Age etc.</b>"
   ]
  },
  {
   "cell_type": "markdown",
   "metadata": {},
   "source": [
    "### Breakdown of the number of people with smartphones"
   ]
  },
  {
   "cell_type": "code",
   "execution_count": 7,
   "metadata": {
    "collapsed": false
   },
   "outputs": [
    {
     "data": {
      "text/plain": [
       "1    487\n",
       "0    472\n",
       "dtype: int64"
      ]
     },
     "execution_count": 7,
     "metadata": {},
     "output_type": "execute_result"
    }
   ],
   "source": [
    "AnonymityPoll.Smartphone.value_counts()"
   ]
  },
  {
   "cell_type": "markdown",
   "metadata": {},
   "source": [
    "<b>487 interviewees use a smartphone and 472 do not. We see that another 43 had missing values.</b>"
   ]
  },
  {
   "cell_type": "code",
   "execution_count": 10,
   "metadata": {
    "collapsed": false
   },
   "outputs": [
    {
     "name": "stdout",
     "output_type": "stream",
     "text": [
      "43\n"
     ]
    }
   ],
   "source": [
    "# number of people with missing values for smartphone\n",
    "print list(AnonymityPoll.Smartphone.isnull()).count(True)"
   ]
  },
  {
   "cell_type": "markdown",
   "metadata": {},
   "source": [
    "#### Which of the following are states in the Midwest census region?\n",
    "\n",
    "* Colorado\n",
    "* Kansas\n",
    "* Kentucky\n",
    "* Missouri\n",
    "* Ohio\n",
    "* Pennsylvania"
   ]
  },
  {
   "cell_type": "code",
   "execution_count": 15,
   "metadata": {
    "collapsed": false
   },
   "outputs": [
    {
     "data": {
      "text/plain": [
       "array(['Michigan', 'Ohio', 'Indiana', 'Minnesota', 'North Dakota',\n",
       "       'Wisconsin', 'Missouri', 'Illinois', 'Nebraska', 'South Dakota',\n",
       "       'Kansas', 'Iowa'], dtype=object)"
      ]
     },
     "execution_count": 15,
     "metadata": {},
     "output_type": "execute_result"
    }
   ],
   "source": [
    "c = AnonymityPoll.groupby('Region')\n",
    "c.get_group('Midwest').State.unique()"
   ]
  },
  {
   "cell_type": "markdown",
   "metadata": {},
   "source": [
    "####  Which was the state in the South census region with the largest number of interviewees?"
   ]
  },
  {
   "cell_type": "code",
   "execution_count": 19,
   "metadata": {
    "collapsed": false
   },
   "outputs": [
    {
     "data": {
      "text/plain": [
       "State\n",
       "Texas    72\n",
       "dtype: int64"
      ]
     },
     "execution_count": 19,
     "metadata": {},
     "output_type": "execute_result"
    }
   ],
   "source": [
    "c.get_group('South').groupby('State').size().order(ascending=False).head(1)"
   ]
  },
  {
   "cell_type": "markdown",
   "metadata": {},
   "source": [
    "<b>Texas is the state in the South region with the largest number of interviewees, 72.</b>"
   ]
  },
  {
   "cell_type": "markdown",
   "metadata": {},
   "source": [
    "### Analysis of relationship smartphones and internet usage\n"
   ]
  },
  {
   "cell_type": "code",
   "execution_count": 24,
   "metadata": {
    "collapsed": false
   },
   "outputs": [
    {
     "data": {
      "text/plain": [
       "Internet.Use  Smartphone\n",
       "0             0             186\n",
       "              1              17\n",
       "1             0             285\n",
       "              1             470\n",
       "dtype: int64"
      ]
     },
     "execution_count": 24,
     "metadata": {},
     "output_type": "execute_result"
    }
   ],
   "source": [
    "AnonymityPoll.groupby(['Internet.Use', 'Smartphone']).size()"
   ]
  },
  {
   "cell_type": "code",
   "execution_count": null,
   "metadata": {
    "collapsed": true
   },
   "outputs": [],
   "source": [
    "# How many interviewees reported not having used the Internet and not having used a smartphone?\n",
    "186"
   ]
  },
  {
   "cell_type": "code",
   "execution_count": 21,
   "metadata": {
    "collapsed": false
   },
   "outputs": [
    {
     "data": {
      "text/plain": [
       "470"
      ]
     },
     "execution_count": 21,
     "metadata": {},
     "output_type": "execute_result"
    }
   ],
   "source": [
    "# How many interviewees reported having used the Internet and having used a smartphone?\n",
    "470"
   ]
  },
  {
   "cell_type": "code",
   "execution_count": 22,
   "metadata": {
    "collapsed": false
   },
   "outputs": [
    {
     "data": {
      "text/plain": [
       "305"
      ]
     },
     "execution_count": 22,
     "metadata": {},
     "output_type": "execute_result"
    }
   ],
   "source": [
    "# How many interviewees reported having used the Internet but not having used a smartphone?\n",
    "285"
   ]
  },
  {
   "cell_type": "code",
   "execution_count": 23,
   "metadata": {
    "collapsed": false
   },
   "outputs": [
    {
     "data": {
      "text/plain": [
       "17"
      ]
     },
     "execution_count": 23,
     "metadata": {},
     "output_type": "execute_result"
    }
   ],
   "source": [
    "# How many interviewees reported having used a smartphone but not having used the Internet?\n",
    "17"
   ]
  },
  {
   "cell_type": "markdown",
   "metadata": {},
   "source": [
    "### Analysis of missing values"
   ]
  },
  {
   "cell_type": "code",
   "execution_count": 25,
   "metadata": {
    "collapsed": false
   },
   "outputs": [
    {
     "data": {
      "text/plain": [
       "1"
      ]
     },
     "execution_count": 25,
     "metadata": {},
     "output_type": "execute_result"
    }
   ],
   "source": [
    "# How many interviewees have a missing value for their Internet use?\n",
    "AnonymityPoll['Internet.Use'].isnull().sum()"
   ]
  },
  {
   "cell_type": "code",
   "execution_count": 26,
   "metadata": {
    "collapsed": false
   },
   "outputs": [
    {
     "data": {
      "text/plain": [
       "43"
      ]
     },
     "execution_count": 26,
     "metadata": {},
     "output_type": "execute_result"
    }
   ],
   "source": [
    "# How many interviewees have a missing value for their smartphone use?\n",
    "AnonymityPoll.Smartphone.isnull().sum()"
   ]
  },
  {
   "cell_type": "markdown",
   "metadata": {},
   "source": [
    "### Dataframe containing only those users who reported Internet use or who reported smartphone use."
   ]
  },
  {
   "cell_type": "code",
   "execution_count": 27,
   "metadata": {
    "collapsed": true
   },
   "outputs": [],
   "source": [
    "limited = AnonymityPoll[(AnonymityPoll['Internet.Use'] == 1) | (AnonymityPoll['Smartphone'] == 1)]"
   ]
  },
  {
   "cell_type": "code",
   "execution_count": 28,
   "metadata": {
    "collapsed": false
   },
   "outputs": [
    {
     "name": "stdout",
     "output_type": "stream",
     "text": [
      "792\n"
     ]
    }
   ],
   "source": [
    "# How many interviewees in this new dataset ?\n",
    "print limited.shape[0]"
   ]
  },
  {
   "cell_type": "code",
   "execution_count": 29,
   "metadata": {
    "collapsed": false
   },
   "outputs": [
    {
     "name": "stdout",
     "output_type": "stream",
     "text": [
      "<class 'pandas.core.frame.DataFrame'>\n",
      "Int64Index: 792 entries, 0 to 1001\n",
      "Data columns (total 13 columns):\n",
      "Internet.Use              792 non-null float64\n",
      "Smartphone                772 non-null float64\n",
      "Sex                       792 non-null object\n",
      "Age                       770 non-null float64\n",
      "State                     792 non-null object\n",
      "Region                    792 non-null object\n",
      "Conservativeness          747 non-null float64\n",
      "Info.On.Internet          792 non-null float64\n",
      "Worry.About.Info          790 non-null float64\n",
      "Privacy.Importance        787 non-null float64\n",
      "Anonymity.Possible        753 non-null float64\n",
      "Tried.Masking.Identity    784 non-null float64\n",
      "Privacy.Laws.Effective    727 non-null float64\n",
      "dtypes: float64(10), object(3)\n",
      "memory usage: 77.3+ KB\n"
     ]
    }
   ],
   "source": [
    "# Now which of the variables have missing values\n",
    "limited.info()"
   ]
  },
  {
   "cell_type": "code",
   "execution_count": 31,
   "metadata": {
    "collapsed": false
   },
   "outputs": [
    {
     "data": {
      "text/plain": [
       "3.7954545454545454"
      ]
     },
     "execution_count": 31,
     "metadata": {},
     "output_type": "execute_result"
    }
   ],
   "source": [
    "# What is the average number of pieces of personal information on the Internet ?\n",
    "AnonymityPoll['Info.On.Internet'].mean()"
   ]
  },
  {
   "cell_type": "markdown",
   "metadata": {},
   "source": [
    "<b>A person on average has about 4 pieces of information on the Internet.</b>"
   ]
  },
  {
   "cell_type": "code",
   "execution_count": 32,
   "metadata": {
    "collapsed": false
   },
   "outputs": [
    {
     "data": {
      "text/plain": [
       "105"
      ]
     },
     "execution_count": 32,
     "metadata": {},
     "output_type": "execute_result"
    }
   ],
   "source": [
    "# How many interviewees reported a value of 0 for Info.On.Internet?\n",
    "AnonymityPoll[AnonymityPoll['Info.On.Internet'] == 0].shape[0]"
   ]
  },
  {
   "cell_type": "markdown",
   "metadata": {},
   "source": [
    "<b>There are about 105 people among those who use Internet with no information about themselves on the Internet.</b>"
   ]
  },
  {
   "cell_type": "code",
   "execution_count": 33,
   "metadata": {
    "collapsed": false
   },
   "outputs": [
    {
     "data": {
      "text/plain": [
       "8"
      ]
     },
     "execution_count": 33,
     "metadata": {},
     "output_type": "execute_result"
    }
   ],
   "source": [
    "# How many interviewees reported the maximum value of 11 for Info.On.Internet?\n",
    "AnonymityPoll[AnonymityPoll['Info.On.Internet'] == 11].shape[0]"
   ]
  },
  {
   "cell_type": "markdown",
   "metadata": {},
   "source": [
    "<b>There are about 8 people among those who use Internet and have all of their information on the Internet.</b>"
   ]
  },
  {
   "cell_type": "code",
   "execution_count": 49,
   "metadata": {
    "collapsed": false
   },
   "outputs": [
    {
     "name": "stdout",
     "output_type": "stream",
     "text": [
      "0.488607594937\n"
     ]
    }
   ],
   "source": [
    "# What proportion of interviewees who answered the Worry.About.Info question \n",
    "# worry about how much information is available about them on the Internet?\n",
    "\n",
    "c = limited['Worry.About.Info'].value_counts()\n",
    "print c.ix[1] * 1. / (c.ix[0] + c.ix[1])"
   ]
  },
  {
   "cell_type": "markdown",
   "metadata": {},
   "source": [
    "<b>We see that 386 of interviewees worry about their info, and 404 do not. Therefore, there were 386+404=790 people who answered the question, and the proportion of them who worry about their info is 386/790=0.4886.</b>"
   ]
  },
  {
   "cell_type": "code",
   "execution_count": 50,
   "metadata": {
    "collapsed": false
   },
   "outputs": [
    {
     "name": "stdout",
     "output_type": "stream",
     "text": [
      "0.369189907039\n"
     ]
    }
   ],
   "source": [
    "# What proportion of interviewees who answered the Anonymity.Possible question \n",
    "# think it is possible to be completely anonymous on the Internet?\n",
    "\n",
    "c = limited['Anonymity.Possible'].value_counts()\n",
    "print c.ix[1] * 1. / (c.ix[0] + c.ix[1])"
   ]
  },
  {
   "cell_type": "markdown",
   "metadata": {},
   "source": [
    "<b>278 respondents said anonymity is possible and 475 said it is not. Therefore, the desired proportion is 278/(278+475)=0.3692.</b>"
   ]
  },
  {
   "cell_type": "code",
   "execution_count": 51,
   "metadata": {
    "collapsed": false
   },
   "outputs": [
    {
     "name": "stdout",
     "output_type": "stream",
     "text": [
      "0.163265306122\n"
     ]
    }
   ],
   "source": [
    "# What proportion of interviewees who answered the Tried.Masking.Identity question\n",
    "# have tried masking their identity on the Internet?\n",
    "\n",
    "c = limited['Tried.Masking.Identity'].value_counts()\n",
    "print c.ix[1] * 1. / (c.ix[0] + c.ix[1])"
   ]
  },
  {
   "cell_type": "markdown",
   "metadata": {},
   "source": [
    "<b>The output tells us that of all the respondents who answered the Tried.Masking.Identity question, 128 out of (128+656) have tried masking their identity on the internet.</b>"
   ]
  },
  {
   "cell_type": "code",
   "execution_count": 52,
   "metadata": {
    "collapsed": false
   },
   "outputs": [
    {
     "name": "stdout",
     "output_type": "stream",
     "text": [
      "0.255845942228\n"
     ]
    }
   ],
   "source": [
    "# What proportion of interviewees who answered the Privacy.Laws.Effective question \n",
    "# find United States privacy laws effective?\n",
    "\n",
    "c = limited['Privacy.Laws.Effective'].value_counts()\n",
    "print c.ix[1] * 1. / (c.ix[0] + c.ix[1])"
   ]
  },
  {
   "cell_type": "markdown",
   "metadata": {},
   "source": [
    "<b>The output tells us that 186 out of (186+541) people who answered the Privacy.Laws.Effective question find US privacy laws effective.</b>"
   ]
  },
  {
   "cell_type": "markdown",
   "metadata": {},
   "source": [
    "### Often, we are interested in whether certain characteristics of interviewees (e.g. their age or political opinions) affect their opinions on the topic of the poll (in this case, opinions on privacy). In this section, we will investigate the relationship between the characteristics Age and Smartphone and outcome variables Info.On.Internet and Tried.Masking.Identity, again using the limited data frame we built earlier."
   ]
  },
  {
   "cell_type": "code",
   "execution_count": 54,
   "metadata": {
    "collapsed": false
   },
   "outputs": [
    {
     "data": {
      "image/png": "[encoded data removed]",
      "text/plain": [
       "<matplotlib.figure.Figure at 0x1047d590>"
      ]
     },
     "metadata": {},
     "output_type": "display_data"
    }
   ],
   "source": [
    "# Histogram of the age of employees\n",
    "limited.Age.plot(kind='hist');\n",
    "plt.xlabel('Age');"
   ]
  },
  {
   "cell_type": "markdown",
   "metadata": {},
   "source": [
    "<b>People aged about 60 years old are best represented age group in the population.</b>"
   ]
  },
  {
   "cell_type": "code",
   "execution_count": 92,
   "metadata": {
    "collapsed": false
   },
   "outputs": [
    {
     "data": {
      "text/plain": [
       "6"
      ]
     },
     "execution_count": 92,
     "metadata": {},
     "output_type": "execute_result"
    }
   ],
   "source": [
    "# What is the largest number of interviewees \n",
    "# that have exactly the same value in their Age \n",
    "# variable AND the same value in their Info.On.Internet variable?\n",
    "\n",
    "c = limited.groupby(['Age', 'Info.On.Internet'])\n",
    "c.size().max()"
   ]
  },
  {
   "cell_type": "code",
   "execution_count": 64,
   "metadata": {
    "collapsed": false
   },
   "outputs": [
    {
     "data": {
      "image/png": "[encoded data removed]",
      "text/plain": [
       "<matplotlib.figure.Figure at 0x10d873d0>"
      ]
     },
     "metadata": {},
     "output_type": "display_data"
    }
   ],
   "source": [
    "# lets analyze the relationship between age and info.on.internet variable\n",
    "limited.plot('Age', 'Info.On.Internet', alpha=.3, kind='scatter');\n",
    "plt.xlabel('Age');\n",
    "plt.ylabel('Information on Internet');\n",
    "plt.title('Relationship between age and Information on Internet');"
   ]
  },
  {
   "cell_type": "markdown",
   "metadata": {},
   "source": [
    "#### For younger people aged 18-30, the average value of Info.On.Internet appears to be roughly 5, while most peopled aged 60 and older have a value less than 5. Therefore, older age appears to be associated with a smaller value of Info.On.Internet, but from the spread of dots on the image, it's clear the association is not particularly strong."
   ]
  },
  {
   "cell_type": "code",
   "execution_count": 89,
   "metadata": {
    "collapsed": false
   },
   "outputs": [
    {
     "data": {
      "text/plain": [
       "Smartphone\n",
       "0             285\n",
       "1             487\n",
       "dtype: int64"
      ]
     },
     "execution_count": 89,
     "metadata": {},
     "output_type": "execute_result"
    }
   ],
   "source": [
    "# Summary of Info.on.Internet value broken down by whether interviewee is a smartphone user or not\n",
    "c = limited.groupby(['Smartphone'])\n",
    "c.size()"
   ]
  },
  {
   "cell_type": "code",
   "execution_count": 90,
   "metadata": {
    "collapsed": false
   },
   "outputs": [
    {
     "data": {
      "text/plain": [
       "Smartphone\n",
       "0             2.922807\n",
       "1             4.367556\n",
       "Name: Info.On.Internet, dtype: float64"
      ]
     },
     "execution_count": 90,
     "metadata": {},
     "output_type": "execute_result"
    }
   ],
   "source": [
    "# What is the average Info.On.Internet value for smartphone users ?\n",
    "c.aggregate(np.mean)['Info.On.Internet']"
   ]
  },
  {
   "cell_type": "code",
   "execution_count": 91,
   "metadata": {
    "collapsed": false
   },
   "outputs": [
    {
     "data": {
      "text/plain": [
       "Smartphone\n",
       "0             0.115789\n",
       "1             0.190965\n",
       "Name: Tried.Masking.Identity, dtype: float64"
      ]
     },
     "execution_count": 91,
     "metadata": {},
     "output_type": "execute_result"
    }
   ],
   "source": [
    "# What proportion of smartphone users who answered the Tried.Masking.Identity question \n",
    "# have tried masking their identity when using the Internet?\n",
    "\n",
    "c['Tried.Masking.Identity'].apply(lambda x: list(x).count(1) * 1. / x.shape[0])"
   ]
  }
 ],
 "metadata": {
  "kernelspec": {
   "display_name": "Python 2",
   "language": "python",
   "name": "python2"
  },
  "language_info": {
   "codemirror_mode": {
    "name": "ipython",
    "version": 2
   },
   "file_extension": ".py",
   "mimetype": "text/x-python",
   "name": "python",
   "nbconvert_exporter": "python",
   "pygments_lexer": "ipython2",
   "version": "2.7.6"
  }
 },
 "nbformat": 4,
 "nbformat_minor": 0
}
