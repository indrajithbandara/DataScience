{
 "cells": [
  {
   "cell_type": "code",
   "execution_count": 2,
   "metadata": {
    "collapsed": true
   },
   "outputs": [],
   "source": [
    "# import libraries\n",
    "import numpy as np\n",
    "import pandas as pd\n",
    "import seaborn as sns\n",
    "%matplotlib inline"
   ]
  },
  {
   "cell_type": "code",
   "execution_count": 54,
   "metadata": {
    "collapsed": false
   },
   "outputs": [
    {
     "data": {
      "text/html": [
       "<div style=\"max-height:1000px;max-width:1500px;overflow:auto;\">\n",
       "<table border=\"1\" class=\"dataframe\">\n",
       "  <thead>\n",
       "    <tr style=\"text-align: right;\">\n",
       "      <th></th>\n",
       "      <th>ID</th>\n",
       "      <th>Date</th>\n",
       "      <th>LocationDescription</th>\n",
       "      <th>Arrest</th>\n",
       "      <th>Domestic</th>\n",
       "      <th>Beat</th>\n",
       "      <th>District</th>\n",
       "      <th>CommunityArea</th>\n",
       "      <th>Year</th>\n",
       "      <th>Latitude</th>\n",
       "      <th>Longitude</th>\n",
       "    </tr>\n",
       "  </thead>\n",
       "  <tbody>\n",
       "    <tr>\n",
       "      <th>0</th>\n",
       "      <td> 8951354</td>\n",
       "      <td>2012-12-31 23:15:00</td>\n",
       "      <td>                        STREET</td>\n",
       "      <td> False</td>\n",
       "      <td> False</td>\n",
       "      <td>  623</td>\n",
       "      <td>  6</td>\n",
       "      <td> 69</td>\n",
       "      <td> 2012</td>\n",
       "      <td> 41.756284</td>\n",
       "      <td>-87.621645</td>\n",
       "    </tr>\n",
       "    <tr>\n",
       "      <th>1</th>\n",
       "      <td> 8951141</td>\n",
       "      <td>2012-12-31 22:00:00</td>\n",
       "      <td>                        STREET</td>\n",
       "      <td> False</td>\n",
       "      <td> False</td>\n",
       "      <td> 1213</td>\n",
       "      <td> 12</td>\n",
       "      <td> 24</td>\n",
       "      <td> 2012</td>\n",
       "      <td> 41.898788</td>\n",
       "      <td>-87.661303</td>\n",
       "    </tr>\n",
       "    <tr>\n",
       "      <th>2</th>\n",
       "      <td> 8952745</td>\n",
       "      <td>2012-12-31 22:00:00</td>\n",
       "      <td> RESIDENTIAL YARD (FRONT/BACK)</td>\n",
       "      <td> False</td>\n",
       "      <td> False</td>\n",
       "      <td> 1622</td>\n",
       "      <td> 16</td>\n",
       "      <td> 11</td>\n",
       "      <td> 2012</td>\n",
       "      <td> 41.969186</td>\n",
       "      <td>-87.767670</td>\n",
       "    </tr>\n",
       "    <tr>\n",
       "      <th>3</th>\n",
       "      <td> 8952223</td>\n",
       "      <td>2012-12-31 22:00:00</td>\n",
       "      <td>                        STREET</td>\n",
       "      <td> False</td>\n",
       "      <td> False</td>\n",
       "      <td>  724</td>\n",
       "      <td>  7</td>\n",
       "      <td> 67</td>\n",
       "      <td> 2012</td>\n",
       "      <td> 41.769329</td>\n",
       "      <td>-87.657726</td>\n",
       "    </tr>\n",
       "    <tr>\n",
       "      <th>4</th>\n",
       "      <td> 8951608</td>\n",
       "      <td>2012-12-31 21:30:00</td>\n",
       "      <td>                        STREET</td>\n",
       "      <td> False</td>\n",
       "      <td> False</td>\n",
       "      <td>  211</td>\n",
       "      <td>  2</td>\n",
       "      <td> 35</td>\n",
       "      <td> 2012</td>\n",
       "      <td> 41.837568</td>\n",
       "      <td>-87.621761</td>\n",
       "    </tr>\n",
       "  </tbody>\n",
       "</table>\n",
       "</div>"
      ],
      "text/plain": [
       "        ID                Date            LocationDescription Arrest Domestic  \\\n",
       "0  8951354 2012-12-31 23:15:00                         STREET  False    False   \n",
       "1  8951141 2012-12-31 22:00:00                         STREET  False    False   \n",
       "2  8952745 2012-12-31 22:00:00  RESIDENTIAL YARD (FRONT/BACK)  False    False   \n",
       "3  8952223 2012-12-31 22:00:00                         STREET  False    False   \n",
       "4  8951608 2012-12-31 21:30:00                         STREET  False    False   \n",
       "\n",
       "   Beat District CommunityArea  Year   Latitude  Longitude  \n",
       "0   623        6            69  2012  41.756284 -87.621645  \n",
       "1  1213       12            24  2012  41.898788 -87.661303  \n",
       "2  1622       16            11  2012  41.969186 -87.767670  \n",
       "3   724        7            67  2012  41.769329 -87.657726  \n",
       "4   211        2            35  2012  41.837568 -87.621761  "
      ]
     },
     "execution_count": 54,
     "metadata": {},
     "output_type": "execute_result"
    }
   ],
   "source": [
    "mvt = pd.read_csv('./data/mvtWeek1.csv', parse_dates=[1], low_memory=False); mvt.head()"
   ]
  },
  {
   "cell_type": "code",
   "execution_count": 55,
   "metadata": {
    "collapsed": false
   },
   "outputs": [
    {
     "name": "stdout",
     "output_type": "stream",
     "text": [
      "<class 'pandas.core.frame.DataFrame'>\n",
      "Int64Index: 191641 entries, 0 to 191640\n",
      "Data columns (total 11 columns):\n",
      "ID                     191641 non-null int64\n",
      "Date                   191641 non-null datetime64[ns]\n",
      "LocationDescription    191641 non-null object\n",
      "Arrest                 191641 non-null bool\n",
      "Domestic               191641 non-null bool\n",
      "Beat                   191641 non-null int64\n",
      "District               148589 non-null object\n",
      "CommunityArea          167038 non-null object\n",
      "Year                   191641 non-null int64\n",
      "Latitude               189365 non-null float64\n",
      "Longitude              189365 non-null float64\n",
      "dtypes: bool(2), datetime64[ns](1), float64(2), int64(3), object(3)\n",
      "memory usage: 12.8+ MB\n"
     ]
    }
   ],
   "source": [
    "mvt.info()"
   ]
  },
  {
   "cell_type": "code",
   "execution_count": 56,
   "metadata": {
    "collapsed": false
   },
   "outputs": [
    {
     "name": "stdout",
     "output_type": "stream",
     "text": [
      "191641\n"
     ]
    }
   ],
   "source": [
    "# Question 1. How many rows of data (observations) in the dataset?\n",
    "print mvt.shape[0]"
   ]
  },
  {
   "cell_type": "code",
   "execution_count": 57,
   "metadata": {
    "collapsed": false
   },
   "outputs": [
    {
     "name": "stdout",
     "output_type": "stream",
     "text": [
      "11\n"
     ]
    }
   ],
   "source": [
    "# Question 2. How many variables are in this dataset?\n",
    "print mvt.shape[1]"
   ]
  },
  {
   "cell_type": "code",
   "execution_count": 58,
   "metadata": {
    "collapsed": false
   },
   "outputs": [
    {
     "name": "stdout",
     "output_type": "stream",
     "text": [
      "9181151\n"
     ]
    }
   ],
   "source": [
    "# Question 3. What is the max value of the variable ID?\n",
    "print mvt.ID.max()"
   ]
  },
  {
   "cell_type": "code",
   "execution_count": 59,
   "metadata": {
    "collapsed": false
   },
   "outputs": [
    {
     "name": "stdout",
     "output_type": "stream",
     "text": [
      "111\n"
     ]
    }
   ],
   "source": [
    "# Question 4. What is the minimum value of the variable 'Beat' ?\n",
    "print mvt.Beat.min()"
   ]
  },
  {
   "cell_type": "code",
   "execution_count": 60,
   "metadata": {
    "collapsed": false
   },
   "outputs": [
    {
     "name": "stdout",
     "output_type": "stream",
     "text": [
      "15536\n"
     ]
    }
   ],
   "source": [
    "# Question 5. How many observations have value TRUE in the Arrest variable (this is the number of crimes for which an arrest was made)?\n",
    "print len(mvt[mvt.Arrest == True])"
   ]
  },
  {
   "cell_type": "code",
   "execution_count": 61,
   "metadata": {
    "collapsed": false
   },
   "outputs": [
    {
     "name": "stdout",
     "output_type": "stream",
     "text": [
      "2308\n"
     ]
    }
   ],
   "source": [
    "# Question 6. How many observations have a LocationDescription value of ALLEY?\n",
    "print len(mvt[mvt.LocationDescription == 'ALLEY'])"
   ]
  },
  {
   "cell_type": "code",
   "execution_count": 62,
   "metadata": {
    "collapsed": false
   },
   "outputs": [
    {
     "data": {
      "text/plain": [
       "Timestamp('2006-05-21 12:30:00')"
      ]
     },
     "execution_count": 62,
     "metadata": {},
     "output_type": "execute_result"
    }
   ],
   "source": [
    "# Question: What is the month and year of the median date in our dataset? Enter your answer as \"Month Year\"\n",
    "mvt.Date.order().ix[mvt.shape[0]/2] # May 2006"
   ]
  },
  {
   "cell_type": "code",
   "execution_count": 63,
   "metadata": {
    "collapsed": true
   },
   "outputs": [],
   "source": [
    "mvt['Month'] = mvt.Date.dt.month\n",
    "mvt['WeekDay'] = mvt.Date.dt.dayofweek\n",
    "mvt['Year'] = mvt.Date.dt.year"
   ]
  },
  {
   "cell_type": "code",
   "execution_count": 64,
   "metadata": {
    "collapsed": false
   },
   "outputs": [
    {
     "data": {
      "text/plain": [
       "10    17086\n",
       "7     16801\n",
       "8     16572\n",
       "12    16426\n",
       "11    16063\n",
       "9     16060\n",
       "1     16047\n",
       "5     16035\n",
       "6     16002\n",
       "3     15758\n",
       "4     15280\n",
       "2     13511\n",
       "dtype: int64"
      ]
     },
     "execution_count": 64,
     "metadata": {},
     "output_type": "execute_result"
    }
   ],
   "source": [
    "# Question: In which month did the fewest motor vehicle thefts occur ?\n",
    "mvt.Month.value_counts()"
   ]
  },
  {
   "cell_type": "code",
   "execution_count": 65,
   "metadata": {
    "collapsed": false
   },
   "outputs": [
    {
     "data": {
      "text/plain": [
       "4    29284\n",
       "2    27416\n",
       "0    27397\n",
       "3    27319\n",
       "5    27118\n",
       "1    26791\n",
       "6    26316\n",
       "dtype: int64"
      ]
     },
     "execution_count": 65,
     "metadata": {},
     "output_type": "execute_result"
    }
   ],
   "source": [
    "mvt.WeekDay.value_counts() # index starts Monday -> 0, Tuesday -> 1 ..."
   ]
  },
  {
   "cell_type": "code",
   "execution_count": 66,
   "metadata": {
    "collapsed": false
   },
   "outputs": [
    {
     "data": {
      "text/plain": [
       "1     1435\n",
       "12    1397\n",
       "10    1342\n",
       "8     1329\n",
       "7     1324\n",
       "3     1298\n",
       "11    1256\n",
       "4     1252\n",
       "9     1248\n",
       "2     1238\n",
       "6     1230\n",
       "5     1187\n",
       "dtype: int64"
      ]
     },
     "execution_count": 66,
     "metadata": {},
     "output_type": "execute_result"
    }
   ],
   "source": [
    "# Each observation in the dataset represents a motor vehicle theft, and the Arrest variable indicates whether an arrest was later made for this theft. \n",
    "# Which month has the largest number of motor vehicle thefts for which an arrest was made?\n",
    "\n",
    "mvt[mvt.Arrest == True].Month.value_counts()"
   ]
  },
  {
   "cell_type": "code",
   "execution_count": 68,
   "metadata": {
    "collapsed": false
   },
   "outputs": [
    {
     "data": {
      "image/png": "[encoded data removed]",
      "text/plain": [
       "<matplotlib.figure.Figure at 0x351f97f0>"
      ]
     },
     "metadata": {},
     "output_type": "display_data"
    }
   ],
   "source": [
    "# Visualization\n",
    "mvt.Year.plot(kind='hist', bins=100);"
   ]
  },
  {
   "cell_type": "code",
   "execution_count": 73,
   "metadata": {
    "collapsed": false
   },
   "outputs": [
    {
     "data": {
      "image/png": "[encoded data removed]",
      "text/plain": [
       "<matplotlib.figure.Figure at 0x34de49b0>"
      ]
     },
     "metadata": {},
     "output_type": "display_data"
    }
   ],
   "source": [
    "mvt.boxplot(column='Year', by='Arrest');"
   ]
  },
  {
   "cell_type": "code",
   "execution_count": 82,
   "metadata": {
    "collapsed": false
   },
   "outputs": [],
   "source": [
    "size = mvt.groupby(['Year', 'Arrest']).size()"
   ]
  },
  {
   "cell_type": "code",
   "execution_count": 84,
   "metadata": {
    "collapsed": false
   },
   "outputs": [],
   "source": [
    "# For what proportion of motor vehicles thefts in 2001 was an arrest made ?\n",
    "arrest_by_years = size.unstack()"
   ]
  },
  {
   "cell_type": "code",
   "execution_count": 93,
   "metadata": {
    "collapsed": false
   },
   "outputs": [],
   "source": [
    "arrest_by_years['prop'] = arrest_by_years[arrest_by_years.columns[1]] / (arrest_by_years[arrest_by_years.columns[0]] + arrest_by_years[arrest_by_years.columns[1]])"
   ]
  },
  {
   "cell_type": "code",
   "execution_count": 94,
   "metadata": {
    "collapsed": false
   },
   "outputs": [
    {
     "data": {
      "text/html": [
       "<div style=\"max-height:1000px;max-width:1500px;overflow:auto;\">\n",
       "<table border=\"1\" class=\"dataframe\">\n",
       "  <thead>\n",
       "    <tr style=\"text-align: right;\">\n",
       "      <th>Arrest</th>\n",
       "      <th>False</th>\n",
       "      <th>True</th>\n",
       "      <th>prop</th>\n",
       "    </tr>\n",
       "    <tr>\n",
       "      <th>Year</th>\n",
       "      <th></th>\n",
       "      <th></th>\n",
       "      <th></th>\n",
       "    </tr>\n",
       "  </thead>\n",
       "  <tbody>\n",
       "    <tr>\n",
       "      <th>2001</th>\n",
       "      <td> 18517</td>\n",
       "      <td> 2152</td>\n",
       "      <td> 0.104117</td>\n",
       "    </tr>\n",
       "    <tr>\n",
       "      <th>2002</th>\n",
       "      <td> 16638</td>\n",
       "      <td> 2115</td>\n",
       "      <td> 0.112782</td>\n",
       "    </tr>\n",
       "    <tr>\n",
       "      <th>2003</th>\n",
       "      <td> 14859</td>\n",
       "      <td> 1798</td>\n",
       "      <td> 0.107943</td>\n",
       "    </tr>\n",
       "    <tr>\n",
       "      <th>2004</th>\n",
       "      <td> 15169</td>\n",
       "      <td> 1693</td>\n",
       "      <td> 0.100403</td>\n",
       "    </tr>\n",
       "    <tr>\n",
       "      <th>2005</th>\n",
       "      <td> 14956</td>\n",
       "      <td> 1528</td>\n",
       "      <td> 0.092696</td>\n",
       "    </tr>\n",
       "    <tr>\n",
       "      <th>2006</th>\n",
       "      <td> 14796</td>\n",
       "      <td> 1302</td>\n",
       "      <td> 0.080880</td>\n",
       "    </tr>\n",
       "    <tr>\n",
       "      <th>2007</th>\n",
       "      <td> 13068</td>\n",
       "      <td> 1212</td>\n",
       "      <td> 0.084874</td>\n",
       "    </tr>\n",
       "    <tr>\n",
       "      <th>2008</th>\n",
       "      <td> 13425</td>\n",
       "      <td> 1020</td>\n",
       "      <td> 0.070613</td>\n",
       "    </tr>\n",
       "    <tr>\n",
       "      <th>2009</th>\n",
       "      <td> 11327</td>\n",
       "      <td>  840</td>\n",
       "      <td> 0.069039</td>\n",
       "    </tr>\n",
       "    <tr>\n",
       "      <th>2010</th>\n",
       "      <td> 14796</td>\n",
       "      <td>  701</td>\n",
       "      <td> 0.045235</td>\n",
       "    </tr>\n",
       "    <tr>\n",
       "      <th>2011</th>\n",
       "      <td> 15012</td>\n",
       "      <td>  625</td>\n",
       "      <td> 0.039969</td>\n",
       "    </tr>\n",
       "    <tr>\n",
       "      <th>2012</th>\n",
       "      <td> 13542</td>\n",
       "      <td>  550</td>\n",
       "      <td> 0.039029</td>\n",
       "    </tr>\n",
       "  </tbody>\n",
       "</table>\n",
       "</div>"
      ],
      "text/plain": [
       "Arrest  False  True      prop\n",
       "Year                         \n",
       "2001    18517  2152  0.104117\n",
       "2002    16638  2115  0.112782\n",
       "2003    14859  1798  0.107943\n",
       "2004    15169  1693  0.100403\n",
       "2005    14956  1528  0.092696\n",
       "2006    14796  1302  0.080880\n",
       "2007    13068  1212  0.084874\n",
       "2008    13425  1020  0.070613\n",
       "2009    11327   840  0.069039\n",
       "2010    14796   701  0.045235\n",
       "2011    15012   625  0.039969\n",
       "2012    13542   550  0.039029"
      ]
     },
     "execution_count": 94,
     "metadata": {},
     "output_type": "execute_result"
    }
   ],
   "source": [
    "arrest_by_years"
   ]
  },
  {
   "cell_type": "code",
   "execution_count": 96,
   "metadata": {
    "collapsed": false
   },
   "outputs": [
    {
     "data": {
      "text/plain": [
       "STREET                             156564\n",
       "PARKING LOT/GARAGE(NON.RESID.)      14852\n",
       "OTHER                                4573\n",
       "ALLEY                                2308\n",
       "GAS STATION                          2111\n",
       "DRIVEWAY - RESIDENTIAL               1675\n",
       "RESIDENTIAL YARD (FRONT/BACK)        1536\n",
       "RESIDENCE                            1302\n",
       "RESIDENCE-GARAGE                     1176\n",
       "VACANT LOT/LAND                       985\n",
       "VEHICLE NON-COMMERCIAL                817\n",
       "SIDEWALK                              462\n",
       "CHA PARKING LOT/GROUNDS               405\n",
       "AIRPORT/AIRCRAFT                      363\n",
       "POLICE FACILITY/VEH PARKING LOT       266\n",
       "...\n",
       "SAVINGS AND LOAN                               4\n",
       "BARBERSHOP                                     4\n",
       "CLEANING STORE                                 3\n",
       "MEDICAL/DENTAL OFFICE                          3\n",
       "BOWLING ALLEY                                  3\n",
       "COLLEGE/UNIVERSITY RESIDENCE HALL              2\n",
       "BRIDGE                                         2\n",
       "CURRENCY EXCHANGE                              2\n",
       "JAIL / LOCK-UP FACILITY                        1\n",
       "AIRPORT BUILDING NON-TERMINAL - SECURE AREA    1\n",
       "AIRPORT EXTERIOR - SECURE AREA                 1\n",
       "ANIMAL HOSPITAL                                1\n",
       "CTA TRAIN                                      1\n",
       "APPLIANCE STORE                                1\n",
       "NEWSSTAND                                      1\n",
       "Length: 78, dtype: int64"
      ]
     },
     "execution_count": 96,
     "metadata": {},
     "output_type": "execute_result"
    }
   ],
   "source": [
    "mvt.LocationDescription.value_counts().order(ascending=False)"
   ]
  },
  {
   "cell_type": "code",
   "execution_count": 97,
   "metadata": {
    "collapsed": false
   },
   "outputs": [
    {
     "name": "stdout",
     "output_type": "stream",
     "text": [
      "177510\n"
     ]
    }
   ],
   "source": [
    "mvt_top_5_locations = mvt[(mvt.LocationDescription == 'STREET')|\n",
    "                         (mvt.LocationDescription == 'PARKING LOT/GARAGE(NON.RESID.)')|\n",
    "                         (mvt.LocationDescription == 'ALLEY')|\n",
    "                         (mvt.LocationDescription == 'GAS STATION')|\n",
    "                         (mvt.LocationDescription == 'DRIVEWAY - RESIDENTIAL')]\n",
    "\n",
    "print len(mvt_top_5_locations)"
   ]
  },
  {
   "cell_type": "code",
   "execution_count": 119,
   "metadata": {
    "collapsed": false
   },
   "outputs": [],
   "source": [
    "h = mvt_top_5_locations.groupby(['LocationDescription', 'Arrest']).size()"
   ]
  },
  {
   "cell_type": "code",
   "execution_count": 120,
   "metadata": {
    "collapsed": false
   },
   "outputs": [],
   "source": [
    "c = h.unstack()"
   ]
  },
  {
   "cell_type": "code",
   "execution_count": 121,
   "metadata": {
    "collapsed": false
   },
   "outputs": [
    {
     "data": {
      "text/html": [
       "<div style=\"max-height:1000px;max-width:1500px;overflow:auto;\">\n",
       "<table border=\"1\" class=\"dataframe\">\n",
       "  <thead>\n",
       "    <tr style=\"text-align: right;\">\n",
       "      <th>Arrest</th>\n",
       "      <th>False</th>\n",
       "      <th>True</th>\n",
       "    </tr>\n",
       "    <tr>\n",
       "      <th>LocationDescription</th>\n",
       "      <th></th>\n",
       "      <th></th>\n",
       "    </tr>\n",
       "  </thead>\n",
       "  <tbody>\n",
       "    <tr>\n",
       "      <th>ALLEY</th>\n",
       "      <td>   2059</td>\n",
       "      <td>   249</td>\n",
       "    </tr>\n",
       "    <tr>\n",
       "      <th>DRIVEWAY - RESIDENTIAL</th>\n",
       "      <td>   1543</td>\n",
       "      <td>   132</td>\n",
       "    </tr>\n",
       "    <tr>\n",
       "      <th>GAS STATION</th>\n",
       "      <td>   1672</td>\n",
       "      <td>   439</td>\n",
       "    </tr>\n",
       "    <tr>\n",
       "      <th>PARKING LOT/GARAGE(NON.RESID.)</th>\n",
       "      <td>  13249</td>\n",
       "      <td>  1603</td>\n",
       "    </tr>\n",
       "    <tr>\n",
       "      <th>STREET</th>\n",
       "      <td> 144969</td>\n",
       "      <td> 11595</td>\n",
       "    </tr>\n",
       "  </tbody>\n",
       "</table>\n",
       "</div>"
      ],
      "text/plain": [
       "Arrest                           False  True \n",
       "LocationDescription                          \n",
       "ALLEY                             2059    249\n",
       "DRIVEWAY - RESIDENTIAL            1543    132\n",
       "GAS STATION                       1672    439\n",
       "PARKING LOT/GARAGE(NON.RESID.)   13249   1603\n",
       "STREET                          144969  11595"
      ]
     },
     "execution_count": 121,
     "metadata": {},
     "output_type": "execute_result"
    }
   ],
   "source": [
    "c.head()"
   ]
  },
  {
   "cell_type": "code",
   "execution_count": 122,
   "metadata": {
    "collapsed": false
   },
   "outputs": [],
   "source": [
    "c['prop'] = c[c.columns[1]] / (c[c.columns[0]] + c[c.columns[1]])"
   ]
  },
  {
   "cell_type": "code",
   "execution_count": 123,
   "metadata": {
    "collapsed": false
   },
   "outputs": [
    {
     "data": {
      "text/plain": [
       "LocationDescription\n",
       "GAS STATION                       0.207958\n",
       "PARKING LOT/GARAGE(NON.RESID.)    0.107932\n",
       "ALLEY                             0.107886\n",
       "DRIVEWAY - RESIDENTIAL            0.078806\n",
       "STREET                            0.074059\n",
       "Name: prop, dtype: float64"
      ]
     },
     "execution_count": 123,
     "metadata": {},
     "output_type": "execute_result"
    }
   ],
   "source": [
    "c.prop.order(ascending=False)"
   ]
  },
  {
   "cell_type": "code",
   "execution_count": 129,
   "metadata": {
    "collapsed": false
   },
   "outputs": [],
   "source": [
    "df = mvt_top_5_locations.groupby(['LocationDescription', 'WeekDay']).size()"
   ]
  },
  {
   "cell_type": "code",
   "execution_count": 131,
   "metadata": {
    "collapsed": false
   },
   "outputs": [],
   "source": [
    "df = df.unstack()"
   ]
  },
  {
   "cell_type": "code",
   "execution_count": 134,
   "metadata": {
    "collapsed": false
   },
   "outputs": [
    {
     "data": {
      "text/html": [
       "<div style=\"max-height:1000px;max-width:1500px;overflow:auto;\">\n",
       "<table border=\"1\" class=\"dataframe\">\n",
       "  <thead>\n",
       "    <tr style=\"text-align: right;\">\n",
       "      <th>WeekDay</th>\n",
       "      <th>0</th>\n",
       "      <th>1</th>\n",
       "      <th>2</th>\n",
       "      <th>3</th>\n",
       "      <th>4</th>\n",
       "      <th>5</th>\n",
       "      <th>6</th>\n",
       "    </tr>\n",
       "    <tr>\n",
       "      <th>LocationDescription</th>\n",
       "      <th></th>\n",
       "      <th></th>\n",
       "      <th></th>\n",
       "      <th></th>\n",
       "      <th></th>\n",
       "      <th></th>\n",
       "      <th></th>\n",
       "    </tr>\n",
       "  </thead>\n",
       "  <tbody>\n",
       "    <tr>\n",
       "      <th>ALLEY</th>\n",
       "      <td>   320</td>\n",
       "      <td>   323</td>\n",
       "      <td>   317</td>\n",
       "      <td>   315</td>\n",
       "      <td>   385</td>\n",
       "      <td>   341</td>\n",
       "      <td>   307</td>\n",
       "    </tr>\n",
       "    <tr>\n",
       "      <th>DRIVEWAY - RESIDENTIAL</th>\n",
       "      <td>   255</td>\n",
       "      <td>   243</td>\n",
       "      <td>   234</td>\n",
       "      <td>   263</td>\n",
       "      <td>   257</td>\n",
       "      <td>   202</td>\n",
       "      <td>   221</td>\n",
       "    </tr>\n",
       "    <tr>\n",
       "      <th>GAS STATION</th>\n",
       "      <td>   280</td>\n",
       "      <td>   270</td>\n",
       "      <td>   273</td>\n",
       "      <td>   282</td>\n",
       "      <td>   332</td>\n",
       "      <td>   338</td>\n",
       "      <td>   336</td>\n",
       "    </tr>\n",
       "    <tr>\n",
       "      <th>PARKING LOT/GARAGE(NON.RESID.)</th>\n",
       "      <td>  2128</td>\n",
       "      <td>  2073</td>\n",
       "      <td>  2103</td>\n",
       "      <td>  2082</td>\n",
       "      <td>  2331</td>\n",
       "      <td>  2199</td>\n",
       "      <td>  1936</td>\n",
       "    </tr>\n",
       "    <tr>\n",
       "      <th>STREET</th>\n",
       "      <td> 22305</td>\n",
       "      <td> 21888</td>\n",
       "      <td> 22371</td>\n",
       "      <td> 22296</td>\n",
       "      <td> 23773</td>\n",
       "      <td> 22175</td>\n",
       "      <td> 21756</td>\n",
       "    </tr>\n",
       "  </tbody>\n",
       "</table>\n",
       "</div>"
      ],
      "text/plain": [
       "WeekDay                             0      1      2      3      4      5  \\\n",
       "LocationDescription                                                        \n",
       "ALLEY                             320    323    317    315    385    341   \n",
       "DRIVEWAY - RESIDENTIAL            255    243    234    263    257    202   \n",
       "GAS STATION                       280    270    273    282    332    338   \n",
       "PARKING LOT/GARAGE(NON.RESID.)   2128   2073   2103   2082   2331   2199   \n",
       "STREET                          22305  21888  22371  22296  23773  22175   \n",
       "\n",
       "WeekDay                             6  \n",
       "LocationDescription                    \n",
       "ALLEY                             307  \n",
       "DRIVEWAY - RESIDENTIAL            221  \n",
       "GAS STATION                       336  \n",
       "PARKING LOT/GARAGE(NON.RESID.)   1936  \n",
       "STREET                          21756  "
      ]
     },
     "execution_count": 134,
     "metadata": {},
     "output_type": "execute_result"
    }
   ],
   "source": [
    "df"
   ]
  },
  {
   "cell_type": "code",
   "execution_count": 136,
   "metadata": {
    "collapsed": false
   },
   "outputs": [
    {
     "data": {
      "text/plain": [
       "LocationDescription\n",
       "GAS STATION            338\n",
       "dtype: int64"
      ]
     },
     "execution_count": 136,
     "metadata": {},
     "output_type": "execute_result"
    }
   ],
   "source": [
    "df[df.index == 'GAS STATION'].max(axis=1)"
   ]
  },
  {
   "cell_type": "code",
   "execution_count": 137,
   "metadata": {
    "collapsed": false
   },
   "outputs": [
    {
     "data": {
      "text/plain": [
       "LocationDescription\n",
       "DRIVEWAY - RESIDENTIAL    202\n",
       "dtype: int64"
      ]
     },
     "execution_count": 137,
     "metadata": {},
     "output_type": "execute_result"
    }
   ],
   "source": [
    "df[df.index == 'DRIVEWAY - RESIDENTIAL'].min(axis=1)"
   ]
  },
  {
   "cell_type": "code",
   "execution_count": null,
   "metadata": {
    "collapsed": true
   },
   "outputs": [],
   "source": []
  }
 ],
 "metadata": {
  "kernelspec": {
   "display_name": "Python 2",
   "language": "python",
   "name": "python2"
  },
  "language_info": {
   "codemirror_mode": {
    "name": "ipython",
    "version": 2
   },
   "file_extension": ".py",
   "mimetype": "text/x-python",
   "name": "python",
   "nbconvert_exporter": "python",
   "pygments_lexer": "ipython2",
   "version": "2.7.6"
  }
 },
 "nbformat": 4,
 "nbformat_minor": 0
}
